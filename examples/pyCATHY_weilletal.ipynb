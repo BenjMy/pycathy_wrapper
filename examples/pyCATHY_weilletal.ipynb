{
 "cells": [
  {
   "cell_type": "markdown",
   "id": "b9bce841-62d9-49d1-a32a-a4c0f5a52054",
   "metadata": {
    "id": "b9bce841-62d9-49d1-a32a-a4c0f5a52054",
    "iooxa": {
     "id": {
      "block": "inAkgSBLIBfZztqyNE1Y",
      "project": "rMYxipNnr5xd3SLSkYuv",
      "version": 1
     }
    }
   },
   "source": [
    "# Weill et al notebook CATHY exemple\n",
    "\n",
    "The CATHY gitbucket repository provides the Weill et al. dataset example to test the installation. On top of that, we provide a computational notebook code to reproduce the results using the **pyCATHY wrapper** (https://github.com/BenjMy/pycathy_wrapper). \n",
    "\n",
    "The notebook illustrate how to work interactively: execute single cell, see partial results at different processing steps (preprocessing, processing, output)... You can share it to work collaboratively on it by sharing the link and execute it from another PC without any installation required.\n"
   ]
  },
  {
   "cell_type": "markdown",
   "id": "qJPYzuNvS8wX",
   "metadata": {
    "id": "qJPYzuNvS8wX"
   },
   "source": [
    "We first need to load the pyCATHY package. The pyCATHY package is calling fortran codes via python subroutines and ease the process"
   ]
  },
  {
   "cell_type": "code",
   "execution_count": 1,
   "id": "cc9111d7-b249-412b-a97a-931498c4cfad",
   "metadata": {
    "execution": {
     "iopub.execute_input": "2021-09-01T15:21:35.725Z",
     "iopub.status.busy": "2021-09-01T15:21:35.716Z",
     "iopub.status.idle": "2021-09-01T15:22:10.296Z",
     "shell.execute_reply": "2021-09-01T15:22:10.318Z"
    },
    "id": "cc9111d7-b249-412b-a97a-931498c4cfad",
    "iooxa": {
     "id": {
      "block": "8O7ViOEA8RN3S59Tfmp8",
      "project": "rMYxipNnr5xd3SLSkYuv",
      "version": 1
     },
     "outputId": null
    }
   },
   "outputs": [],
   "source": [
    "%%capture\n",
    "!pip install git+https://github.com/BenjMy/pycathy_wrapper.git"
   ]
  },
  {
   "cell_type": "code",
   "execution_count": 3,
   "id": "be0ef8fe-51bb-4d86-b00a-fa027c286ecf",
   "metadata": {
    "execution": {
     "iopub.execute_input": "2021-09-01T15:22:10.310Z",
     "iopub.status.busy": "2021-09-01T15:22:10.304Z",
     "iopub.status.idle": "2021-09-01T15:22:10.720Z",
     "shell.execute_reply": "2021-09-01T15:22:10.714Z"
    },
    "id": "be0ef8fe-51bb-4d86-b00a-fa027c286ecf",
    "iooxa": {
     "id": {
      "block": "WZu23k3EZ0V9tTLAStWZ",
      "project": "rMYxipNnr5xd3SLSkYuv",
      "version": 1
     },
     "outputId": {
      "block": "U25mDkQjT6pb1CY3De27",
      "project": "rMYxipNnr5xd3SLSkYuv",
      "version": 1
     }
    }
   },
   "outputs": [
    {
     "name": "stdout",
     "output_type": "stream",
     "text": [
      "Requirement already satisfied: numpy in /home/ben/miniconda3/lib/python3.9/site-packages (1.21.2)\n",
      "Requirement already satisfied: GitPython in /home/ben/miniconda3/lib/python3.9/site-packages (3.1.18)\n",
      "Requirement already satisfied: pyvistaqt in /home/ben/miniconda3/lib/python3.9/site-packages (0.5.0)\n",
      "Requirement already satisfied: itkwidgets in /home/ben/miniconda3/lib/python3.9/site-packages (0.32.1)\n",
      "Requirement already satisfied: gitdb<5,>=4.0.1 in /home/ben/miniconda3/lib/python3.9/site-packages (from GitPython) (4.0.7)\n",
      "Requirement already satisfied: QtPy>=1.9.0 in /home/ben/miniconda3/lib/python3.9/site-packages (from pyvistaqt) (1.10.0)\n",
      "Requirement already satisfied: pyvista>=0.25.0 in /home/ben/miniconda3/lib/python3.9/site-packages (from pyvistaqt) (0.31.3)\n",
      "Requirement already satisfied: colorcet in /home/ben/miniconda3/lib/python3.9/site-packages (from itkwidgets) (2.0.6)\n",
      "Requirement already satisfied: ipywidgets>=7.5.1 in /home/ben/miniconda3/lib/python3.9/site-packages (from itkwidgets) (7.6.4)\n",
      "Requirement already satisfied: itk-meshtopolydata>=0.7.1 in /home/ben/miniconda3/lib/python3.9/site-packages (from itkwidgets) (0.7.1)\n",
      "Requirement already satisfied: itk-filtering>=5.2.0.post2 in /home/ben/miniconda3/lib/python3.9/site-packages (from itkwidgets) (5.2.1.post1)\n",
      "Requirement already satisfied: six in /home/ben/miniconda3/lib/python3.9/site-packages (from itkwidgets) (1.16.0)\n",
      "Requirement already satisfied: itk-core>=5.2.0.post2 in /home/ben/miniconda3/lib/python3.9/site-packages (from itkwidgets) (5.2.1.post1)\n",
      "Requirement already satisfied: matplotlib in /home/ben/miniconda3/lib/python3.9/site-packages (from itkwidgets) (3.4.3)\n",
      "Requirement already satisfied: ipympl>=0.4.1 in /home/ben/miniconda3/lib/python3.9/site-packages (from itkwidgets) (0.7.0)\n",
      "Requirement already satisfied: zstandard in /home/ben/miniconda3/lib/python3.9/site-packages (from itkwidgets) (0.15.2)\n",
      "Requirement already satisfied: ipydatawidgets>=4.0.1 in /home/ben/miniconda3/lib/python3.9/site-packages (from itkwidgets) (4.2.0)\n",
      "Requirement already satisfied: smmap<5,>=3.0.1 in /home/ben/miniconda3/lib/python3.9/site-packages (from gitdb<5,>=4.0.1->GitPython) (4.0.0)\n",
      "Requirement already satisfied: traittypes>=0.2.0 in /home/ben/miniconda3/lib/python3.9/site-packages (from ipydatawidgets>=4.0.1->itkwidgets) (0.2.1)\n",
      "Requirement already satisfied: ipykernel>=4.7 in /home/ben/miniconda3/lib/python3.9/site-packages (from ipympl>=0.4.1->itkwidgets) (6.2.0)\n",
      "Requirement already satisfied: traitlets<6.0,>=4.1.0 in /home/ben/miniconda3/lib/python3.9/site-packages (from ipykernel>=4.7->ipympl>=0.4.1->itkwidgets) (5.0.5)\n",
      "Requirement already satisfied: ipython<8.0,>=7.23.1 in /home/ben/miniconda3/lib/python3.9/site-packages (from ipykernel>=4.7->ipympl>=0.4.1->itkwidgets) (7.26.0)\n",
      "Requirement already satisfied: jupyter-client<8.0 in /home/ben/miniconda3/lib/python3.9/site-packages (from ipykernel>=4.7->ipympl>=0.4.1->itkwidgets) (6.1.12)\n",
      "Requirement already satisfied: debugpy<2.0,>=1.0.0 in /home/ben/miniconda3/lib/python3.9/site-packages (from ipykernel>=4.7->ipympl>=0.4.1->itkwidgets) (1.4.1)\n",
      "Requirement already satisfied: tornado<7.0,>=4.2 in /home/ben/miniconda3/lib/python3.9/site-packages (from ipykernel>=4.7->ipympl>=0.4.1->itkwidgets) (6.1)\n",
      "Requirement already satisfied: matplotlib-inline<0.2.0,>=0.1.0 in /home/ben/miniconda3/lib/python3.9/site-packages (from ipykernel>=4.7->ipympl>=0.4.1->itkwidgets) (0.1.2)\n",
      "Requirement already satisfied: pickleshare in /home/ben/miniconda3/lib/python3.9/site-packages (from ipython<8.0,>=7.23.1->ipykernel>=4.7->ipympl>=0.4.1->itkwidgets) (0.7.5)\n",
      "Requirement already satisfied: setuptools>=18.5 in /home/ben/miniconda3/lib/python3.9/site-packages (from ipython<8.0,>=7.23.1->ipykernel>=4.7->ipympl>=0.4.1->itkwidgets) (52.0.0.post20210125)\n",
      "Requirement already satisfied: jedi>=0.16 in /home/ben/miniconda3/lib/python3.9/site-packages (from ipython<8.0,>=7.23.1->ipykernel>=4.7->ipympl>=0.4.1->itkwidgets) (0.17.2)\n",
      "Requirement already satisfied: decorator in /home/ben/miniconda3/lib/python3.9/site-packages (from ipython<8.0,>=7.23.1->ipykernel>=4.7->ipympl>=0.4.1->itkwidgets) (5.0.9)\n",
      "Requirement already satisfied: prompt-toolkit!=3.0.0,!=3.0.1,<3.1.0,>=2.0.0 in /home/ben/miniconda3/lib/python3.9/site-packages (from ipython<8.0,>=7.23.1->ipykernel>=4.7->ipympl>=0.4.1->itkwidgets) (3.0.17)\n",
      "Requirement already satisfied: pexpect>4.3 in /home/ben/miniconda3/lib/python3.9/site-packages (from ipython<8.0,>=7.23.1->ipykernel>=4.7->ipympl>=0.4.1->itkwidgets) (4.8.0)\n",
      "Requirement already satisfied: backcall in /home/ben/miniconda3/lib/python3.9/site-packages (from ipython<8.0,>=7.23.1->ipykernel>=4.7->ipympl>=0.4.1->itkwidgets) (0.2.0)\n",
      "Requirement already satisfied: pygments in /home/ben/miniconda3/lib/python3.9/site-packages (from ipython<8.0,>=7.23.1->ipykernel>=4.7->ipympl>=0.4.1->itkwidgets) (2.10.0)\n",
      "Requirement already satisfied: ipython-genutils~=0.2.0 in /home/ben/miniconda3/lib/python3.9/site-packages (from ipywidgets>=7.5.1->itkwidgets) (0.2.0)\n",
      "Requirement already satisfied: widgetsnbextension~=3.5.0 in /home/ben/miniconda3/lib/python3.9/site-packages (from ipywidgets>=7.5.1->itkwidgets) (3.5.1)\n",
      "Requirement already satisfied: jupyterlab-widgets>=1.0.0 in /home/ben/miniconda3/lib/python3.9/site-packages (from ipywidgets>=7.5.1->itkwidgets) (1.0.1)\n",
      "Requirement already satisfied: nbformat>=4.2.0 in /home/ben/miniconda3/lib/python3.9/site-packages (from ipywidgets>=7.5.1->itkwidgets) (5.1.3)\n",
      "Requirement already satisfied: itk-numerics==5.2.1.post1 in /home/ben/miniconda3/lib/python3.9/site-packages (from itk-filtering>=5.2.0.post2->itkwidgets) (5.2.1.post1)\n",
      "Requirement already satisfied: parso<0.8.0,>=0.7.0 in /home/ben/miniconda3/lib/python3.9/site-packages (from jedi>=0.16->ipython<8.0,>=7.23.1->ipykernel>=4.7->ipympl>=0.4.1->itkwidgets) (0.7.0)\n",
      "Requirement already satisfied: python-dateutil>=2.1 in /home/ben/miniconda3/lib/python3.9/site-packages (from jupyter-client<8.0->ipykernel>=4.7->ipympl>=0.4.1->itkwidgets) (2.8.2)\n",
      "Requirement already satisfied: pyzmq>=13 in /home/ben/miniconda3/lib/python3.9/site-packages (from jupyter-client<8.0->ipykernel>=4.7->ipympl>=0.4.1->itkwidgets) (22.2.1)\n",
      "Requirement already satisfied: jupyter-core>=4.6.0 in /home/ben/miniconda3/lib/python3.9/site-packages (from jupyter-client<8.0->ipykernel>=4.7->ipympl>=0.4.1->itkwidgets) (4.7.1)\n",
      "Requirement already satisfied: pyparsing>=2.2.1 in /home/ben/miniconda3/lib/python3.9/site-packages (from matplotlib->itkwidgets) (2.4.7)\n",
      "Requirement already satisfied: cycler>=0.10 in /home/ben/miniconda3/lib/python3.9/site-packages (from matplotlib->itkwidgets) (0.10.0)\n",
      "Requirement already satisfied: pillow>=6.2.0 in /home/ben/miniconda3/lib/python3.9/site-packages (from matplotlib->itkwidgets) (8.3.2)\n",
      "Requirement already satisfied: kiwisolver>=1.0.1 in /home/ben/miniconda3/lib/python3.9/site-packages (from matplotlib->itkwidgets) (1.3.2)\n",
      "Requirement already satisfied: jsonschema!=2.5.0,>=2.4 in /home/ben/miniconda3/lib/python3.9/site-packages (from nbformat>=4.2.0->ipywidgets>=7.5.1->itkwidgets) (3.2.0)\n",
      "Requirement already satisfied: attrs>=17.4.0 in /home/ben/miniconda3/lib/python3.9/site-packages (from jsonschema!=2.5.0,>=2.4->nbformat>=4.2.0->ipywidgets>=7.5.1->itkwidgets) (21.2.0)\n",
      "Requirement already satisfied: pyrsistent>=0.14.0 in /home/ben/miniconda3/lib/python3.9/site-packages (from jsonschema!=2.5.0,>=2.4->nbformat>=4.2.0->ipywidgets>=7.5.1->itkwidgets) (0.18.0)\n",
      "Requirement already satisfied: ptyprocess>=0.5 in /home/ben/miniconda3/lib/python3.9/site-packages (from pexpect>4.3->ipython<8.0,>=7.23.1->ipykernel>=4.7->ipympl>=0.4.1->itkwidgets) (0.7.0)\n",
      "Requirement already satisfied: wcwidth in /home/ben/miniconda3/lib/python3.9/site-packages (from prompt-toolkit!=3.0.0,!=3.0.1,<3.1.0,>=2.0.0->ipython<8.0,>=7.23.1->ipykernel>=4.7->ipympl>=0.4.1->itkwidgets) (0.2.5)\n",
      "Requirement already satisfied: scooby>=0.5.1 in /home/ben/miniconda3/lib/python3.9/site-packages (from pyvista>=0.25.0->pyvistaqt) (0.5.7)\n",
      "Requirement already satisfied: appdirs in /home/ben/miniconda3/lib/python3.9/site-packages (from pyvista>=0.25.0->pyvistaqt) (1.4.4)\n",
      "Requirement already satisfied: meshio<5.0,>=4.0.3 in /home/ben/miniconda3/lib/python3.9/site-packages (from pyvista>=0.25.0->pyvistaqt) (4.4.6)\n",
      "Requirement already satisfied: transforms3d==0.3.1 in /home/ben/miniconda3/lib/python3.9/site-packages (from pyvista>=0.25.0->pyvistaqt) (0.3.1)\n",
      "Requirement already satisfied: imageio in /home/ben/miniconda3/lib/python3.9/site-packages (from pyvista>=0.25.0->pyvistaqt) (2.9.0)\n",
      "Requirement already satisfied: vtk in /home/ben/miniconda3/lib/python3.9/site-packages (from pyvista>=0.25.0->pyvistaqt) (9.0.3)\n"
     ]
    },
    {
     "name": "stdout",
     "output_type": "stream",
     "text": [
      "Requirement already satisfied: notebook>=4.4.1 in /home/ben/miniconda3/lib/python3.9/site-packages (from widgetsnbextension~=3.5.0->ipywidgets>=7.5.1->itkwidgets) (6.4.3)\n",
      "Requirement already satisfied: argon2-cffi in /home/ben/miniconda3/lib/python3.9/site-packages (from notebook>=4.4.1->widgetsnbextension~=3.5.0->ipywidgets>=7.5.1->itkwidgets) (20.1.0)\n",
      "Requirement already satisfied: nbconvert in /home/ben/miniconda3/lib/python3.9/site-packages (from notebook>=4.4.1->widgetsnbextension~=3.5.0->ipywidgets>=7.5.1->itkwidgets) (6.1.0)\n",
      "Requirement already satisfied: terminado>=0.8.3 in /home/ben/miniconda3/lib/python3.9/site-packages (from notebook>=4.4.1->widgetsnbextension~=3.5.0->ipywidgets>=7.5.1->itkwidgets) (0.9.4)\n",
      "Requirement already satisfied: prometheus-client in /home/ben/miniconda3/lib/python3.9/site-packages (from notebook>=4.4.1->widgetsnbextension~=3.5.0->ipywidgets>=7.5.1->itkwidgets) (0.11.0)\n",
      "Requirement already satisfied: jinja2 in /home/ben/miniconda3/lib/python3.9/site-packages (from notebook>=4.4.1->widgetsnbextension~=3.5.0->ipywidgets>=7.5.1->itkwidgets) (3.0.1)\n",
      "Requirement already satisfied: Send2Trash>=1.5.0 in /home/ben/miniconda3/lib/python3.9/site-packages (from notebook>=4.4.1->widgetsnbextension~=3.5.0->ipywidgets>=7.5.1->itkwidgets) (1.5.0)\n",
      "Requirement already satisfied: cffi>=1.0.0 in /home/ben/miniconda3/lib/python3.9/site-packages (from argon2-cffi->notebook>=4.4.1->widgetsnbextension~=3.5.0->ipywidgets>=7.5.1->itkwidgets) (1.14.6)\n",
      "Requirement already satisfied: pycparser in /home/ben/miniconda3/lib/python3.9/site-packages (from cffi>=1.0.0->argon2-cffi->notebook>=4.4.1->widgetsnbextension~=3.5.0->ipywidgets>=7.5.1->itkwidgets) (2.20)\n",
      "Requirement already satisfied: pyct>=0.4.4 in /home/ben/miniconda3/lib/python3.9/site-packages (from colorcet->itkwidgets) (0.4.8)\n",
      "Requirement already satisfied: param>=1.7.0 in /home/ben/miniconda3/lib/python3.9/site-packages (from colorcet->itkwidgets) (1.11.1)\n",
      "Requirement already satisfied: MarkupSafe>=2.0 in /home/ben/miniconda3/lib/python3.9/site-packages (from jinja2->notebook>=4.4.1->widgetsnbextension~=3.5.0->ipywidgets>=7.5.1->itkwidgets) (2.0.1)\n",
      "Requirement already satisfied: bleach in /home/ben/miniconda3/lib/python3.9/site-packages (from nbconvert->notebook>=4.4.1->widgetsnbextension~=3.5.0->ipywidgets>=7.5.1->itkwidgets) (4.0.0)\n",
      "Requirement already satisfied: entrypoints>=0.2.2 in /home/ben/miniconda3/lib/python3.9/site-packages (from nbconvert->notebook>=4.4.1->widgetsnbextension~=3.5.0->ipywidgets>=7.5.1->itkwidgets) (0.3)\n",
      "Requirement already satisfied: mistune<2,>=0.8.1 in /home/ben/miniconda3/lib/python3.9/site-packages (from nbconvert->notebook>=4.4.1->widgetsnbextension~=3.5.0->ipywidgets>=7.5.1->itkwidgets) (0.8.4)\n",
      "Requirement already satisfied: defusedxml in /home/ben/miniconda3/lib/python3.9/site-packages (from nbconvert->notebook>=4.4.1->widgetsnbextension~=3.5.0->ipywidgets>=7.5.1->itkwidgets) (0.7.1)\n",
      "Requirement already satisfied: jupyterlab-pygments in /home/ben/miniconda3/lib/python3.9/site-packages (from nbconvert->notebook>=4.4.1->widgetsnbextension~=3.5.0->ipywidgets>=7.5.1->itkwidgets) (0.1.2)\n",
      "Requirement already satisfied: pandocfilters>=1.4.1 in /home/ben/miniconda3/lib/python3.9/site-packages (from nbconvert->notebook>=4.4.1->widgetsnbextension~=3.5.0->ipywidgets>=7.5.1->itkwidgets) (1.4.3)\n",
      "Requirement already satisfied: testpath in /home/ben/miniconda3/lib/python3.9/site-packages (from nbconvert->notebook>=4.4.1->widgetsnbextension~=3.5.0->ipywidgets>=7.5.1->itkwidgets) (0.5.0)\n",
      "Requirement already satisfied: nbclient<0.6.0,>=0.5.0 in /home/ben/miniconda3/lib/python3.9/site-packages (from nbconvert->notebook>=4.4.1->widgetsnbextension~=3.5.0->ipywidgets>=7.5.1->itkwidgets) (0.5.3)\n",
      "Requirement already satisfied: async-generator in /home/ben/miniconda3/lib/python3.9/site-packages (from nbclient<0.6.0,>=0.5.0->nbconvert->notebook>=4.4.1->widgetsnbextension~=3.5.0->ipywidgets>=7.5.1->itkwidgets) (1.10)\n",
      "Requirement already satisfied: nest-asyncio in /home/ben/miniconda3/lib/python3.9/site-packages (from nbclient<0.6.0,>=0.5.0->nbconvert->notebook>=4.4.1->widgetsnbextension~=3.5.0->ipywidgets>=7.5.1->itkwidgets) (1.5.1)\n",
      "Requirement already satisfied: packaging in /home/ben/miniconda3/lib/python3.9/site-packages (from bleach->nbconvert->notebook>=4.4.1->widgetsnbextension~=3.5.0->ipywidgets>=7.5.1->itkwidgets) (21.0)\n",
      "Requirement already satisfied: webencodings in /home/ben/miniconda3/lib/python3.9/site-packages (from bleach->nbconvert->notebook>=4.4.1->widgetsnbextension~=3.5.0->ipywidgets>=7.5.1->itkwidgets) (0.5.1)\n",
      "Requirement already satisfied: wslink>=0.1.3 in /home/ben/miniconda3/lib/python3.9/site-packages (from vtk->pyvista>=0.25.0->pyvistaqt) (1.0.7)\n",
      "Requirement already satisfied: autobahn>=17.7.1 in /home/ben/miniconda3/lib/python3.9/site-packages (from vtk->pyvista>=0.25.0->pyvistaqt) (21.3.1)\n",
      "Requirement already satisfied: Twisted>=17.5.0 in /home/ben/miniconda3/lib/python3.9/site-packages (from vtk->pyvista>=0.25.0->pyvistaqt) (21.7.0)\n",
      "Requirement already satisfied: txaio>=21.2.1 in /home/ben/miniconda3/lib/python3.9/site-packages (from autobahn>=17.7.1->vtk->pyvista>=0.25.0->pyvistaqt) (21.2.1)\n",
      "Requirement already satisfied: hyperlink>=21.0.0 in /home/ben/miniconda3/lib/python3.9/site-packages (from autobahn>=17.7.1->vtk->pyvista>=0.25.0->pyvistaqt) (21.0.0)\n",
      "Requirement already satisfied: cryptography>=3.4.6 in /home/ben/miniconda3/lib/python3.9/site-packages (from autobahn>=17.7.1->vtk->pyvista>=0.25.0->pyvistaqt) (3.4.7)\n",
      "Requirement already satisfied: idna>=2.5 in /home/ben/miniconda3/lib/python3.9/site-packages (from hyperlink>=21.0.0->autobahn>=17.7.1->vtk->pyvista>=0.25.0->pyvistaqt) (3.2)\n",
      "Requirement already satisfied: incremental>=21.3.0 in /home/ben/miniconda3/lib/python3.9/site-packages (from Twisted>=17.5.0->vtk->pyvista>=0.25.0->pyvistaqt) (21.3.0)\n",
      "Requirement already satisfied: typing-extensions>=3.6.5 in /home/ben/miniconda3/lib/python3.9/site-packages (from Twisted>=17.5.0->vtk->pyvista>=0.25.0->pyvistaqt) (3.10.0.0)\n",
      "Requirement already satisfied: zope.interface>=4.4.2 in /home/ben/miniconda3/lib/python3.9/site-packages (from Twisted>=17.5.0->vtk->pyvista>=0.25.0->pyvistaqt) (5.4.0)\n",
      "Requirement already satisfied: constantly>=15.1 in /home/ben/miniconda3/lib/python3.9/site-packages (from Twisted>=17.5.0->vtk->pyvista>=0.25.0->pyvistaqt) (15.1.0)\n",
      "Requirement already satisfied: Automat>=0.8.0 in /home/ben/miniconda3/lib/python3.9/site-packages (from Twisted>=17.5.0->vtk->pyvista>=0.25.0->pyvistaqt) (20.2.0)\n",
      "Requirement already satisfied: aiohttp in /home/ben/miniconda3/lib/python3.9/site-packages (from wslink>=0.1.3->vtk->pyvista>=0.25.0->pyvistaqt) (3.7.4.post0)\n",
      "Requirement already satisfied: yarl<2.0,>=1.0 in /home/ben/miniconda3/lib/python3.9/site-packages (from aiohttp->wslink>=0.1.3->vtk->pyvista>=0.25.0->pyvistaqt) (1.6.3)\n",
      "Requirement already satisfied: async-timeout<4.0,>=3.0 in /home/ben/miniconda3/lib/python3.9/site-packages (from aiohttp->wslink>=0.1.3->vtk->pyvista>=0.25.0->pyvistaqt) (3.0.1)\n",
      "Requirement already satisfied: chardet<5.0,>=2.0 in /home/ben/miniconda3/lib/python3.9/site-packages (from aiohttp->wslink>=0.1.3->vtk->pyvista>=0.25.0->pyvistaqt) (4.0.0)\n",
      "Requirement already satisfied: multidict<7.0,>=4.5 in /home/ben/miniconda3/lib/python3.9/site-packages (from aiohttp->wslink>=0.1.3->vtk->pyvista>=0.25.0->pyvistaqt) (5.1.0)\n"
     ]
    },
    {
     "ename": "ModuleNotFoundError",
     "evalue": "No module named 'pyCATHY'",
     "output_type": "error",
     "traceback": [
      "\u001b[0;31m---------------------------------------------------------------------------\u001b[0m",
      "\u001b[0;31mModuleNotFoundError\u001b[0m                       Traceback (most recent call last)",
      "\u001b[0;32m/tmp/ipykernel_205115/1221625819.py\u001b[0m in \u001b[0;36m<module>\u001b[0;34m\u001b[0m\n\u001b[1;32m      1\u001b[0m \u001b[0;31m# import cathy package and dependencies\u001b[0m\u001b[0;34m\u001b[0m\u001b[0;34m\u001b[0m\u001b[0;34m\u001b[0m\u001b[0m\n\u001b[1;32m      2\u001b[0m \u001b[0mget_ipython\u001b[0m\u001b[0;34m(\u001b[0m\u001b[0;34m)\u001b[0m\u001b[0;34m.\u001b[0m\u001b[0msystem\u001b[0m\u001b[0;34m(\u001b[0m\u001b[0;34m'pip install numpy GitPython pyvistaqt itkwidgets'\u001b[0m\u001b[0;34m)\u001b[0m\u001b[0;34m\u001b[0m\u001b[0;34m\u001b[0m\u001b[0m\n\u001b[0;32m----> 3\u001b[0;31m \u001b[0;32mfrom\u001b[0m \u001b[0mpyCATHY\u001b[0m \u001b[0;32mimport\u001b[0m \u001b[0mcathy_tools\u001b[0m\u001b[0;34m\u001b[0m\u001b[0;34m\u001b[0m\u001b[0m\n\u001b[0m\u001b[1;32m      4\u001b[0m \u001b[0;32mfrom\u001b[0m \u001b[0mpyCATHY\u001b[0m \u001b[0;32mimport\u001b[0m \u001b[0mplot_tools\u001b[0m \u001b[0;32mas\u001b[0m \u001b[0mcplt\u001b[0m\u001b[0;34m\u001b[0m\u001b[0;34m\u001b[0m\u001b[0m\n",
      "\u001b[0;31mModuleNotFoundError\u001b[0m: No module named 'pyCATHY'"
     ]
    }
   ],
   "source": [
    "# import cathy package and dependencies\n",
    "!pip install numpy GitPython pyvistaqt itkwidgets \n",
    "from pyCATHY import cathy_tools\n",
    "from pyCATHY import plot_tools as cplt\n"
   ]
  },
  {
   "cell_type": "markdown",
   "id": "05b2c551-d747-4985-bdc6-38240c7d2bdd",
   "metadata": {
    "id": "05b2c551-d747-4985-bdc6-38240c7d2bdd",
    "iooxa": {
     "id": {
      "block": "rKARPFtglHqqUzz2RmgB",
      "project": "rMYxipNnr5xd3SLSkYuv",
      "version": 1
     }
    }
   },
   "source": [
    "We initiate a CATHY object; if the CATHY src files are not included within the 'path2prj' folder, they are automatically fetched from the gitbucket repository (providing the notebook is initiated with an internet connection). \n",
    "\n",
    "\n",
    "\n",
    "> Files are temporarily located by default in the 'my_cathy_prj' folder. We recommand to make a local backup copy of this folder or save it to the drive.\n",
    "\n",
    "\n",
    "\n",
    "> Calling `cathy_tools.CATHY` returns an python-object `simu` where all the parameters are accessible through a python dict\n",
    "\n",
    "\n"
   ]
  },
  {
   "cell_type": "code",
   "execution_count": null,
   "id": "26963549-0beb-4965-96bd-b58ade921911",
   "metadata": {
    "execution": {
     "iopub.execute_input": "2021-09-01T15:22:10.738Z",
     "iopub.status.busy": "2021-09-01T15:22:10.732Z",
     "iopub.status.idle": "2021-09-01T15:22:13.352Z",
     "shell.execute_reply": "2021-09-01T15:22:13.375Z"
    },
    "id": "26963549-0beb-4965-96bd-b58ade921911",
    "iooxa": {
     "id": {
      "block": "l8HvbeOrjDxAp58MmKBO",
      "project": "rMYxipNnr5xd3SLSkYuv",
      "version": 1
     },
     "outputId": {
      "block": "k89Y9Cq2HrwL0vNjEvxK",
      "project": "rMYxipNnr5xd3SLSkYuv",
      "version": 1
     }
    }
   },
   "outputs": [],
   "source": [
    "path2prj ='weil_exemple' # add your local path here\n",
    "simu = cathy_tools.CATHY(dirName=path2prj,\n",
    "             clear_src=False, clear_outputs=True)"
   ]
  },
  {
   "cell_type": "markdown",
   "id": "baaf2726-5d9c-4d33-a136-88244d3359c7",
   "metadata": {
    "id": "baaf2726-5d9c-4d33-a136-88244d3359c7",
    "iooxa": {
     "id": {
      "block": "iD9wQYY9G8CzsTXkLqBR",
      "project": "rMYxipNnr5xd3SLSkYuv",
      "version": 1
     }
    }
   },
   "source": [
    "# Step 1: preprocessing\n",
    "\n",
    "---\n",
    "We run the **preprocessor** `simu.run_preprocessor` with the default files inputs (weill et al example). \n",
    "This step create all the prepro files required for the processor later on.\n",
    "\n",
    "\n",
    "> If you need to change preprocessor parameters, pass the variable as an argument and change its value to update the corresponding file. For instance I want to ***change the resolution x to 0.1m*** of the DEM: ``` # simu.run_preprocessor(delta_x=0.1) ```\n",
    "\n",
    "\n",
    "\n",
    "\n",
    "\n"
   ]
  },
  {
   "cell_type": "code",
   "execution_count": null,
   "id": "0a3339ac-1a14-44d6-9f65-f5fa75dc2593",
   "metadata": {
    "execution": {
     "iopub.execute_input": "2021-09-01T15:22:13.366Z",
     "iopub.status.busy": "2021-09-01T15:22:13.361Z",
     "iopub.status.idle": "2021-09-01T15:22:20.176Z",
     "shell.execute_reply": "2021-09-01T15:22:20.209Z"
    },
    "id": "0a3339ac-1a14-44d6-9f65-f5fa75dc2593",
    "iooxa": {
     "id": {
      "block": "zyRa3wPA8mFA7dNuu0Xj",
      "project": "rMYxipNnr5xd3SLSkYuv",
      "version": 1
     },
     "outputId": {
      "block": "wZyxg5vOvxqp6mkbNc3d",
      "project": "rMYxipNnr5xd3SLSkYuv",
      "version": 1
     }
    }
   },
   "outputs": [],
   "source": [
    "simu.run_preprocessor(delta_x=0.1, verbose=False)"
   ]
  },
  {
   "cell_type": "markdown",
   "id": "bd27517c-db5a-45ab-8fd9-52b012da40e7",
   "metadata": {
    "id": "bd27517c-db5a-45ab-8fd9-52b012da40e7",
    "iooxa": {
     "id": {
      "block": "kcFxCYeVcmfSYvb0W7Jg",
      "project": "rMYxipNnr5xd3SLSkYuv",
      "version": 1
     }
    }
   },
   "source": [
    "# Step 2: processing\n",
    "---\n",
    "\n",
    "\n",
    "We run the **processor** with the default files inputs (weill et al example). This can last up to 3minutes"
   ]
  },
  {
   "cell_type": "code",
   "execution_count": null,
   "id": "b91d2755-0ee4-4dd9-a93f-ca870c616d52",
   "metadata": {
    "execution": {
     "iopub.execute_input": "2021-09-01T15:22:20.195Z",
     "iopub.status.busy": "2021-09-01T15:22:20.189Z",
     "iopub.status.idle": "2021-09-01T15:24:37.396Z",
     "shell.execute_reply": "2021-09-01T15:24:37.389Z"
    },
    "id": "b91d2755-0ee4-4dd9-a93f-ca870c616d52",
    "iooxa": {
     "id": {
      "block": "qtpkku1h6Gd1p42lmGAc",
      "project": "rMYxipNnr5xd3SLSkYuv",
      "version": 1
     },
     "outputId": {
      "block": "YvZeYbqxX81ymQb0k06H",
      "project": "rMYxipNnr5xd3SLSkYuv",
      "version": 1
     }
    }
   },
   "outputs": [],
   "source": [
    "simu.run_processor(verbose=False)"
   ]
  },
  {
   "cell_type": "markdown",
   "id": "1fa3dddd-1c9b-439c-b687-2af238694b72",
   "metadata": {
    "id": "1fa3dddd-1c9b-439c-b687-2af238694b72",
    "iooxa": {
     "id": {
      "block": "MOYopxMKU2NRlHNszjJE",
      "project": "rMYxipNnr5xd3SLSkYuv",
      "version": 1
     }
    }
   },
   "source": [
    "# Visualisation\n",
    "---\n",
    "Plot the results (for now using pyvista for 3d visualisation, need to update some dependencies before plotting)"
   ]
  },
  {
   "cell_type": "code",
   "execution_count": null,
   "id": "E55pCniaSyym",
   "metadata": {
    "id": "E55pCniaSyym"
   },
   "outputs": [],
   "source": [
    "%%capture\n",
    "!apt-get install -qq xvfb\n",
    "!pip install pyvista panel -q\n",
    "import os\n",
    "os.system('/usr/bin/Xvfb :99 -screen 0 1024x768x24 &')\n",
    "os.environ['DISPLAY'] = ':99'\n",
    "import panel as pn\n",
    "pn.extension('vtk')\n",
    "import ipywidgets as widgets\n",
    "import pyvista as pv"
   ]
  },
  {
   "cell_type": "code",
   "execution_count": null,
   "id": "13ab8a95-c236-4dcd-9d47-2d82bd2bdf7e",
   "metadata": {
    "id": "13ab8a95-c236-4dcd-9d47-2d82bd2bdf7e",
    "iooxa": {
     "id": {
      "block": "wQN2HERgXaAaI7dvgQOj",
      "project": "rMYxipNnr5xd3SLSkYuv",
      "version": 1
     },
     "outputId": null
    }
   },
   "outputs": [],
   "source": [
    "cplt.showvtk(unit='pressure',timeStep=1,notebook=True, path='./my_cathy_prj/vtk/')"
   ]
  }
 ],
 "metadata": {
  "colab": {
   "collapsed_sections": [],
   "name": "pyCATHY_weilletal.ipynb",
   "provenance": []
  },
  "iooxa": {
   "id": {
    "block": "VFj8bbPWtuzK8dAh207I",
    "project": "rMYxipNnr5xd3SLSkYuv",
    "version": 1
   }
  },
  "kernelspec": {
   "display_name": "Python 3 (ipykernel)",
   "language": "python",
   "name": "python3"
  },
  "language_info": {
   "codemirror_mode": {
    "name": "ipython",
    "version": 3
   },
   "file_extension": ".py",
   "mimetype": "text/x-python",
   "name": "python",
   "nbconvert_exporter": "python",
   "pygments_lexer": "ipython3",
   "version": "3.8.10"
  },
  "nteract": {
   "version": "0.28.0"
  }
 },
 "nbformat": 4,
 "nbformat_minor": 5
}
