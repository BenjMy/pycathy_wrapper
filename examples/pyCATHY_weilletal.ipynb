{
  "nbformat": 4,
  "nbformat_minor": 5,
  "metadata": {
    "kernelspec": {
      "display_name": "Python 3 (ipykernel)",
      "language": "python",
      "name": "python3"
    },
    "language_info": {
      "name": "python",
      "version": "3.8.10",
      "mimetype": "text/x-python",
      "codemirror_mode": {
        "name": "ipython",
        "version": 3
      },
      "pygments_lexer": "ipython3",
      "nbconvert_exporter": "python",
      "file_extension": ".py"
    },
    "iooxa": {
      "id": {
        "project": "rMYxipNnr5xd3SLSkYuv",
        "block": "VFj8bbPWtuzK8dAh207I",
        "version": 1
      }
    },
    "nteract": {
      "version": "0.28.0"
    },
    "colab": {
      "name": "pyCATHY_weilletal.ipynb",
      "provenance": [],
      "collapsed_sections": []
    }
  },
  "cells": [
    {
      "cell_type": "markdown",
      "metadata": {
        "iooxa": {
          "id": {
            "project": "rMYxipNnr5xd3SLSkYuv",
            "block": "inAkgSBLIBfZztqyNE1Y",
            "version": 1
          }
        },
        "id": "b9bce841-62d9-49d1-a32a-a4c0f5a52054"
      },
      "source": [
        "# Weill et al notebook CATHY exemple\n",
        "\n",
        "The CATHY gitbucket repository provides the Weill et al. dataset example to test the installation. On top of that, we provide a computational notebook code to reproduce the results using the **pyCATHY wrapper** (https://github.com/BenjMy/pycathy_wrapper). \n",
        "\n",
        "The notebook illustrate how to work interactively: execute single cell, see partial results at different processing steps (preprocessing, processing, output)... You can share it to work collaboratively on it by sharing the link and execute it from another PC without any installation required.\n"
      ],
      "id": "b9bce841-62d9-49d1-a32a-a4c0f5a52054"
    },
    {
      "cell_type": "markdown",
      "metadata": {
        "id": "qJPYzuNvS8wX"
      },
      "source": [
        "We first need to load the pyCATHY package. The pyCATHY package is calling fortran codes via python subroutines and ease the process"
      ],
      "id": "qJPYzuNvS8wX"
    },
    {
      "cell_type": "code",
      "metadata": {
        "iooxa": {
          "id": {
            "project": "rMYxipNnr5xd3SLSkYuv",
            "block": "8O7ViOEA8RN3S59Tfmp8",
            "version": 1
          },
          "outputId": null
        },
        "execution": {
          "iopub.status.busy": "2021-09-01T15:21:35.716Z",
          "iopub.execute_input": "2021-09-01T15:21:35.725Z",
          "iopub.status.idle": "2021-09-01T15:22:10.296Z",
          "shell.execute_reply": "2021-09-01T15:22:10.318Z"
        },
        "id": "cc9111d7-b249-412b-a97a-931498c4cfad"
      },
      "source": [
        "%%capture\n",
        "!pip install git+https://github.com/BenjMy/pycathy_wrapper.git"
      ],
      "id": "cc9111d7-b249-412b-a97a-931498c4cfad",
      "execution_count": 1,
      "outputs": []
    },
    {
      "cell_type": "code",
      "metadata": {
        "iooxa": {
          "id": {
            "project": "rMYxipNnr5xd3SLSkYuv",
            "block": "WZu23k3EZ0V9tTLAStWZ",
            "version": 1
          },
          "outputId": {
            "block": "U25mDkQjT6pb1CY3De27",
            "project": "rMYxipNnr5xd3SLSkYuv",
            "version": 1
          }
        },
        "execution": {
          "iopub.status.busy": "2021-09-01T15:22:10.304Z",
          "iopub.execute_input": "2021-09-01T15:22:10.310Z",
          "shell.execute_reply": "2021-09-01T15:22:10.714Z",
          "iopub.status.idle": "2021-09-01T15:22:10.720Z"
        },
        "id": "be0ef8fe-51bb-4d86-b00a-fa027c286ecf"
      },
      "source": [
        "# import cathy package and dependencies\n",
        "%%capture\n",
        "!pip install numpy GitPython pyvistaqt itkwidgets \n",
        "from pyCATHY import cathy_tools\n",
        "from pyCATHY import plot_tools as cplt\n"
      ],
      "id": "be0ef8fe-51bb-4d86-b00a-fa027c286ecf",
      "execution_count": 2,
      "outputs": []
    },
    {
      "cell_type": "markdown",
      "metadata": {
        "iooxa": {
          "id": {
            "project": "rMYxipNnr5xd3SLSkYuv",
            "block": "rKARPFtglHqqUzz2RmgB",
            "version": 1
          }
        },
        "id": "05b2c551-d747-4985-bdc6-38240c7d2bdd"
      },
      "source": [
        "We initiate a CATHY object; if the CATHY src files are not included within the 'path2prj' folder, they are automatically fetched from the gitbucket repository (providing the notebook is initiated with an internet connection). \n",
        "\n",
        "\n",
        "\n",
        "> Files are temporarily located by default in the 'my_cathy_prj' folder. We recommand to make a local backup copy of this folder or save it to the drive.\n",
        "\n",
        "\n",
        "\n",
        "> Calling `cathy_tools.CATHY` returns an python-object `simu` where all the parameters are accessible through a python dict\n",
        "\n",
        "\n"
      ],
      "id": "05b2c551-d747-4985-bdc6-38240c7d2bdd"
    },
    {
      "cell_type": "code",
      "metadata": {
        "iooxa": {
          "id": {
            "project": "rMYxipNnr5xd3SLSkYuv",
            "block": "l8HvbeOrjDxAp58MmKBO",
            "version": 1
          },
          "outputId": {
            "version": 1,
            "project": "rMYxipNnr5xd3SLSkYuv",
            "block": "k89Y9Cq2HrwL0vNjEvxK"
          }
        },
        "execution": {
          "iopub.status.busy": "2021-09-01T15:22:10.732Z",
          "iopub.execute_input": "2021-09-01T15:22:10.738Z",
          "iopub.status.idle": "2021-09-01T15:22:13.352Z",
          "shell.execute_reply": "2021-09-01T15:22:13.375Z"
        },
        "id": "26963549-0beb-4965-96bd-b58ade921911"
      },
      "source": [
        "path2prj ='weil_exemple' # add your local path here\n",
        "simu = cathy_tools.CATHY(dirName=path2prj,\n",
        "             clear_src=False, clear_outputs=True)"
      ],
      "id": "26963549-0beb-4965-96bd-b58ade921911",
      "execution_count": null,
      "outputs": []
    },
    {
      "cell_type": "markdown",
      "metadata": {
        "iooxa": {
          "id": {
            "project": "rMYxipNnr5xd3SLSkYuv",
            "block": "iD9wQYY9G8CzsTXkLqBR",
            "version": 1
          }
        },
        "id": "baaf2726-5d9c-4d33-a136-88244d3359c7"
      },
      "source": [
        "# Step 1: preprocessing\n",
        "\n",
        "---\n",
        "We run the **preprocessor** `simu.run_preprocessor` with the default files inputs (weill et al example). \n",
        "This step create all the prepro files required for the processor later on.\n",
        "\n",
        "\n",
        "> If you need to change preprocessor parameters, pass the variable as an argument and change its value to update the corresponding file. For instance I want to ***change the resolution x to 0.1m*** of the DEM: ``` # simu.run_preprocessor(delta_x=0.1) ```\n",
        "\n",
        "\n",
        "\n",
        "\n",
        "\n"
      ],
      "id": "baaf2726-5d9c-4d33-a136-88244d3359c7"
    },
    {
      "cell_type": "code",
      "metadata": {
        "iooxa": {
          "id": {
            "project": "rMYxipNnr5xd3SLSkYuv",
            "block": "zyRa3wPA8mFA7dNuu0Xj",
            "version": 1
          },
          "outputId": {
            "project": "rMYxipNnr5xd3SLSkYuv",
            "version": 1,
            "block": "wZyxg5vOvxqp6mkbNc3d"
          }
        },
        "execution": {
          "iopub.status.busy": "2021-09-01T15:22:13.361Z",
          "iopub.execute_input": "2021-09-01T15:22:13.366Z",
          "iopub.status.idle": "2021-09-01T15:22:20.176Z",
          "shell.execute_reply": "2021-09-01T15:22:20.209Z"
        },
        "id": "0a3339ac-1a14-44d6-9f65-f5fa75dc2593"
      },
      "source": [
        "simu.run_preprocessor(delta_x=0.1, verbose=False)"
      ],
      "id": "0a3339ac-1a14-44d6-9f65-f5fa75dc2593",
      "execution_count": null,
      "outputs": []
    },
    {
      "cell_type": "markdown",
      "metadata": {
        "iooxa": {
          "id": {
            "project": "rMYxipNnr5xd3SLSkYuv",
            "block": "kcFxCYeVcmfSYvb0W7Jg",
            "version": 1
          }
        },
        "id": "bd27517c-db5a-45ab-8fd9-52b012da40e7"
      },
      "source": [
        "# Step 2: processing\n",
        "---\n",
        "\n",
        "\n",
        "We run the **processor** with the default files inputs (weill et al example). This can last up to 3minutes"
      ],
      "id": "bd27517c-db5a-45ab-8fd9-52b012da40e7"
    },
    {
      "cell_type": "code",
      "metadata": {
        "iooxa": {
          "id": {
            "project": "rMYxipNnr5xd3SLSkYuv",
            "block": "qtpkku1h6Gd1p42lmGAc",
            "version": 1
          },
          "outputId": {
            "project": "rMYxipNnr5xd3SLSkYuv",
            "block": "YvZeYbqxX81ymQb0k06H",
            "version": 1
          }
        },
        "execution": {
          "iopub.status.busy": "2021-09-01T15:22:20.189Z",
          "iopub.execute_input": "2021-09-01T15:22:20.195Z",
          "shell.execute_reply": "2021-09-01T15:24:37.389Z",
          "iopub.status.idle": "2021-09-01T15:24:37.396Z"
        },
        "id": "b91d2755-0ee4-4dd9-a93f-ca870c616d52"
      },
      "source": [
        "simu.run_processor(verbose=False)"
      ],
      "id": "b91d2755-0ee4-4dd9-a93f-ca870c616d52",
      "execution_count": null,
      "outputs": []
    },
    {
      "cell_type": "markdown",
      "metadata": {
        "iooxa": {
          "id": {
            "project": "rMYxipNnr5xd3SLSkYuv",
            "block": "MOYopxMKU2NRlHNszjJE",
            "version": 1
          }
        },
        "id": "1fa3dddd-1c9b-439c-b687-2af238694b72"
      },
      "source": [
        "# Visualisation\n",
        "---\n",
        "Plot the results (for now using pyvista for 3d visualisation, need to update some dependencies before plotting)"
      ],
      "id": "1fa3dddd-1c9b-439c-b687-2af238694b72"
    },
    {
      "cell_type": "code",
      "metadata": {
        "id": "E55pCniaSyym"
      },
      "source": [
        "%%capture\n",
        "!apt-get install -qq xvfb\n",
        "!pip install pyvista panel -q\n",
        "import os\n",
        "os.system('/usr/bin/Xvfb :99 -screen 0 1024x768x24 &')\n",
        "os.environ['DISPLAY'] = ':99'\n",
        "import panel as pn\n",
        "pn.extension('vtk')\n",
        "import ipywidgets as widgets\n",
        "import pyvista as pv"
      ],
      "id": "E55pCniaSyym",
      "execution_count": 6,
      "outputs": []
    },
    {
      "cell_type": "code",
      "metadata": {
        "iooxa": {
          "id": {
            "project": "rMYxipNnr5xd3SLSkYuv",
            "block": "wQN2HERgXaAaI7dvgQOj",
            "version": 1
          },
          "outputId": null
        },
        "id": "13ab8a95-c236-4dcd-9d47-2d82bd2bdf7e"
      },
      "source": [
        "cplt.showvtk(unit='pressure',timeStep=1,notebook=True, path='./my_cathy_prj/vtk/')"
      ],
      "id": "13ab8a95-c236-4dcd-9d47-2d82bd2bdf7e",
      "execution_count": null,
      "outputs": []
    }
  ]
}