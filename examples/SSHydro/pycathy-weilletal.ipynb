{
  "metadata": {
    "kernelspec": {
      "display_name": "Python 3 (ipykernel)",
      "language": "python",
      "name": "python3"
    },
    "language_info": {
      "name": "python",
      "version": "3.8.10",
      "mimetype": "text/x-python",
      "codemirror_mode": {
        "name": "ipython",
        "version": 3
      },
      "pygments_lexer": "ipython3",
      "nbconvert_exporter": "python",
      "file_extension": ".py"
    },
    "nteract": {
      "version": "0.28.0"
    },
    "colab": {
      "name": "pyCATHY_weilletal.ipynb",
      "provenance": [],
      "collapsed_sections": []
    },
    "iooxa": {
      "id": {
        "project": "rMYxipNnr5xd3SLSkYuv",
        "block": "o5H7dT2azLCVqFfYO1fa",
        "version": 2
      }
    }
  },
  "nbformat": 4,
  "nbformat_minor": 5,
  "cells": [
    {
      "cell_type": "markdown",
      "metadata": {
        "id": "b9bce841-62d9-49d1-a32a-a4c0f5a52054",
        "iooxa": {
          "id": {
            "project": "rMYxipNnr5xd3SLSkYuv",
            "block": "HtixYXeNh7dhoxHdeO6V",
            "version": 1
          }
        }
      },
      "source": "# Weill et al notebook CATHY exemple\n\nThe CATHY gitbucket repository provides the Weill et al. dataset example to test the installation. On top of that, we provide a computational notebook code to reproduce the results using the **pyCATHY wrapper** (https://github.com/BenjMy/pycathy_wrapper). \n\nThe notebook illustrate how to work interactively: execute single cell, see partial results at different processing steps (preprocessing, processing, output)... You can share it to work collaboratively on it by sharing the link and execute it from another PC without any installation required.\n"
    },
    {
      "cell_type": "markdown",
      "metadata": {
        "id": "qJPYzuNvS8wX",
        "iooxa": {
          "id": {
            "project": "rMYxipNnr5xd3SLSkYuv",
            "block": "19rYh7cA2Gc6ENM3axte",
            "version": 1
          }
        }
      },
      "source": "We first need to load the pyCATHY package. The pyCATHY package is calling fortran codes via python subroutines and ease the process"
    },
    {
      "cell_type": "code",
      "metadata": {
        "execution": {
          "iopub.status.busy": "2021-09-01T15:21:35.716Z",
          "iopub.execute_input": "2021-09-01T15:21:35.725Z",
          "iopub.status.idle": "2021-09-01T15:22:10.296Z",
          "shell.execute_reply": "2021-09-01T15:22:10.318Z"
        },
        "id": "cc9111d7-b249-412b-a97a-931498c4cfad",
        "iooxa": {
          "id": {
            "project": "rMYxipNnr5xd3SLSkYuv",
            "block": "OMBGuORpczK3XcUwwN4H",
            "version": 1
          },
          "outputId": null
        }
      },
      "source": "%%capture\n!pip install git+https://github.com/BenjMy/pycathy_wrapper.git",
      "execution_count": 1,
      "outputs": []
    },
    {
      "cell_type": "code",
      "metadata": {
        "execution": {
          "iopub.status.busy": "2021-09-01T15:22:10.304Z",
          "iopub.execute_input": "2021-09-01T15:22:10.310Z",
          "shell.execute_reply": "2021-09-01T15:22:10.714Z",
          "iopub.status.idle": "2021-09-01T15:22:10.720Z"
        },
        "id": "be0ef8fe-51bb-4d86-b00a-fa027c286ecf",
        "iooxa": {
          "id": {
            "project": "rMYxipNnr5xd3SLSkYuv",
            "block": "MXPRI39C7jHYh6JZFDHY",
            "version": 1
          },
          "outputId": null
        }
      },
      "source": "# import cathy package and dependencies\n%%capture\n!pip install numpy GitPython pyvistaqt itkwidgets \nfrom pyCATHY import cathy_tools\nfrom pyCATHY import plot_tools as cplt\n",
      "execution_count": 2,
      "outputs": []
    },
    {
      "cell_type": "markdown",
      "metadata": {
        "id": "05b2c551-d747-4985-bdc6-38240c7d2bdd",
        "iooxa": {
          "id": {
            "project": "rMYxipNnr5xd3SLSkYuv",
            "block": "O5FnTCY6Xm1vVk39fpy3",
            "version": 1
          }
        }
      },
      "source": "We initiate a CATHY object; if the CATHY src files are not included within the 'path2prj' folder, they are automatically fetched from the gitbucket repository (providing the notebook is initiated with an internet connection). \n\n\n\n> Files are temporarily located by default in the 'my_cathy_prj' folder. We recommand to make a local backup copy of this folder or save it to the drive.\n\n\n\n> Calling `cathy_tools.CATHY` returns an python-object `simu` where all the parameters are accessible through a python dict\n\n\n"
    },
    {
      "cell_type": "code",
      "metadata": {
        "execution": {
          "iopub.status.busy": "2021-09-01T15:22:10.732Z",
          "iopub.execute_input": "2021-09-01T15:22:10.738Z",
          "iopub.status.idle": "2021-09-01T15:22:13.352Z",
          "shell.execute_reply": "2021-09-01T15:22:13.375Z"
        },
        "id": "26963549-0beb-4965-96bd-b58ade921911",
        "iooxa": {
          "id": {
            "project": "rMYxipNnr5xd3SLSkYuv",
            "block": "xQvXjrvX7WI2MquqM5fi",
            "version": 1
          },
          "outputId": null
        }
      },
      "source": "path2prj ='weil_exemple' # add your local path here\nsimu = cathy_tools.CATHY(dirName=path2prj,\n             clear_src=False, clear_outputs=True)",
      "execution_count": 0,
      "outputs": []
    },
    {
      "cell_type": "markdown",
      "metadata": {
        "id": "baaf2726-5d9c-4d33-a136-88244d3359c7",
        "iooxa": {
          "id": {
            "project": "rMYxipNnr5xd3SLSkYuv",
            "block": "ZpXAxTjlumdpH3NwoqE6",
            "version": 1
          }
        }
      },
      "source": "# Step 1: preprocessing\n\n---\nWe run the **preprocessor** `simu.run_preprocessor` with the default files inputs (weill et al example). \nThis step create all the prepro files required for the processor later on.\n\n\n> If you need to change preprocessor parameters, pass the variable as an argument and change its value to update the corresponding file. For instance I want to ***change the resolution x to 0.1m*** of the DEM: ``` # simu.run_preprocessor(delta_x=0.1) ```\n\n\n\n\n\n"
    },
    {
      "cell_type": "code",
      "metadata": {
        "execution": {
          "iopub.status.busy": "2021-09-01T15:22:13.361Z",
          "iopub.execute_input": "2021-09-01T15:22:13.366Z",
          "iopub.status.idle": "2021-09-01T15:22:20.176Z",
          "shell.execute_reply": "2021-09-01T15:22:20.209Z"
        },
        "id": "0a3339ac-1a14-44d6-9f65-f5fa75dc2593",
        "iooxa": {
          "id": {
            "project": "rMYxipNnr5xd3SLSkYuv",
            "block": "VWNDWoFSCcdFmWd1dAP2",
            "version": 1
          },
          "outputId": null
        }
      },
      "source": "simu.run_preprocessor(delta_x=0.1, verbose=False)",
      "execution_count": 0,
      "outputs": []
    },
    {
      "cell_type": "markdown",
      "metadata": {
        "id": "bd27517c-db5a-45ab-8fd9-52b012da40e7",
        "iooxa": {
          "id": {
            "project": "rMYxipNnr5xd3SLSkYuv",
            "block": "Yvw4vSS0LaXozcxDslhb",
            "version": 1
          }
        }
      },
      "source": "# Step 2: processing\n---\n\n\nWe run the **processor** with the default files inputs (weill et al example). This can last up to 3minutes"
    },
    {
      "cell_type": "code",
      "metadata": {
        "execution": {
          "iopub.status.busy": "2021-09-01T15:22:20.189Z",
          "iopub.execute_input": "2021-09-01T15:22:20.195Z",
          "shell.execute_reply": "2021-09-01T15:24:37.389Z",
          "iopub.status.idle": "2021-09-01T15:24:37.396Z"
        },
        "id": "b91d2755-0ee4-4dd9-a93f-ca870c616d52",
        "iooxa": {
          "id": {
            "project": "rMYxipNnr5xd3SLSkYuv",
            "block": "lZwvlgAfNjNAJZU4pORh",
            "version": 1
          },
          "outputId": null
        }
      },
      "source": "simu.run_processor(verbose=False)",
      "execution_count": 0,
      "outputs": []
    },
    {
      "cell_type": "markdown",
      "metadata": {
        "id": "1fa3dddd-1c9b-439c-b687-2af238694b72",
        "iooxa": {
          "id": {
            "project": "rMYxipNnr5xd3SLSkYuv",
            "block": "irzZUSHycCJdNNgGJtxn",
            "version": 1
          }
        }
      },
      "source": "# Visualisation\n---\nPlot the results (for now using pyvista for 3d visualisation, need to update some dependencies before plotting)"
    },
    {
      "cell_type": "code",
      "metadata": {
        "id": "E55pCniaSyym",
        "iooxa": {
          "id": {
            "project": "rMYxipNnr5xd3SLSkYuv",
            "block": "mx65wZ8xdGhZcLPUoY5j",
            "version": 1
          },
          "outputId": null
        }
      },
      "source": "%%capture\n!apt-get install -qq xvfb\n!pip install pyvista panel -q\nimport os\nos.system('/usr/bin/Xvfb :99 -screen 0 1024x768x24 &')\nos.environ['DISPLAY'] = ':99'\nimport panel as pn\npn.extension('vtk')\nimport ipywidgets as widgets\nimport pyvista as pv",
      "execution_count": 6,
      "outputs": []
    },
    {
      "cell_type": "code",
      "metadata": {
        "id": "13ab8a95-c236-4dcd-9d47-2d82bd2bdf7e",
        "iooxa": {
          "id": {
            "project": "rMYxipNnr5xd3SLSkYuv",
            "block": "vp1hGVE2UPYyORZGyBdn",
            "version": 1
          },
          "outputId": null
        }
      },
      "source": "cplt.showvtk(unit='pressure',timeStep=1,notebook=True, path='./my_cathy_prj/vtk/')",
      "execution_count": 0,
      "outputs": []
    }
  ]
}