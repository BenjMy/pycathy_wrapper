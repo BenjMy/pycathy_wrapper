{
 "cells": [
  {
   "cell_type": "markdown",
   "id": "732e7417-8314-433c-a72f-bae954a06d00",
   "metadata": {},
   "source": [
    "# test pv"
   ]
  },
  {
   "cell_type": "code",
   "execution_count": null,
   "id": "2d416ae9-bd12-4ef2-86d4-a75496d10dcf",
   "metadata": {},
   "outputs": [],
   "source": [
    "import pyvista\n",
    "\n",
    "sphere = pyvista.Sphere()\n",
    "out = sphere.plot() "
   ]
  },
  {
   "cell_type": "code",
   "execution_count": null,
   "id": "5ace3ee4-773b-44a1-aef4-a0f1c3cde6df",
   "metadata": {},
   "outputs": [],
   "source": [
    "import pyvista as pv\n",
    "pv.set_jupyter_backend('trame')\n",
    "pl = pv.Plotter()\n",
    "pl.add_mesh(pv.Cone())\n",
    "pl.show()"
   ]
  },
  {
   "cell_type": "code",
   "execution_count": null,
   "id": "85d9f146-18c9-4368-b37f-f550ee9ee0c5",
   "metadata": {},
   "outputs": [],
   "source": [
    "import pyvista as pv\n",
    "pv.set_jupyter_backend('trame')\n",
    "pv.Cone().plot()"
   ]
  }
 ],
 "metadata": {
  "kernelspec": {
   "display_name": "Python 3 (ipykernel)",
   "language": "python",
   "name": "python3"
  },
  "language_info": {
   "codemirror_mode": {
    "name": "ipython",
    "version": 3
   },
   "file_extension": ".py",
   "mimetype": "text/x-python",
   "name": "python",
   "nbconvert_exporter": "python",
   "pygments_lexer": "ipython3",
   "version": "3.10.13"
  }
 },
 "nbformat": 4,
 "nbformat_minor": 5
}
