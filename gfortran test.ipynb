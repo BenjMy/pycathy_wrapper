{
 "cells": [
  {
   "cell_type": "code",
   "execution_count": 1,
   "id": "f43031bc",
   "metadata": {},
   "outputs": [],
   "source": [
    "# test fortran compiler"
   ]
  },
  {
   "cell_type": "code",
   "execution_count": 2,
   "id": "55a72ac5",
   "metadata": {},
   "outputs": [],
   "source": [
    "import os\n",
    "os.chdir('test_weilletal/my_cathy_prj/prepro/')"
   ]
  },
  {
   "cell_type": "code",
   "execution_count": null,
   "id": "bbc384b7",
   "metadata": {},
   "outputs": [],
   "source": [
    "%%bash\n",
    "ls -l\n",
    "./cppp"
   ]
  },
  {
   "cell_type": "code",
   "execution_count": 1,
   "id": "e2db4b7c",
   "metadata": {},
   "outputs": [
    {
     "ename": "SyntaxError",
     "evalue": "Missing parentheses in call to 'print'. Did you mean print('Fortran code')? (2647503826.py, line 14)",
     "output_type": "error",
     "traceback": [
      "\u001b[0;36m  File \u001b[0;32m\"/tmp/ipykernel_427363/2647503826.py\"\u001b[0;36m, line \u001b[0;32m14\u001b[0m\n\u001b[0;31m    print 'Fortran code'\u001b[0m\n\u001b[0m          ^\u001b[0m\n\u001b[0;31mSyntaxError\u001b[0m\u001b[0;31m:\u001b[0m Missing parentheses in call to 'print'. Did you mean print('Fortran code')?\n"
     ]
    }
   ],
   "source": []
  }
 ],
 "metadata": {
  "kernelspec": {
   "display_name": "Python 3 (ipykernel)",
   "language": "python",
   "name": "python3"
  },
  "language_info": {
   "codemirror_mode": {
    "name": "ipython",
    "version": 3
   },
   "file_extension": ".py",
   "mimetype": "text/x-python",
   "name": "python",
   "nbconvert_exporter": "python",
   "pygments_lexer": "ipython3",
   "version": "3.8.10"
  }
 },
 "nbformat": 4,
 "nbformat_minor": 5
}
