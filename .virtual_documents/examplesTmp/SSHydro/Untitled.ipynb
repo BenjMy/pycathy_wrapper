


from pyCATHY import cathy_tools
from pyCATHY.plotters import cathy_plots as cplt
import pyvista as pv


path2prj = "../SSHydro/"  # add your local path here
simu = cathy_tools.CATHY(dirName=path2prj, 
			prj_name="weill_exemple"
			)


simu.run_preprocessor(verbose=False)


simu.update_parm(TIMPRTi=[1800,7200])
simu.parm


simu.run_processor(IPRT1=2, 
                    DTMIN=1e-2,
                    DTMAX=1e2,
                    DELTAT=5,
                   TRAFLAG=0,
                   verbose=False
                  )



pl = pv.Plotter(notebook=False)
cplt.show_vtk(unit="pressure", 
              timeStep=1, 
              path=simu.workdir + "/weill_exemple/vtk/",
              ax=pl,
              )
pl.show()


#%%
pl = pv.Plotter(notebook=True)
cplt.show_vtk(unit="pressure", 
              timeStep=1, 
              path=simu.workdir + "/weill_exemple/vtk/",
              ax=pl,
              )
pl.show()
