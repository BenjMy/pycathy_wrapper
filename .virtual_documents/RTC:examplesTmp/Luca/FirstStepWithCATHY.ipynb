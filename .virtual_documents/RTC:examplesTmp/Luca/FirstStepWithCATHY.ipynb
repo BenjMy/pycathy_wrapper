from pyCATHY import cathy_tools
from pyCATHY.plotters import cathy_plots as cplt
import pyvista as pv
import numpy as np


path2prj = "."  # add your local path here
simu = cathy_tools.CATHY(
                        dirName=path2prj, 
            			prj_name="my_first_project"
            			)





# simu.DEM
simu.show_input('dem')


my_new_DEM = np.ones([50,20])
my_new_DEM[-1,-1] = 1-1e-3


simu.update_prepo_inputs(my_new_DEM,
                         delta_x=10,
                         xllcorner=0,
                         yllcorner=0,
                        )
simu.show_input('dem')





simu.create_mesh_vtk()


#simu.update_prepo_inputs?
simu.update_prepo_inputs(
                        DEM=my_new_DEM,
                        xllcorner=1e4,
                        yllcorner=4e3,
                        )


DEM, DEM_header = simu.read_inputs('dem')
print(DEM_header)


root_map, root_map_header = simu.read_inputs('root_map')
#root_map
simu.show_input('root_map')
#root_map_header


#simu.update_veg_map?
root_map_new = root_map
root_map_new[0:int(len(root_map_new)/2),:]=2
simu.update_veg_map(root_map_new)


simu.show_input('root_map')





simu


SPP, FP = simu.read_inputs('soil')


# Copying the first row
new_row = FP.iloc[0].copy()
# Appending the copied row to the DataFrame
FP.loc[len(FP)] = new_row


#FP['ZROOT'].iloc[1] = 0.5
#FP


FP_map = FP.to_dict(orient='list')
FP_map








#simu.update_veg_map(show=True)





simu.run_preprocessor(verbose=False)


simu.create_mesh_vtk()


pl = pv.Plotter(notebook=True)
mymesh = pv.read('./my_first_project/vtk/my_first_project.vtk')
pl.add_mesh(mymesh)
pl.show_bounds()
pl.show()


#simu.update_sfbc()
#simu.update_atmbc?


simu.update_ic?


#simu.update_ic(INDP=0, pressure_head_ini=-5) # pressure head in meter


simu.update_ic(INDP=3, WTHEIGHT=1) # pressure head in meter


df_atmbc = simu.read_inputs('atmbc')
df_atmbc.time


simu.update_atmbc(HSPATM=1,IETO=0,
                  time=list(df_atmbc.time),
                  #VALUE = [Precipitation,ET]
                  netValue = [1e-7,5e-7] # m/s
                 )
simu.atmbc



#simu.parm
simu.update_atmbc?


86400.0/(60*60*24)


simu.parm['DTMIN'] = 1e-2 #s 
simu.parm['DELTAT'] = 1
#simu.parm['DELTAT'] = 1
simu.run_processor?


simu.update_parm(TIMPRTi=[1800,7200])


simu.run_processor(IPRT1=2, 
                    DTMIN=1e-2,
                    DTMAX=1e2,
                    DELTAT=5,
                    TRAFLAG=0,
                    verbose=False
                   )



pl = pv.Plotter(notebook=True)
cplt.show_vtk(unit="pressure", 
              timeStep=1, 
              path=simu.workdir + "/my_first_project/vtk/",
              ax=pl,
              )
pl.show()



#pl = pv.Plotter(notebook=True)
#plt.show_vtk_TL()


