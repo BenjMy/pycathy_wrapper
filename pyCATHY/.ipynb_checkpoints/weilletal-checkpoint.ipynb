{
 "cells": [
  {
   "cell_type": "code",
   "execution_count": 1,
   "id": "54f7c9e1",
   "metadata": {},
   "outputs": [],
   "source": [
    "from cathy_tools import CATHY\n",
    "import plottools as cplt\n",
    "import os\n",
    "import numpy as np"
   ]
  },
  {
   "cell_type": "code",
   "execution_count": 2,
   "id": "86ca85d4",
   "metadata": {},
   "outputs": [
    {
     "name": "stdout",
     "output_type": "stream",
     "text": [
      "init CATHY object\n"
     ]
    },
    {
     "name": "stderr",
     "output_type": "stream",
     "text": [
      "streamer.f90:62:110:\n",
      "\n",
      "   62 |   OPEN(UNIT=uni, FILE= fileName, ACTION= action, STATUS=status, ACCESS=\"transparent\", IOSTAT=ii)   !##LF95##\n",
      "      |                                                                                                              1\n",
      "Warning: ACCESS specifier in OPEN statement at (1) has invalid value ‘transparent’\n"
     ]
    },
    {
     "name": "stdout",
     "output_type": "stream",
     "text": [
      "run preprocessor\n"
     ]
    },
    {
     "name": "stderr",
     "output_type": "stream",
     "text": [
      "streamer.f90:62:110:\n",
      "\n",
      "   62 |   OPEN(UNIT=uni, FILE= fileName, ACTION= action, STATUS=status, ACCESS=\"transparent\", IOSTAT=ii)   !##LF95##\n",
      "      |                                                                                                              1\n",
      "Warning: ACCESS specifier in OPEN statement at (1) has invalid value ‘transparent’\n"
     ]
    }
   ],
   "source": [
    "path2prj ='test_weilletal'\n",
    "survey = CATHY(dirName=path2prj)\n",
    "survey.run_preprocessor(verbose=True)"
   ]
  },
  {
   "cell_type": "code",
   "execution_count": null,
   "id": "72146029",
   "metadata": {},
   "outputs": [],
   "source": [
    "survey.run_processor(verbose=True)"
   ]
  }
 ],
 "metadata": {
  "kernelspec": {
   "display_name": "Python 3 (ipykernel)",
   "language": "python",
   "name": "python3"
  },
  "language_info": {
   "codemirror_mode": {
    "name": "ipython",
    "version": 3
   },
   "file_extension": ".py",
   "mimetype": "text/x-python",
   "name": "python",
   "nbconvert_exporter": "python",
   "pygments_lexer": "ipython3",
   "version": "3.8.10"
  }
 },
 "nbformat": 4,
 "nbformat_minor": 5
}
