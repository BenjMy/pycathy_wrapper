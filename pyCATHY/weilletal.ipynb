{
 "cells": [
  {
   "cell_type": "markdown",
   "id": "f192ee40",
   "metadata": {},
   "source": [
    "# Weill et al notebook CATHY exemple"
   ]
  },
  {
   "cell_type": "code",
   "execution_count": 3,
   "id": "1ab018d2",
   "metadata": {},
   "outputs": [],
   "source": [
    "# We first need to load the pyCATHY package\n",
    "# pyCATHY is calling fortran codes via python subroutines and ease the process"
   ]
  },
  {
   "cell_type": "code",
   "execution_count": 4,
   "id": "a720b69c",
   "metadata": {},
   "outputs": [
    {
     "ename": "IndentationError",
     "evalue": "expected an indented block (cathy_tools.py, line 481)",
     "output_type": "error",
     "traceback": [
      "Traceback \u001b[0;36m(most recent call last)\u001b[0m:\n",
      "  File \u001b[1;32m\"/home/ben/.local/lib/python3.8/site-packages/IPython/core/interactiveshell.py\"\u001b[0m, line \u001b[1;32m3441\u001b[0m, in \u001b[1;35mrun_code\u001b[0m\n    exec(code_obj, self.user_global_ns, self.user_ns)\n",
      "\u001b[0;36m  File \u001b[0;32m\"/tmp/ipykernel_405931/2533171213.py\"\u001b[0;36m, line \u001b[0;32m1\u001b[0;36m, in \u001b[0;35m<module>\u001b[0;36m\u001b[0m\n\u001b[0;31m    from cathy_tools import CATHY\u001b[0m\n",
      "\u001b[0;36m  File \u001b[0;32m\"/home/ben/Documents/GitHub/pycathy_wrapper/pyCATHY/cathy_tools.py\"\u001b[0;36m, line \u001b[0;32m481\u001b[0m\n\u001b[0;31m    self.parm=\u001b[0m\n\u001b[0m    ^\u001b[0m\n\u001b[0;31mIndentationError\u001b[0m\u001b[0;31m:\u001b[0m expected an indented block\n"
     ]
    }
   ],
   "source": [
    "from cathy_tools import CATHY\n",
    "import plottools as cplt\n",
    "import os\n",
    "import numpy as np"
   ]
  },
  {
   "cell_type": "markdown",
   "id": "ae8b600e",
   "metadata": {},
   "source": [
    "We initiate a CATHY object; if the the CATHY src files are not included within the 'path2prj', they are automatically fetched from the gitbucket"
   ]
  },
  {
   "cell_type": "code",
   "execution_count": null,
   "id": "840d51b1",
   "metadata": {},
   "outputs": [],
   "source": [
    "path2prj ='test_weilletal'\n",
    "survey = CATHY(dirName=path2prj)\n",
    "survey # show the CATHY object"
   ]
  },
  {
   "cell_type": "markdown",
   "id": "c95a618a",
   "metadata": {},
   "source": [
    "We run the preprocessor with the default files inputs (weill et al example). \n",
    "This step create all the prepro files required for the processor later on."
   ]
  },
  {
   "cell_type": "code",
   "execution_count": null,
   "id": "6bba38a3",
   "metadata": {},
   "outputs": [],
   "source": [
    "survey.run_preprocessor(verbose=True)"
   ]
  },
  {
   "cell_type": "code",
   "execution_count": null,
   "id": "82ac2ca8",
   "metadata": {},
   "outputs": [],
   "source": [
    "# survey.hap_in # hap.in parameters are saved in a dict\n",
    "# survey.hap_in['Ncells'] # access and check the number of cell from the CATHY object"
   ]
  },
  {
   "cell_type": "markdown",
   "id": "51d86618",
   "metadata": {},
   "source": [
    "We run the processor with the default files inputs (weill et al example)"
   ]
  },
  {
   "cell_type": "code",
   "execution_count": null,
   "id": "a5b8cfb3",
   "metadata": {},
   "outputs": [],
   "source": [
    "survey.run_processor(verbose=True)"
   ]
  },
  {
   "cell_type": "code",
   "execution_count": null,
   "id": "54034482",
   "metadata": {},
   "outputs": [],
   "source": []
  }
 ],
 "metadata": {
  "kernelspec": {
   "display_name": "Python 3 (ipykernel)",
   "language": "python",
   "name": "python3"
  },
  "language_info": {
   "codemirror_mode": {
    "name": "ipython",
    "version": 3
   },
   "file_extension": ".py",
   "mimetype": "text/x-python",
   "name": "python",
   "nbconvert_exporter": "python",
   "pygments_lexer": "ipython3",
   "version": "3.8.10"
  }
 },
 "nbformat": 4,
 "nbformat_minor": 5
}
