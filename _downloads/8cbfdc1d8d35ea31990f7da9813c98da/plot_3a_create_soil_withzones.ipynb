{
  "cells": [
    {
      "cell_type": "code",
      "execution_count": null,
      "metadata": {
        "collapsed": false
      },
      "outputs": [],
      "source": [
        "%matplotlib inline\nfrom pyvista import set_plot_theme\nset_plot_theme(\"document\")"
      ]
    },
    {
      "cell_type": "markdown",
      "metadata": {},
      "source": [
        "\n# Soil 3d from a Digital Elevation Model (DEM)\n\nWeill, S., et al. \u00ab Coupling Water Flow and Solute Transport into a Physically-Based Surface\u2013Subsurface Hydrological Model \u00bb. \nAdvances in Water Resources, vol. 34, no 1, janvier 2011, p. 128\u201136. DOI.org (Crossref), \nhttps://doi.org/10.1016/j.advwatres.2010.10.001.\n\nThis example shows how to use pyCATHY object to build a 3d soil properties from a DEM and run the hydrological model.\n\n*Estimated time to run the notebook = 5min*\n"
      ]
    },
    {
      "cell_type": "code",
      "execution_count": null,
      "metadata": {
        "collapsed": false
      },
      "outputs": [],
      "source": [
        "# !! run preprocessor change the DEM shape !\n# dtm_13 does not have the same shape anymore!\n\nimport os\n\nimport matplotlib.pyplot as plt\nimport numpy as np\nimport pandas as pd\n\nimport pyCATHY.meshtools as mt\nfrom pyCATHY import cathy_tools\nfrom pyCATHY.importers import cathy_inputs as in_CT\nfrom pyCATHY.importers import cathy_outputs as out_CT\nfrom pyCATHY.plotters import cathy_plots as cplt"
      ]
    },
    {
      "cell_type": "markdown",
      "metadata": {},
      "source": [
        "------------------------\n\n"
      ]
    },
    {
      "cell_type": "code",
      "execution_count": null,
      "metadata": {
        "collapsed": false
      },
      "outputs": [],
      "source": [
        "path2prj = \"../SSHydro/\"  # add your local path here\nsimu = cathy_tools.CATHY(dirName=path2prj, \n                         prj_name=\"soil_withzones\", \n                         clear_src=False\n                         )\n\nrootpath = os.path.join(simu.workdir + simu.project_name)\nsimu.run_preprocessor(verbose=False)\nsimu.run_processor(IPRT1=3,verbose=True)"
      ]
    },
    {
      "cell_type": "code",
      "execution_count": null,
      "metadata": {
        "collapsed": false
      },
      "outputs": [],
      "source": [
        "simu.DEM\nzones = np.ones(np.shape(simu.DEM))\nzones[:,0:2] = 2\nzones[:,2:4] = 3\nzones[:,4:6] = 4\n\nsimu.update_zone(zones)\nsimu.show_input('zone')"
      ]
    },
    {
      "cell_type": "code",
      "execution_count": null,
      "metadata": {
        "collapsed": false
      },
      "outputs": [],
      "source": [
        "df_SPP_map = simu.init_soil_SPP_map_df(nzones=4,nstr=15)\nSPP_map = simu.set_SOIL_defaults(SPP_map_default=True)"
      ]
    },
    {
      "cell_type": "code",
      "execution_count": null,
      "metadata": {
        "collapsed": false
      },
      "outputs": [],
      "source": [
        "simu.update_soil(SPP_map=SPP_map)"
      ]
    }
  ],
  "metadata": {
    "kernelspec": {
      "display_name": "Python 3",
      "language": "python",
      "name": "python3"
    },
    "language_info": {
      "codemirror_mode": {
        "name": "ipython",
        "version": 3
      },
      "file_extension": ".py",
      "mimetype": "text/x-python",
      "name": "python",
      "nbconvert_exporter": "python",
      "pygments_lexer": "ipython3",
      "version": "3.10.16"
    }
  },
  "nbformat": 4,
  "nbformat_minor": 0
}