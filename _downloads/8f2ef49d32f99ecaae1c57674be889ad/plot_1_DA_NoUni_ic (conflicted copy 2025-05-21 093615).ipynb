{
  "cells": [
    {
      "cell_type": "code",
      "execution_count": null,
      "metadata": {
        "collapsed": false
      },
      "outputs": [],
      "source": [
        "%matplotlib inline\nfrom pyvista import set_plot_theme\nset_plot_theme(\"document\")"
      ]
    },
    {
      "cell_type": "markdown",
      "metadata": {},
      "source": [
        "\n# DA with Random Initial Conditions on Soil Layers\n\nThis notebook demonstrates how to create an ensemble of models with varying initial conditions for different soil layers. By introducing randomness into the initial conditions, we can better simulate the natural variability in soil properties and improve the robustness of data assimilation (DA) processes.\n\n*Estimated time to run the notebook = 2min*\n"
      ]
    },
    {
      "cell_type": "code",
      "execution_count": null,
      "metadata": {
        "collapsed": false
      },
      "outputs": [],
      "source": [
        "import os\nimport numpy as np\nimport pyvista as pv\nfrom pyCATHY.DA.perturbate import perturbate_parm\nfrom pyCATHY.DA import perturbate\nfrom pyCATHY.DA.cathy_DA import DA\nfrom pyCATHY.plotters import cathy_plots as CTp"
      ]
    },
    {
      "cell_type": "markdown",
      "metadata": {},
      "source": [
        "-----------------------\n\n"
      ]
    },
    {
      "cell_type": "code",
      "execution_count": null,
      "metadata": {
        "collapsed": false
      },
      "outputs": [],
      "source": [
        "nlay = 6\nscenario = {\n            'per_name':['ic'],\n            'per_type': [[None]*nlay],\n            'per_nom':[[-15]*nlay],\n            'per_mean':[[-15]*nlay],\n            'per_sigma': [[3.75]*nlay],\n            'per_bounds': [[None]*nlay],\n            'sampling_type': [['normal']*nlay],\n            'transf_type':[[None]*nlay],\n            'listUpdateParm': ['St. var.']\n            }"
      ]
    },
    {
      "cell_type": "markdown",
      "metadata": {},
      "source": [
        "-----------------------\n\n"
      ]
    },
    {
      "cell_type": "code",
      "execution_count": null,
      "metadata": {
        "collapsed": false
      },
      "outputs": [],
      "source": [
        "simuWithDA = DA(\n                        dirName='./',\n                        prj_name= 'DA_with_non_uniform_ic',\n                        notebook=True,\n                    )\n\n# linear z depth\n# ---------------\nzb = np.linspace(0, 2, nlay)\nnstr = len(zb)\nzr = list(np.ones(len(zb))/nstr)\n\nsimuWithDA.update_prepo_inputs(\n                                nstr=nstr,\n                                zratio=zr,\n                                base=max(zb),\n                                )"
      ]
    },
    {
      "cell_type": "markdown",
      "metadata": {},
      "source": [
        "----------------------------------------------------------\n\n"
      ]
    },
    {
      "cell_type": "code",
      "execution_count": null,
      "metadata": {
        "collapsed": false
      },
      "outputs": [],
      "source": [
        "simuWithDA.update_dem_parameters()\nsimuWithDA.update_veg_map()\nsimuWithDA.update_soil()"
      ]
    },
    {
      "cell_type": "markdown",
      "metadata": {},
      "source": [
        "------------------------------------------\n\n"
      ]
    },
    {
      "cell_type": "code",
      "execution_count": null,
      "metadata": {
        "collapsed": false
      },
      "outputs": [],
      "source": [
        "simuWithDA.NENS = 3\nlist_pert = perturbate.perturbate(\n                                    simuWithDA,\n                                    scenario,\n                                    simuWithDA.NENS,\n                                 )\n\nvar_per_dict_stacked = {}\nfor dp in list_pert:\n    var_per_dict_stacked = perturbate_parm(\n                                var_per_dict_stacked,\n                                parm=dp,\n                                type_parm = dp['type_parm'], # can also be VAN GENUCHTEN PARAMETERS\n                                mean =  dp['mean'],\n                                sd =  dp['sd'],\n                                sampling_type =  dp['sampling_type'],\n                                ensemble_size =  dp['ensemble_size'], # size of the ensemble\n                                per_type= dp['per_type'],\n                                nlayers = nlay,\n                                savefig= os.path.join(simuWithDA.workdir,\n                                                      simuWithDA.project_name,\n                                                      simuWithDA.project_name + dp['savefig'])\n                                )"
      ]
    },
    {
      "cell_type": "markdown",
      "metadata": {},
      "source": [
        "This in normally directly called when using run_DA_sequential()\n\n"
      ]
    },
    {
      "cell_type": "code",
      "execution_count": null,
      "metadata": {
        "collapsed": false
      },
      "outputs": [],
      "source": [
        "simuWithDA._create_subfolders_ensemble()\nsimuWithDA.update_ENS_files(var_per_dict_stacked,\n                            var_per_dict_stacked.keys(),\n                            cycle_nb=0\n                            )"
      ]
    },
    {
      "cell_type": "markdown",
      "metadata": {},
      "source": [
        "-----------------------\n\n"
      ]
    },
    {
      "cell_type": "code",
      "execution_count": null,
      "metadata": {
        "collapsed": false
      },
      "outputs": [],
      "source": [
        "pl = pv.Plotter(shape=(1,2))\nfor i, ensi in enumerate([1,3]):\n    DApath = f'DA_Ensemble/cathy_{ensi}/vtk/'\n    path = os.path.join(simuWithDA.workdir,\n                        simuWithDA.project_name,\n                        DApath,\n                        simuWithDA.project_name + '.vtk'\n                        )\n\n    pl.subplot(0,i)\n    CTp.show_vtk(path,\n                 'ic_nodes',\n                 ax=pl,\n                 clim = [-25,-5],\n                 #show_scalar_bar=True,\n                 )\n    _ = pl.add_legend('')\n    pl.add_title(f'Ensemble nb:{ensi}')\n\npl.show()"
      ]
    }
  ],
  "metadata": {
    "kernelspec": {
      "display_name": "Python 3",
      "language": "python",
      "name": "python3"
    },
    "language_info": {
      "codemirror_mode": {
        "name": "ipython",
        "version": 3
      },
      "file_extension": ".py",
      "mimetype": "text/x-python",
      "name": "python",
      "nbconvert_exporter": "python",
      "pygments_lexer": "ipython3",
      "version": "3.10.18"
    }
  },
  "nbformat": 4,
  "nbformat_minor": 0
}