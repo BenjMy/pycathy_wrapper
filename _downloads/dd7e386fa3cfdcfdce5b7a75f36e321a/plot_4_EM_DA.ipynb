{
  "cells": [
    {
      "cell_type": "code",
      "execution_count": null,
      "metadata": {
        "collapsed": false
      },
      "outputs": [],
      "source": [
        "%matplotlib inline\nfrom pyvista import set_plot_theme\nset_plot_theme(\"document\")"
      ]
    },
    {
      "cell_type": "markdown",
      "metadata": {},
      "source": [
        "\n# SyntaxError\n\nExample script with invalid Python syntax\n\n"
      ]
    },
    {
      "cell_type": "code",
      "execution_count": null,
      "metadata": {
        "collapsed": false
      },
      "outputs": [],
      "source": [
        "\"\"\"\nRead EM dataset observations & assimilate\n===========================================\n\nThe notebook illustrate how to read EM sensors dataset to be prepare for DA\n\n*Estimated time to run the notebook = 2min*\n\n\"\"\"\nimport numpy as np\nfrom pyCATHY.DA.cathy_DA import DA\nimport pandas as pd\nimport matplotlib.pyplot as plt\nfrom pyCATHY.DA.cathy_DA import DA, dictObs_2pd\nfrom pyCATHY.DA.observations import read_observations, prepare_observations, make_data_cov\nfrom pathlib import Path\nimport pyvista as pv"
      ]
    },
    {
      "cell_type": "markdown",
      "metadata": {},
      "source": [
        "-----------------------\n\n"
      ]
    },
    {
      "cell_type": "code",
      "execution_count": null,
      "metadata": {
        "collapsed": false
      },
      "outputs": [],
      "source": [
        "simuWithDA = DA(\n                dirName='./DA_with_swc',\n                prj_name='import_SMC',\n                notebook=True,\n                )"
      ]
    },
    {
      "cell_type": "code",
      "execution_count": null,
      "metadata": {
        "collapsed": false
      },
      "outputs": [],
      "source": [
        "SW_2_ER0_DA\n\n\n    ER_converted_ti, df_Archie, sw_nodes =   Archie.SW_2_ER0_DA(\n                                            project_name,\n                                            Archie_parms,\n                                            POROS_mesh_nodes_ensi,\n                                            EM_meta_dict,\n                                            path_fwd_CATHY,\n                                            DA_cnb=count_DA_cycle,  # kwargs\n                                            Ens_nbi=ens_nb,  # kwargs\n                                            # savefig=savefig,  # kwargs\n                                            noise_level=EM_meta_dict[\"data_err\"],  # kwargs\n                                        )\n    df_Archie[\"OL\"] = np.ones(len(df_Archie[\"time\"])) * False\n    EC_converted_ti_mS_m = (1.0 / ER_converted_ti) * 1000\n\n    print(\"EC_converted_ti_mS_m stats:\")\n    print(f\"  min = {EC_converted_ti_mS_m.min():.2f} mS/m\")\n    print(f\"  max = {EC_converted_ti_mS_m.max():.2f} mS/m\")\n\n    print('Build forward EM model')\n    depths, conds, xy_coords = build_forward_profiles(EC_converted_ti_mS_m,\n                                                      grid3d['mesh3d_nodes'],\n                                                      var=\"EC\")\n\n    from emagpy import Problem\n    k = Problem()\n    k.setModels(depths,conds)\n\n    print('Forward EM model')\n    # dfsFSeq = k.forward(forwardModel='FSeq', coils=coils, noise=5)\n    EM_fwd_model_array = k.forward(forwardModel='FSlin',\n                         coils=EM_meta_dict[\"coils\"],\n                         noise=EM_meta_dict[\"fwdEMnoise\"]\n                         )\n    # np.shape(dfsFSlin)\n    EM_fwd_model_2darray = np.vstack(EM_fwd_model_array)\n    EM_fwd_model_1darray = np.hstack(EM_fwd_model_2darray)"
      ]
    }
  ],
  "metadata": {
    "kernelspec": {
      "display_name": "Python 3",
      "language": "python",
      "name": "python3"
    },
    "language_info": {
      "codemirror_mode": {
        "name": "ipython",
        "version": 3
      },
      "file_extension": ".py",
      "mimetype": "text/x-python",
      "name": "python",
      "nbconvert_exporter": "python",
      "pygments_lexer": "ipython3",
      "version": "3.10.18"
    }
  },
  "nbformat": 4,
  "nbformat_minor": 0
}