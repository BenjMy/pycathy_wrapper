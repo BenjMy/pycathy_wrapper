{
  "cells": [
    {
      "cell_type": "code",
      "execution_count": null,
      "metadata": {
        "collapsed": false
      },
      "outputs": [],
      "source": [
        "%matplotlib inline\nfrom pyvista import set_plot_theme\nset_plot_theme(\"document\")"
      ]
    },
    {
      "cell_type": "markdown",
      "metadata": {},
      "source": [
        "\n# Creating and Managing Parameter Perturbation Scenarios for Data Assimilation\n\nThis notebook illustrates how to create, read, and prepare parameter perturbation scenarios\n(using placeholders or suggested values) for Data Assimilation (DA) in pyCATHY.\n\nThe notebook explains how to:\n\n1. **Initialize a DA simulation**\n2. **Create scenario files** with placeholders or suggested values\n3. **Read and inspect scenario files**\n4. **Apply perturbations to the simulation**\n\n*Estimated time to run the notebook: ~2 min*\n"
      ]
    },
    {
      "cell_type": "markdown",
      "metadata": {},
      "source": [
        "## Initialize the DA simulation\nCreate a DA object that will manage your simulations, parameter ensembles, and perturbations.\n\n"
      ]
    },
    {
      "cell_type": "code",
      "execution_count": null,
      "metadata": {
        "collapsed": false
      },
      "outputs": [],
      "source": [
        "from pyCATHY.DA.cathy_DA import DA\n\nsimu = DA(\n    dirName='.',\n    prj_name='test_parameters_perturbation'\n)"
      ]
    },
    {
      "cell_type": "markdown",
      "metadata": {},
      "source": [
        "## Create a scenario file using placeholders\nThis creates a generic scenario where parameters are indicated with placeholders\nlike <value>, <sigma>, etc. It is useful for template purposes.\n\n"
      ]
    },
    {
      "cell_type": "code",
      "execution_count": null,
      "metadata": {
        "collapsed": false
      },
      "outputs": [],
      "source": [
        "from pyCATHY import cathy_utils\n\ncathy_utils.create_scenario_file(\n    scenario_name=\"scenario_placeholders\",\n    param_names=[\"ic\", \"Ks\"],\n    use_common_values=False,  # Use placeholders instead of suggested values\n    filetype=\"json\"\n)"
      ]
    },
    {
      "cell_type": "markdown",
      "metadata": {},
      "source": [
        "## Create a scenario file using suggested values\nHere we create a scenario with realistic suggested values for parameters.\n\n"
      ]
    },
    {
      "cell_type": "code",
      "execution_count": null,
      "metadata": {
        "collapsed": false
      },
      "outputs": [],
      "source": [
        "cathy_utils.create_scenario_file_single_control(\n    \"scenario\",\n    parameters=[\"ic\", \"Ks\"],\n    use_suggested=True,\n    control_type=None  # 'layers', 'zone', 'root_map', or None\n)\n\n# Read the scenario file and convert it to a DataFrame for inspection\nscenario = cathy_utils.read_scenario_file('scenario.json')\nscenario_df = cathy_utils.scenario_dict_to_df_list(scenario, 'scenario')\nprint(scenario_df)"
      ]
    },
    {
      "cell_type": "markdown",
      "metadata": {},
      "source": [
        "## Scenario with perturbations by zones\nGenerate a scenario where perturbations are controlled per zone.\n\n"
      ]
    },
    {
      "cell_type": "code",
      "execution_count": null,
      "metadata": {
        "collapsed": false
      },
      "outputs": [],
      "source": [
        "cathy_utils.create_scenario_file_single_control(\n    \"scenario_zone\",\n    parameters=[\"ic\", \"Ks\"],\n    use_suggested=True,\n    control_type='zone',  # Control perturbations per zone\n    nzones=2\n)\n\nscenario_multipleZones = cathy_utils.read_scenario_file('scenario_zone.json')\nscenario_df = cathy_utils.scenario_dict_to_df_list(scenario_multipleZones, 'scenario_zone')\nprint(scenario_df)"
      ]
    },
    {
      "cell_type": "markdown",
      "metadata": {},
      "source": [
        "## Scenario with perturbations by root map\nCreate a scenario where perturbations are controlled per root map element.\n\n"
      ]
    },
    {
      "cell_type": "code",
      "execution_count": null,
      "metadata": {
        "collapsed": false
      },
      "outputs": [],
      "source": [
        "cathy_utils.create_scenario_file_single_control(\n    \"scenario_root_map\",\n    parameters=[\"ic\", \"porosity\"],\n    use_suggested=False,  # Use placeholders\n    control_type='root_map',\n    nveg=2\n)\n\nscenario_multipleLayers = cathy_utils.read_scenario_file('scenario_root_map.json')\nscenario_df = cathy_utils.scenario_dict_to_df_list(scenario_multipleLayers, 'scenario_root_map')\nprint(scenario_df)"
      ]
    },
    {
      "cell_type": "markdown",
      "metadata": {},
      "source": [
        "## Apply perturbations to the DA simulation\nThis step generates ensembles of perturbed parameters according to the scenario.\n\n"
      ]
    },
    {
      "cell_type": "code",
      "execution_count": null,
      "metadata": {
        "collapsed": false
      },
      "outputs": [],
      "source": [
        "from pyCATHY.DA import perturbate\n\nsimu.MAXVEG = 1  # Example configuration\nlist_pert = perturbate.perturbate(\n    simu,\n    scenario_multipleZones['scenario_zone'],\n    256  # Ensemble size\n)\n\nvar_per_dict_stacked = {}\nfor dp in list_pert:\n    var_per_dict_stacked = perturbate.perturbate_parm(\n        var_per_dict_stacked,\n        parm=dp,\n        type_parm=dp['type_parm'],  # Can also be VAN GENUCHTEN parameters\n        mean=dp['mean'],\n        sd=dp['sd'],\n        sampling_type=dp['sampling_type'],\n        ensemble_size=dp['ensemble_size'],  # Size of the ensemble\n        per_type=dp['per_type'],\n        savefig=dp['savefig']\n    )"
      ]
    }
  ],
  "metadata": {
    "kernelspec": {
      "display_name": "Python 3",
      "language": "python",
      "name": "python3"
    },
    "language_info": {
      "codemirror_mode": {
        "name": "ipython",
        "version": 3
      },
      "file_extension": ".py",
      "mimetype": "text/x-python",
      "name": "python",
      "nbconvert_exporter": "python",
      "pygments_lexer": "ipython3",
      "version": "3.10.18"
    }
  },
  "nbformat": 4,
  "nbformat_minor": 0
}