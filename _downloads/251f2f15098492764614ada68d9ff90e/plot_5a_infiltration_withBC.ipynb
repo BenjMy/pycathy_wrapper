{
  "cells": [
    {
      "cell_type": "code",
      "execution_count": null,
      "metadata": {
        "collapsed": false
      },
      "outputs": [],
      "source": [
        "%matplotlib inline\nfrom pyvista import set_plot_theme\nset_plot_theme(\"document\")"
      ]
    },
    {
      "cell_type": "markdown",
      "metadata": {},
      "source": [
        "\n# Update and show Boundary conditions\n\nThis example shows how to use pyCATHY object to update a 3d BC properties from a DEM and run the hydrological model.\n\n1st config: Dirichlet runs: \n    - The outlet nodes at the bottom layer form a constant head boundary of zero pressure head \n    and the nodes above along the outlet face have a no-flow condition imposed\n2nd config: return flow runs:\n    - the entire outlet face is a no-flow boundary and water is allowed \n    to leave the system only by exfiltration (return flow) through the surface.\n\n\n\n*Estimated time to run the notebook = 5min*\n"
      ]
    },
    {
      "cell_type": "code",
      "execution_count": null,
      "metadata": {
        "collapsed": false
      },
      "outputs": [],
      "source": [
        "# !! run preprocessor change the DEM shape !\n# dtm_13 does not have the same shape anymore!\n\nimport os\n\nimport matplotlib.pyplot as plt\nimport numpy as np\nimport pandas as pd\n\nimport pyCATHY.meshtools as mt\nfrom pyCATHY import cathy_tools\nfrom pyCATHY.importers import cathy_inputs as in_CT\nfrom pyCATHY.importers import cathy_outputs as out_CT\nfrom pyCATHY.plotters import cathy_plots as cplt\nimport pyvista as pv"
      ]
    },
    {
      "cell_type": "markdown",
      "metadata": {},
      "source": [
        "------------------------\n\n"
      ]
    },
    {
      "cell_type": "code",
      "execution_count": null,
      "metadata": {
        "collapsed": false
      },
      "outputs": [],
      "source": [
        "path2prj = \"./\"  # add your local path here\nsimu = cathy_tools.CATHY(dirName=path2prj, \n                         prj_name=\"bc_noflow\"\n                         )"
      ]
    },
    {
      "cell_type": "code",
      "execution_count": null,
      "metadata": {
        "collapsed": false
      },
      "outputs": [],
      "source": [
        "dem_mat, str_hd_dem = in_CT.read_dem(\n    os.path.join(simu.workdir, simu.project_name, \"prepro/dem\"),\n    os.path.join(simu.workdir, simu.project_name, \"prepro/dtm_13.val\"),\n)\n\nmaxdepth = 10\nzb = np.geomspace(1e-1, maxdepth, num=15)\nnstr=len(zb)\nzr = [abs(zb[0]/maxdepth)]\nzr.extend(list(abs(np.diff(zb)/maxdepth)))\n\ndem = np.ones(np.shape(dem_mat))\ndem[-1,-1] = 1-1e-3\n\nsimu.update_prepo_inputs(\n    DEM=np.ones(np.shape(dem_mat)),\n    nstr=nstr,\n    zratio=zr,\n    base=max(zb),\n)\nsimu.create_mesh_vtk(verbose=True)"
      ]
    },
    {
      "cell_type": "code",
      "execution_count": null,
      "metadata": {
        "collapsed": false
      },
      "outputs": [],
      "source": [
        "# add nodes of interest\nnode_bot, node_bot_pos = simu.find_nearest_node([5,5,-9])\nnode_top, node_top_pos = simu.find_nearest_node([5,5,1])\nnode_leftxmin, node_leftxmin_pos = simu.find_nearest_node([0,5,-9/2])\nNOI = [node_bot,node_top,node_leftxmin]\nNOI_pos = [node_bot_pos,node_top_pos,node_leftxmin_pos]\nNOI_labels = ['bot','top','left_xmin']\nNOI_colors = ['b','orange','green']\n\npl = pv.Plotter(notebook=False)\nmesh = pv.read(os.path.join(simu.workdir,\n                     simu.project_name,\n                     'vtk',simu.project_name + '.vtk'\n                  )\n        )\n\npl.add_mesh(mesh,\n            style='wireframe',\n            opacity=0.1,\n            color='k'\n            )\nfor i, n in enumerate(NOI):\n    pl.add_points(NOI_pos[i][0],\n                  color=NOI_colors[i],\n                  label=NOI_labels[i],\n                  point_size=30\n                  )\npl.show_bounds()\npl.view_zx()\npl.show()"
      ]
    },
    {
      "cell_type": "code",
      "execution_count": null,
      "metadata": {
        "collapsed": false
      },
      "outputs": [],
      "source": [
        "df_atmbc = simu.read_inputs('atmbc')\ntime = [0,12e3,18e3]\nsimu.update_atmbc(   \n                    HSPATM=1,\n                    IETO=1,\n                    time=time,\n                    netValue=[5.5e-06, 0, 0]\n                    )\nsimu.show_input('atmbc')"
      ]
    },
    {
      "cell_type": "markdown",
      "metadata": {},
      "source": [
        "This mesh is automatically created when updating with update_nansfneubc() \n\n"
      ]
    },
    {
      "cell_type": "code",
      "execution_count": null,
      "metadata": {
        "collapsed": false
      },
      "outputs": [],
      "source": [
        "simu.create_mesh_bounds_df(\n                            'nansfdirbc', \n                            simu.grid3d[\"mesh3d_nodes\"], \n                            time, \n                            )\nprint(simu.mesh_bound_cond_df.head())"
      ]
    },
    {
      "cell_type": "code",
      "execution_count": null,
      "metadata": {
        "collapsed": false
      },
      "outputs": [],
      "source": [
        "simu.update_nansfneubc(no_flow=True)\nsimu.update_nansfdirbc(no_flow=True)\nsimu.update_sfbc(no_flow=True)"
      ]
    },
    {
      "cell_type": "code",
      "execution_count": null,
      "metadata": {
        "collapsed": false
      },
      "outputs": [],
      "source": [
        "simu.show_bc(time=0)\nmeshbc = simu.mesh_bound_cond_df\ncplt.plot_mesh_bounds('nansfdirbc',meshbc, time=0)"
      ]
    },
    {
      "cell_type": "code",
      "execution_count": null,
      "metadata": {
        "collapsed": false
      },
      "outputs": [],
      "source": [
        "simu.update_ic(INDP=0,\n               IPOND=0,\n               pressure_head_ini=-15\n               )"
      ]
    },
    {
      "cell_type": "code",
      "execution_count": null,
      "metadata": {
        "collapsed": false
      },
      "outputs": [],
      "source": [
        "simu.update_parm(DELTAT=1e3)\nsimu.run_processor(IPRT1=2, \n                    TRAFLAG=0, \n                    verbose=True\n                    )"
      ]
    },
    {
      "cell_type": "code",
      "execution_count": null,
      "metadata": {
        "collapsed": false
      },
      "outputs": [],
      "source": [
        "df_sw, _ = simu.read_outputs('sw')"
      ]
    },
    {
      "cell_type": "code",
      "execution_count": null,
      "metadata": {
        "collapsed": false
      },
      "outputs": [],
      "source": [
        "import copy\n# We create a second CATHY object to compare when changing Neumann BC\nsimu_with_neubc = copy.copy(simu)"
      ]
    },
    {
      "cell_type": "code",
      "execution_count": null,
      "metadata": {
        "collapsed": false
      },
      "outputs": [],
      "source": [
        "simu_with_neubc.update_nansfneubc(\n                                time = time,\n                                bot_bound=1.2e-6\n                                )"
      ]
    },
    {
      "cell_type": "code",
      "execution_count": null,
      "metadata": {
        "collapsed": false
      },
      "outputs": [],
      "source": [
        "simu_with_neubc.show_bc(time=0)\nmeshbc = simu_with_neubc.mesh_bound_cond_df\ncplt.plot_mesh_bounds('nansfneubc',\n                      meshbc, \n                      time=0\n                      )"
      ]
    },
    {
      "cell_type": "code",
      "execution_count": null,
      "metadata": {
        "collapsed": false
      },
      "outputs": [],
      "source": [
        "simu_with_neubc.run_processor(IPRT1=2, \n                              TRAFLAG=0, \n                              verbose=True\n                    )"
      ]
    },
    {
      "cell_type": "code",
      "execution_count": null,
      "metadata": {
        "collapsed": false
      },
      "outputs": [],
      "source": [
        "df_sw_neumBC, _ = simu_with_neubc.read_outputs('sw')\ndf_sw.head()\n\nfig, axs = plt.subplots(2,1,\n                        sharey=True\n                        )\n\nfor i, n in enumerate(NOI):\n    df_sw[n].plot(ax=axs[0],\n                  label=NOI_labels[i],\n                  c=NOI_colors[i]\n                     )\n    df_sw_neumBC[n].plot(ax=axs[1],\n                  label=NOI_labels[i],\n                  c=NOI_colors[i],\n                     )\naxs[0].legend('')\naxs[1].legend(NOI_labels)\naxs[1].set_xlabel('time (s)')\naxs[1].set_ylabel('saturation (-)')"
      ]
    }
  ],
  "metadata": {
    "kernelspec": {
      "display_name": "Python 3",
      "language": "python",
      "name": "python3"
    },
    "language_info": {
      "codemirror_mode": {
        "name": "ipython",
        "version": 3
      },
      "file_extension": ".py",
      "mimetype": "text/x-python",
      "name": "python",
      "nbconvert_exporter": "python",
      "pygments_lexer": "ipython3",
      "version": "3.10.16"
    }
  },
  "nbformat": 4,
  "nbformat_minor": 0
}