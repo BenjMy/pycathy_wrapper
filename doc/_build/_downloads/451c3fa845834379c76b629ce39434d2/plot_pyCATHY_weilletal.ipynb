{
  "cells": [
    {
      "cell_type": "code",
      "execution_count": null,
      "metadata": {
        "collapsed": false
      },
      "outputs": [],
      "source": [
        "%matplotlib inline"
      ]
    },
    {
      "cell_type": "markdown",
      "metadata": {},
      "source": [
        "\n# Weil et al example\n\nThe CATHY gitbucket repository provides the Weill et al. dataset example to test the installation. On top of that, we provide a computational notebook code to reproduce the results using the **pyCATHY wrapper** (https://github.com/BenjMy/pycathy_wrapper). \n\nThe notebook illustrate how to work interactively: execute single cell, see partial results at different processing steps (preprocessing, processing, output)... You can share it to work collaboratively on it by sharing the link and execute it from another PC without any installation required.\n\n\n*Estimated time to run the notebook = 5min*\n"
      ]
    },
    {
      "cell_type": "code",
      "execution_count": null,
      "metadata": {
        "collapsed": false
      },
      "outputs": [],
      "source": [
        "# In[2]:\n\nfrom pyCATHY import cathy_tools\nfrom pyCATHY.plotters import cathy_plots as cplt\n\n# In[13]:\n\n\npath2prj ='weil_exemple' # add your local path here\nsimu = cathy_tools.CATHY(dirName=path2prj)\n\nsimu.run_processor(IPRT1=3,verbose=True)\nsimu.grid3d\nlen(simu.grid3d['mesh_tetra'])\nsimu.run_processor(IPRT1=2,verbose=True)\n\ncplt.show_vtk(unit='pressure',\n              timeStep=1,\n              notebook=False, \n              path='./my_cathy_prj/vtk/'\n             )"
      ]
    }
  ],
  "metadata": {
    "kernelspec": {
      "display_name": "Python 3",
      "language": "python",
      "name": "python3"
    },
    "language_info": {
      "codemirror_mode": {
        "name": "ipython",
        "version": 3
      },
      "file_extension": ".py",
      "mimetype": "text/x-python",
      "name": "python",
      "nbconvert_exporter": "python",
      "pygments_lexer": "ipython3",
      "version": "3.9.12"
    }
  },
  "nbformat": 4,
  "nbformat_minor": 0
}