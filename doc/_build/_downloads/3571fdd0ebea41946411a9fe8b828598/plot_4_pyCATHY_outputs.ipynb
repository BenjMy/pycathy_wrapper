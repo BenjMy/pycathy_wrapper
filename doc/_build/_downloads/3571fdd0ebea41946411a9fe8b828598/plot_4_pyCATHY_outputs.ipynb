{
  "cells": [
    {
      "cell_type": "code",
      "execution_count": null,
      "metadata": {
        "collapsed": false
      },
      "outputs": [],
      "source": [
        "%matplotlib inline\nfrom pyvista import set_plot_theme\nset_plot_theme(\"document\")"
      ]
    },
    {
      "cell_type": "markdown",
      "metadata": {},
      "source": [
        "\n# Output plots part 1\n\nWeill, S., et al. \u00ab Coupling Water Flow and Solute Transport into a Physically-Based Surface\u2013Subsurface Hydrological Model \u00bb. \nAdvances in Water Resources, vol. 34, no 1, janvier 2011, p. 128\u201136. DOI.org (Crossref), \nhttps://doi.org/10.1016/j.advwatres.2010.10.001.\n\nThis example shows how to use pyCATHY object to plot the most common ouputs of the hydrological model.\n\n*Estimated time to run the notebook = 5min*\n"
      ]
    },
    {
      "cell_type": "markdown",
      "metadata": {},
      "source": [
        "Here we need to import `cathy_tools` class that control the CATHY core files preprocessing and processing\nWe also import `cathy_plots` to render the results\n\n"
      ]
    },
    {
      "cell_type": "code",
      "execution_count": null,
      "metadata": {
        "collapsed": false
      },
      "outputs": [],
      "source": [
        "from pyCATHY import cathy_tools\nfrom pyCATHY.plotters import cathy_plots as cplt\nimport pyvista as pv\nimport os \nimport matplotlib.pyplot as plt"
      ]
    },
    {
      "cell_type": "markdown",
      "metadata": {},
      "source": [
        "if you add True to verbose, the processor log will be printed in the window shell\n\n"
      ]
    },
    {
      "cell_type": "code",
      "execution_count": null,
      "metadata": {
        "collapsed": false
      },
      "outputs": [],
      "source": [
        "path2prj = \"weil_exemple_outputs_plot1\"  # add your local path here\nsimu = cathy_tools.CATHY(dirName=path2prj)\nsimu.run_preprocessor()\nsimu.run_processor(IPRT1=2, \n                    DTMIN=1e-2,\n                    DTMAX=1e2,\n                    DELTAT=5,\n                    TRAFLAG=0,\n                    verbose=False\n                    )"
      ]
    },
    {
      "cell_type": "code",
      "execution_count": null,
      "metadata": {
        "collapsed": false
      },
      "outputs": [],
      "source": [
        "df_sw, _ = simu.read_outputs('sw')\ndf_sw.head()"
      ]
    },
    {
      "cell_type": "code",
      "execution_count": null,
      "metadata": {
        "collapsed": false
      },
      "outputs": [],
      "source": [
        "node, node_pos = simu.find_nearest_node([5,5,-1])\nnode2, node_pos2 = simu.find_nearest_node([5,5,1])\nprint(node_pos[0])"
      ]
    },
    {
      "cell_type": "code",
      "execution_count": null,
      "metadata": {
        "collapsed": false
      },
      "outputs": [],
      "source": [
        "pl = pv.Plotter(notebook=False)\ncplt.show_vtk(unit=\"pressure\", \n              timeStep=1, \n              path=os.path.join(simu.workdir,\n                                simu.project_name,\n                                'vtk'\n                                ),\n              style='wireframe',\n              opacity=0.1,\n              ax=pl,\n              )\npl.add_points(node_pos[0],\n              color='red'\n              )\npl.add_points(node_pos2[0],\n              color='red'\n              )\npl.show()"
      ]
    },
    {
      "cell_type": "code",
      "execution_count": null,
      "metadata": {
        "collapsed": false
      },
      "outputs": [],
      "source": [
        "fig, ax = plt.subplots()\ndf_sw[node].plot(ax=ax)\ndf_sw[node2].plot(ax=ax)\nax.set_xlabel('time (s)')\nax.set_ylabel('saturation (-)')"
      ]
    },
    {
      "cell_type": "code",
      "execution_count": null,
      "metadata": {
        "collapsed": false
      },
      "outputs": [],
      "source": [
        "df_psi = simu.read_outputs('psi')\n# df_psi.head()\nfig, ax = plt.subplots()\nax.plot(df_psi.index, df_psi.iloc[:,node[0]])\nax.plot(df_psi.index, df_psi.iloc[:,node2[0]])\nax.set_xlabel('time (s)')\nax.set_ylabel('pressure head (m)')"
      ]
    }
  ],
  "metadata": {
    "kernelspec": {
      "display_name": "Python 3",
      "language": "python",
      "name": "python3"
    },
    "language_info": {
      "codemirror_mode": {
        "name": "ipython",
        "version": 3
      },
      "file_extension": ".py",
      "mimetype": "text/x-python",
      "name": "python",
      "nbconvert_exporter": "python",
      "pygments_lexer": "ipython3",
      "version": "3.10.16"
    }
  },
  "nbformat": 4,
  "nbformat_minor": 0
}