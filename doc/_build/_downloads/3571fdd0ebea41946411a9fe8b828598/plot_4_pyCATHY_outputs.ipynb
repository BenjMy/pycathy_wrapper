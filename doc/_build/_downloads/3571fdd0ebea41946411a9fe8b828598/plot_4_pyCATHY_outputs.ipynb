{
  "cells": [
    {
      "cell_type": "code",
      "execution_count": null,
      "metadata": {
        "collapsed": false
      },
      "outputs": [],
      "source": [
        "%matplotlib inline"
      ]
    },
    {
      "cell_type": "markdown",
      "metadata": {},
      "source": [
        "\n# Output plots\n\nThis example shows how to use pyCATHY object to plot the most common ouputs of the hydrological model.\n\n*Estimated time to run the notebook = 5min*\n"
      ]
    },
    {
      "cell_type": "markdown",
      "metadata": {},
      "source": [
        "Here we need to import `cathy_tools` class that control the CATHY core files preprocessing and processing\nWe also import `cathy_plots` to render the results\n\n"
      ]
    },
    {
      "cell_type": "code",
      "execution_count": null,
      "metadata": {
        "collapsed": false
      },
      "outputs": [],
      "source": [
        "from pyCATHY import cathy_tools\nfrom pyCATHY.plotters import cathy_plots as cplt"
      ]
    },
    {
      "cell_type": "markdown",
      "metadata": {},
      "source": [
        "if you add True to verbose, the processor log will be printed in the window shell\n\n"
      ]
    },
    {
      "cell_type": "code",
      "execution_count": null,
      "metadata": {
        "collapsed": false
      },
      "outputs": [],
      "source": [
        "path2prj = \"weil_exemple_outputs_plot\"  # add your local path here\nsimu = cathy_tools.CATHY(dirName=path2prj)\nsimu.run_processor(verbose=True)"
      ]
    },
    {
      "cell_type": "code",
      "execution_count": null,
      "metadata": {
        "collapsed": false
      },
      "outputs": [],
      "source": [
        "simu.show(prop=\"hgsfdet\")"
      ]
    },
    {
      "cell_type": "code",
      "execution_count": null,
      "metadata": {
        "collapsed": false
      },
      "outputs": [],
      "source": [
        "simu.show(prop=\"dtcoupling\", yprop=\"Atmpot-d\")"
      ]
    },
    {
      "cell_type": "code",
      "execution_count": null,
      "metadata": {
        "collapsed": false
      },
      "outputs": [],
      "source": [
        "simu.show(prop=\"hgraph\")"
      ]
    },
    {
      "cell_type": "code",
      "execution_count": null,
      "metadata": {
        "collapsed": false
      },
      "outputs": [],
      "source": [
        "simu.show(prop=\"cumflowvol\")"
      ]
    },
    {
      "cell_type": "markdown",
      "metadata": {},
      "source": [
        "To select another time step change the value in the function argument\n\n"
      ]
    },
    {
      "cell_type": "code",
      "execution_count": null,
      "metadata": {
        "collapsed": false
      },
      "outputs": [],
      "source": [
        "cplt.show_vtk(\n    unit=\"pressure\",\n    timeStep=1,\n    notebook=False,\n    path=simu.workdir + \"/my_cathy_prj/vtk/\",\n)"
      ]
    },
    {
      "cell_type": "code",
      "execution_count": null,
      "metadata": {
        "collapsed": false
      },
      "outputs": [],
      "source": [
        "cplt.show_vtk(\n    unit=\"saturation\",\n    timeStep=1,\n    notebook=False,\n    path=simu.workdir + \"/my_cathy_prj/vtk/\",\n)"
      ]
    }
  ],
  "metadata": {
    "kernelspec": {
      "display_name": "Python 3",
      "language": "python",
      "name": "python3"
    },
    "language_info": {
      "codemirror_mode": {
        "name": "ipython",
        "version": 3
      },
      "file_extension": ".py",
      "mimetype": "text/x-python",
      "name": "python",
      "nbconvert_exporter": "python",
      "pygments_lexer": "ipython3",
      "version": "3.9.13"
    }
  },
  "nbformat": 4,
  "nbformat_minor": 0
}