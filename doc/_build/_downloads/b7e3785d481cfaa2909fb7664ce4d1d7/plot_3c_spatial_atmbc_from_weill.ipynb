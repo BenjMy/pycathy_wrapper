{
  "cells": [
    {
      "cell_type": "code",
      "execution_count": null,
      "metadata": {
        "collapsed": false
      },
      "outputs": [],
      "source": [
        "%matplotlib inline\nfrom pyvista import set_plot_theme\nset_plot_theme(\"document\")"
      ]
    },
    {
      "cell_type": "markdown",
      "metadata": {},
      "source": [
        "\n# Weil et al example with spatially heterogeneous atmbc\n\nWeill, S., et al. \u00ab Coupling Water Flow and Solute Transport into a Physically-Based Surface\u2013Subsurface Hydrological Model \u00bb. \nAdvances in Water Resources, vol. 34, no 1, janvier 2011, p. 128\u201136. DOI.org (Crossref), \nhttps://doi.org/10.1016/j.advwatres.2010.10.001.\n\n\nThis example shows how to use pyCATHY object to create spatially and temporally variable atmbc conditions\n\n*Estimated time to run the notebook = 5min*\n"
      ]
    },
    {
      "cell_type": "code",
      "execution_count": null,
      "metadata": {
        "collapsed": false
      },
      "outputs": [],
      "source": [
        "# !! run preprocessor change the DEM shape !\n# dtm_13 does not have the same shape anymore!\n\nimport os\n\nimport matplotlib.pyplot as plt\nimport numpy as np\nimport pandas as pd\n\nimport pyCATHY.meshtools as mt\nfrom pyCATHY import cathy_tools\nfrom pyCATHY.importers import cathy_inputs as in_CT\nfrom pyCATHY.importers import cathy_outputs as out_CT\nfrom pyCATHY.plotters import cathy_plots as cplt"
      ]
    },
    {
      "cell_type": "markdown",
      "metadata": {},
      "source": [
        "------------------------\n\n"
      ]
    },
    {
      "cell_type": "code",
      "execution_count": null,
      "metadata": {
        "collapsed": false
      },
      "outputs": [],
      "source": [
        "path2prj = \"../SSHydro/\"  # add your local path here\nsimu = cathy_tools.CATHY(dirName=path2prj, \n                         prj_name=\"atmbc_spatially_from_weill\"\n                         )\n\nsimu.create_mesh_vtk(verbose=True)"
      ]
    },
    {
      "cell_type": "code",
      "execution_count": null,
      "metadata": {
        "collapsed": false
      },
      "outputs": [],
      "source": [
        "grid3d = simu.read_outputs('grid3d')\n\n# np.shape(simu.DEM)\n\n# DEM, dem_header = simu.read_inputs('dem')\nt_atmbc = [0,86400]\nv_atmbc = np.zeros(int(grid3d['nnod']))\nv_atmbc[0:int(len(np.zeros(int(grid3d['nnod'])))/2)] = 1e-7\n\nv_atmbc_mat = np.reshape(v_atmbc,[np.shape(simu.DEM)[0]+1,\n                                  np.shape(simu.DEM)[1]+1\n                                  ])\nfig, ax = plt.subplots()\nax.imshow(v_atmbc_mat)\n\n# np.shape([v_atmbc]*len(t_atmbc))\n\nsimu.update_atmbc(\n                    HSPATM=0,\n                    IETO=0,\n                    time=t_atmbc,\n                    netValue=[v_atmbc]*len(t_atmbc)\n                  )"
      ]
    },
    {
      "cell_type": "code",
      "execution_count": null,
      "metadata": {
        "collapsed": false
      },
      "outputs": [],
      "source": [
        "simu.run_processor(IPRT1=2, \n                    DTMIN=1e-2,\n                    DTMAX=1e2,\n                    DELTAT=5,\n                   TRAFLAG=0,\n                   verbose=False\n                   )\n\n# cplt.show_spatial_atmbc()"
      ]
    },
    {
      "cell_type": "code",
      "execution_count": null,
      "metadata": {
        "collapsed": false
      },
      "outputs": [],
      "source": [
        "cplt.show_vtk(\n    unit=\"pressure\",\n    timeStep=1,\n    notebook=False,\n    path=simu.workdir + \"/atmbc_spatially_from_weill/vtk/\",\n    savefig=True,\n)"
      ]
    },
    {
      "cell_type": "code",
      "execution_count": null,
      "metadata": {
        "collapsed": false
      },
      "outputs": [],
      "source": [
        "cplt.show_vtk_TL(\n                unit=\"pressure\",\n                notebook=False,\n                path=simu.workdir + simu.project_name + \"/vtk/\",\n                show=False,\n                x_units='days',\n                clim = [0.55,0.70],\n                savefig=True,\n            )"
      ]
    }
  ],
  "metadata": {
    "kernelspec": {
      "display_name": "Python 3",
      "language": "python",
      "name": "python3"
    },
    "language_info": {
      "codemirror_mode": {
        "name": "ipython",
        "version": 3
      },
      "file_extension": ".py",
      "mimetype": "text/x-python",
      "name": "python",
      "nbconvert_exporter": "python",
      "pygments_lexer": "ipython3",
      "version": "3.10.16"
    }
  },
  "nbformat": 4,
  "nbformat_minor": 0
}