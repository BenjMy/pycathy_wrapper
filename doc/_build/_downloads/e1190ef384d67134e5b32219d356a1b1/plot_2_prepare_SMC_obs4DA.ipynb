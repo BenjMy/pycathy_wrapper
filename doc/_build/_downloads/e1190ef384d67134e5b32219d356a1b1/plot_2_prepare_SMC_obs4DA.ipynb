{
  "cells": [
    {
      "cell_type": "code",
      "execution_count": null,
      "metadata": {
        "collapsed": false
      },
      "outputs": [],
      "source": [
        "%matplotlib inline\nfrom pyvista import set_plot_theme\nset_plot_theme(\"document\")"
      ]
    },
    {
      "cell_type": "markdown",
      "metadata": {},
      "source": [
        "\n# Read SMC sensors observations to assimilate\n\nThe notebook illustrate how to read SMC sensors dataset to be prepare for DA\n\n*Estimated time to run the notebook = 2min*\n"
      ]
    },
    {
      "cell_type": "code",
      "execution_count": null,
      "metadata": {
        "collapsed": false
      },
      "outputs": [],
      "source": [
        "import numpy as np\nfrom pyCATHY.DA.cathy_DA import DA\nimport pandas as pd\nimport matplotlib.pyplot as plt\nfrom pyCATHY.DA.cathy_DA import DA, dictObs_2pd\nfrom pyCATHY.DA.observations import read_observations, prepare_observations, make_data_cov\nfrom pathlib import Path\nimport pyvista as pv"
      ]
    },
    {
      "cell_type": "markdown",
      "metadata": {},
      "source": [
        "-----------------------\n\n"
      ]
    },
    {
      "cell_type": "code",
      "execution_count": null,
      "metadata": {
        "collapsed": false
      },
      "outputs": [],
      "source": [
        "simuWithDA = DA(\n                dirName='./DA_with_swc',\n                prj_name='import_SMC',\n                notebook=True,\n                )"
      ]
    },
    {
      "cell_type": "markdown",
      "metadata": {},
      "source": [
        "------------------------------\nGenerate date range for two days at hourly intervals\n\n"
      ]
    },
    {
      "cell_type": "code",
      "execution_count": null,
      "metadata": {
        "collapsed": false
      },
      "outputs": [],
      "source": [
        "date_range = pd.date_range(start='2023-01-01', end='2023-01-03', freq='H')\n\n# Create smoother soil moisture data using cumulative sum of random changes\nsm_data = {f'SM{i}': np.cumsum(np.random.normal(0, 1, len(date_range))) + 25 + 10*i for i in range(1, 4)}\n\n# Create a dataframe with smoother data\nsm_smooth = pd.DataFrame(sm_data, index=date_range)\n\n# Plot the smoother soil moisture data\nsm_smooth.plot(figsize=(12, 6), marker='o')\nplt.xlabel('DateTime')\nplt.ylabel('Soil Moisture (%)')\nplt.title('Soil Moisture Content from SMC Sensors (Smoothed Data)')\nplt.legend()\nplt.xticks(rotation=45)\nplt.grid(True)\nplt.tight_layout()\nplt.show()\n\nsm_smooth['Seconds'] = (sm_smooth.index - sm_smooth.index[0]).total_seconds()"
      ]
    },
    {
      "cell_type": "code",
      "execution_count": null,
      "metadata": {
        "collapsed": false
      },
      "outputs": [],
      "source": [
        "simuWithDA.create_mesh_vtk()\n\nSMC_XY = [5,5]\nSMC_depths = [0.05,0.25,0.75] # SMC depths\n# find the altitudes of the nodes at the mesh position x, y = (0.05,0.25)\n_ , closest = simuWithDA.find_nearest_node(SMC_XY)\n\nnodes_SMC = []\nclosestPos = []\nfor d in SMC_depths:\n    SMC_XYZi = [5,5,closest[0][2]-d]\n    nodeId, closest = simuWithDA.find_nearest_node(SMC_XYZi)\n    nodes_SMC.append(nodeId)\n    closestPos.append(closest)\n\nnodes_SMC = np.hstack(nodes_SMC)\nSMC_XYZ = np.vstack(closestPos)\n\n\npl = pv.Plotter(notebook=True)\nmesh = pv.read(\n    Path(simuWithDA.workdir) /\n    simuWithDA.project_name /\n    f'vtk/{simuWithDA.project_name}.vtk'\n)\npl.add_mesh(mesh,\n           opacity=0.7\n           )\npl.add_points(SMC_XYZ,\n             color='red'\n             )\npl.show_grid()\npl.show()"
      ]
    },
    {
      "cell_type": "code",
      "execution_count": null,
      "metadata": {
        "collapsed": false
      },
      "outputs": [],
      "source": [
        "abs_data_err = 1e-1 # constant error does not vary with time\ndict_obs = {} # initiate the dictionnary\n\nfor i in range(len(sm_smooth.columns)-1):\n    for j, assimilation_time_sec in enumerate(sm_smooth['Seconds']):\n        dict_obs = read_observations(\n                                        dict_obs,\n                                        obs_2_add=sm_smooth[sm_smooth.columns[i]].iloc[j],\n                                        tA=assimilation_time_sec,\n                                        mesh_nodes = nodes_SMC[i],\n                                        data_type='swc',\n                                        data_err=abs_data_err,\n                                        colname=' m\u00b3/m\u00b3 Water Content',\n                                        datetime=sm_smooth.index[j]\n                                        )\n\ndata_measure_df = dictObs_2pd(dict_obs)\ndata_measure_df"
      ]
    },
    {
      "cell_type": "markdown",
      "metadata": {},
      "source": [
        "By default, there is no correlation between sensors\nTherefore, the covariance matrices are diagonal with the error values on the diagonals\n\n"
      ]
    },
    {
      "cell_type": "code",
      "execution_count": null,
      "metadata": {
        "collapsed": false
      },
      "outputs": [],
      "source": [
        "_,_, stacked_data_cov = make_data_cov(\n                                        simuWithDA,\n                                        dict_obs,\n                                        list_assimilated_obs = 'swc',\n                                        )\nprint(np.shape(stacked_data_cov))\nsimuWithDA.stacked_data_cov = stacked_data_cov"
      ]
    },
    {
      "cell_type": "code",
      "execution_count": null,
      "metadata": {
        "collapsed": false
      },
      "outputs": [],
      "source": [
        "import pickle\nwith open('obs_prepared_SMC.pkl', 'wb') as fp:\n    pickle.dump(dict_obs, fp)"
      ]
    }
  ],
  "metadata": {
    "kernelspec": {
      "display_name": "Python 3",
      "language": "python",
      "name": "python3"
    },
    "language_info": {
      "codemirror_mode": {
        "name": "ipython",
        "version": 3
      },
      "file_extension": ".py",
      "mimetype": "text/x-python",
      "name": "python",
      "nbconvert_exporter": "python",
      "pygments_lexer": "ipython3",
      "version": "3.10.16"
    }
  },
  "nbformat": 4,
  "nbformat_minor": 0
}