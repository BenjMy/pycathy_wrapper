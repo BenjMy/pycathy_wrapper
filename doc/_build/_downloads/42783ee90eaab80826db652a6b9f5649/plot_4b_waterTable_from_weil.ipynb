{
  "cells": [
    {
      "cell_type": "markdown",
      "metadata": {},
      "source": [
        "\n# Plot Water Table\n\nWeill, S., et al. \u00ab Coupling Water Flow and Solute Transport into a Physically-Based Surface\u2013Subsurface Hydrological Model \u00bb. \nAdvances in Water Resources, vol. 34, no 1, janvier 2011, p. 128\u201136. DOI.org (Crossref), \nhttps://doi.org/10.1016/j.advwatres.2010.10.001.\n\nThis example shows how to use pyCATHY object to plot the water table for each node points.\n\n*Estimated time to run the notebook = 5min*\n"
      ]
    },
    {
      "cell_type": "markdown",
      "metadata": {},
      "source": [
        "Here we need to import `cathy_tools` class that control the CATHY core files preprocessing and processing\nWe also import `cathy_plots` to render the results\n\n\n"
      ]
    },
    {
      "cell_type": "code",
      "execution_count": null,
      "metadata": {
        "collapsed": false
      },
      "outputs": [],
      "source": [
        "from pyCATHY import cathy_tools\nfrom pyCATHY.plotters import cathy_plots as cplt\nfrom pyCATHY.importers import cathy_inputs as in_CT\nfrom pyCATHY.importers import cathy_outputs as out_CT\nimport pyCATHY.meshtools as mt"
      ]
    },
    {
      "cell_type": "markdown",
      "metadata": {},
      "source": [
        "if you add True to verbose, the processor log will be printed in the window shell\n\n"
      ]
    },
    {
      "cell_type": "code",
      "execution_count": null,
      "metadata": {
        "collapsed": false
      },
      "outputs": [],
      "source": [
        "path2prj = \"weil_exemple_outputs_WaterTable_plot\"  # add your local path here\nsimu = cathy_tools.CATHY(dirName=path2prj)\n\n\n\n# ```{note}\n# Here is a note\n# ```"
      ]
    },
    {
      "cell_type": "code",
      "execution_count": null,
      "metadata": {
        "collapsed": false
      },
      "outputs": [],
      "source": [
        "# simu.update_parm(NUMVP=3, NODVP=[337,338,339,440,441,442], \n#                   NR=3, ID_NR=[337,338,339,440,441,442],\n#                   # NUM_QOUT=3, ID_QOUT=[440,441,442]\n#                  )"
      ]
    },
    {
      "cell_type": "code",
      "execution_count": null,
      "metadata": {
        "collapsed": false
      },
      "outputs": [],
      "source": [
        "simu.run_processor(TRAFLAG=0, verbose=True)"
      ]
    },
    {
      "cell_type": "code",
      "execution_count": null,
      "metadata": {
        "collapsed": false
      },
      "outputs": [],
      "source": [
        "import numpy as np\nd_sw, t_sw = simu.read_outputs('sw')\nlayers_top, layers_bottom = mt.get_layer_depths(simu.dem_parameters)\nxyz_df = simu.read_outputs('xyz')"
      ]
    },
    {
      "cell_type": "code",
      "execution_count": null,
      "metadata": {
        "collapsed": false
      },
      "outputs": [],
      "source": [
        "time = 3\n\nwater_table_bool = (d_sw == 1)\n\nsat_elevation = np.vstack([d_sw[time,:],xyz_df[['x','y','z']].to_numpy().T]).T\nsat_elevation_select = sat_elevation[water_table_bool[time,:]]\n\ndef max_z_indices_for_duplicate_xy(xyz):\n    xy = xyz[:, :2]  # Extract XY values from XYZ array\n    unique_xy = np.unique(xy, axis=0)  # Get unique XY values\n    max_z_indices_list = []\n    for xy_value in unique_xy:\n        indices = np.where(np.all(xy == xy_value, axis=1))[0]\n        max_z_index = indices[np.argmax(xyz[indices, -1])]\n        max_z_indices_list.append(max_z_index)\n\n    return max_z_indices_list\n\n\nmax_z_indices_list = max_z_indices_for_duplicate_xy(sat_elevation[:,1:4])\ntopo = sat_elevation[max_z_indices_list]\n\n\nmax_z_indices_list = max_z_indices_for_duplicate_xy(sat_elevation_select[:,1:4])\nsat_elevation_select_max = sat_elevation_select[max_z_indices_list]\n\n\nimport matplotlib.pyplot as plt\nfig, ax = plt.subplots()\ncb = ax.scatter(sat_elevation_select_max[:,1],\n                sat_elevation_select_max[:,2],\n                c=sat_elevation_select_max[:,3])\ncbar = plt.colorbar(cb)\ncbar.set_label('GW elevation')\n\n\nfig, ax = plt.subplots()\ncb = ax.scatter(sat_elevation_select_max[:,1],\n                sat_elevation_select_max[:,2],\n                c=topo[:,3]-sat_elevation_select_max[:,3]\n                )\ncbar = plt.colorbar(cb)\ncbar.set_label('GW depth')\n\n\n# fig, ax = plt.subplots()\n# ax.imshow(sat_depth_select_max[:,1],sat_depth_select_max[:,2])"
      ]
    },
    {
      "cell_type": "code",
      "execution_count": null,
      "metadata": {
        "collapsed": false
      },
      "outputs": [],
      "source": [
        "simu.show(prop=\"hgsfdet\")"
      ]
    },
    {
      "cell_type": "code",
      "execution_count": null,
      "metadata": {
        "collapsed": false
      },
      "outputs": [],
      "source": [
        "simu.show(prop=\"dtcoupling\", yprop=\"Atmpot-d\")"
      ]
    },
    {
      "cell_type": "code",
      "execution_count": null,
      "metadata": {
        "collapsed": false
      },
      "outputs": [],
      "source": [
        "simu.show(prop=\"hgraph\")"
      ]
    },
    {
      "cell_type": "code",
      "execution_count": null,
      "metadata": {
        "collapsed": false
      },
      "outputs": [],
      "source": [
        "simu.show(prop=\"cumflowvol\")"
      ]
    },
    {
      "cell_type": "markdown",
      "metadata": {},
      "source": [
        "To select another time step change the value in the function argument\n\n"
      ]
    },
    {
      "cell_type": "code",
      "execution_count": null,
      "metadata": {
        "collapsed": false
      },
      "outputs": [],
      "source": [
        "cplt.show_vtk(\n    unit=\"pressure\",\n    timeStep=1,\n    notebook=True,\n    path=simu.workdir + \"/my_cathy_prj/vtk/\",\n)"
      ]
    },
    {
      "cell_type": "code",
      "execution_count": null,
      "metadata": {
        "collapsed": false
      },
      "outputs": [],
      "source": [
        "cplt.show_vtk(\n    unit=\"saturation\",\n    timeStep=1,\n    notebook=True,\n    path=simu.workdir + \"/my_cathy_prj/vtk/\",\n)"
      ]
    },
    {
      "cell_type": "code",
      "execution_count": null,
      "metadata": {
        "collapsed": false
      },
      "outputs": [],
      "source": [
        "simu.show_input(prop=\"root_map\")"
      ]
    }
  ],
  "metadata": {
    "kernelspec": {
      "display_name": "Python 3",
      "language": "python",
      "name": "python3"
    },
    "language_info": {
      "codemirror_mode": {
        "name": "ipython",
        "version": 3
      },
      "file_extension": ".py",
      "mimetype": "text/x-python",
      "name": "python",
      "nbconvert_exporter": "python",
      "pygments_lexer": "ipython3",
      "version": "3.10.9"
    }
  },
  "nbformat": 4,
  "nbformat_minor": 0
}