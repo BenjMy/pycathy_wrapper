{
  "cells": [
    {
      "cell_type": "code",
      "execution_count": null,
      "metadata": {
        "collapsed": false
      },
      "outputs": [],
      "source": [
        "%matplotlib inline\nfrom pyvista import set_plot_theme\nset_plot_theme(\"document\")"
      ]
    },
    {
      "cell_type": "markdown",
      "metadata": {},
      "source": [
        "\n# Input plots\n\nWeill, S., et al. \u00ab Coupling Water Flow and Solute Transport into a Physically-Based Surface\u2013Subsurface Hydrological Model \u00bb. \nAdvances in Water Resources, vol. 34, no 1, janvier 2011, p. 128\u201136. DOI.org (Crossref), \nhttps://doi.org/10.1016/j.advwatres.2010.10.001.\n\nThis example shows how to use pyCATHY object to plot inputs of the hydrological model.\n\n*Estimated time to run the notebook = 5min*\n"
      ]
    },
    {
      "cell_type": "code",
      "execution_count": null,
      "metadata": {
        "collapsed": false
      },
      "outputs": [],
      "source": [
        "# map_prop_veg ?\n# map_prop2zone"
      ]
    },
    {
      "cell_type": "code",
      "execution_count": null,
      "metadata": {
        "collapsed": false
      },
      "outputs": [],
      "source": [
        "import numpy as np\n\nfrom pyCATHY import cathy_tools\nfrom pyCATHY.plotters import cathy_plots as cplt"
      ]
    },
    {
      "cell_type": "code",
      "execution_count": null,
      "metadata": {
        "collapsed": false
      },
      "outputs": [],
      "source": [
        "path2prj = \"../SSHydro/\"  # add your local path here\nsimu = cathy_tools.CATHY(dirName=path2prj, \n\t\t\tprj_name=\"weill_exemple_input_plots\"\n\t\t\t)\n\t\t\t\n# simu.run_preprocessor()"
      ]
    },
    {
      "cell_type": "markdown",
      "metadata": {},
      "source": [
        "simu.show_input(prop=\"dem\")\n\n"
      ]
    },
    {
      "cell_type": "code",
      "execution_count": null,
      "metadata": {
        "collapsed": false
      },
      "outputs": [],
      "source": [
        "# show time atmbc\n# simu.show_input(prop='atmbc')\n\n# In progress --> show spatial atmbc\n\n# simu.update_dem_parameters()\n# simu.update_prepo_inputs()"
      ]
    },
    {
      "cell_type": "markdown",
      "metadata": {},
      "source": [
        "Add a new zone\n\n"
      ]
    },
    {
      "cell_type": "code",
      "execution_count": null,
      "metadata": {
        "collapsed": false
      },
      "outputs": [],
      "source": [
        "simu.update_prepo_inputs()\nsimu.update_veg_map(np.ones([int(simu.hapin['N']),int(simu.hapin['M'])]))\nsimu.update_zone(np.ones([int(simu.hapin['N']),int(simu.hapin['M'])]))\nsimu.show_input(prop=\"root_map\")\n\n# simu.update_soil()"
      ]
    },
    {
      "cell_type": "code",
      "execution_count": null,
      "metadata": {
        "collapsed": false
      },
      "outputs": [],
      "source": [
        "veg_map = simu.veg_map\nveg_map[2:6, 5:14] = 2\nsimu.update_veg_map(veg_map)\nsimu.show_input(prop=\"root_map\")"
      ]
    },
    {
      "cell_type": "markdown",
      "metadata": {},
      "source": [
        "Feddes is a dictionnary with 6 entries, and for each a list\n\n"
      ]
    },
    {
      "cell_type": "code",
      "execution_count": null,
      "metadata": {
        "collapsed": false
      },
      "outputs": [],
      "source": [
        "# _, df_soil_FP = simu.read_inputs('soil',MAXVEG=1)\n\ndf_soil_FP_2veg = simu.init_soil_FP_map_df(nveg=2)\ndf_soil_FP_2veg = simu.set_SOIL_defaults(FP_map_default=True)\n\n# FP_map_1zone = simu.soil_FP[\"FP_map\"]  # read existing mapping\n\n# FP_map_2zones = {}\nfor k in df_soil_FP_2veg.keys():\n    if k == \"ZROOT\":\n        ZROOT_zone2 = df_soil_FP_2veg[\"ZROOT\"].values[0] / 2\n        df_soil_FP_2veg[k] = [df_soil_FP_2veg[k].values[0], ZROOT_zone2]\n    else:\n        df_soil_FP_2veg[k] = [df_soil_FP_2veg[k].values[0], df_soil_FP_2veg[k].values[0]]\n\n# simu.show_input(prop='soil', yprop='ZROOT', layer_nb=12)"
      ]
    },
    {
      "cell_type": "code",
      "execution_count": null,
      "metadata": {
        "collapsed": false
      },
      "outputs": [],
      "source": [
        "simu.update_soil(FP_map=df_soil_FP_2veg, show=True)\n\n# simu.update_zone(veg_map)\n# simu.update_veg_map(veg_map)\n\nsimu.show_input(prop=\"soil\", yprop=\"PERMX\", layer_nb=4)\n\n# Here we can imaging to get a more complexe vegetation map from remote sensing data instead"
      ]
    },
    {
      "cell_type": "code",
      "execution_count": null,
      "metadata": {
        "collapsed": false
      },
      "outputs": [],
      "source": [
        "simu.update_prepo_inputs()"
      ]
    },
    {
      "cell_type": "markdown",
      "metadata": {},
      "source": [
        "This will automatically create a new vtk mesh containing the zone flags\nerror --> number of tretra in grid3d < n of tretra in the mesh (mission one element)\n\n"
      ]
    },
    {
      "cell_type": "code",
      "execution_count": null,
      "metadata": {
        "collapsed": false
      },
      "outputs": [],
      "source": [
        "simu.update_zone()"
      ]
    },
    {
      "cell_type": "code",
      "execution_count": null,
      "metadata": {
        "collapsed": false
      },
      "outputs": [],
      "source": [
        "simu.show_input(prop=\"soil\", yprop=\"PERMX\", layer_nb=1)\nsimu.show_input(prop=\"soil\", yprop=\"POROS\", layer_nb=2)"
      ]
    },
    {
      "cell_type": "markdown",
      "metadata": {},
      "source": [
        "Show layer number 10\n\n"
      ]
    },
    {
      "cell_type": "code",
      "execution_count": null,
      "metadata": {
        "collapsed": false
      },
      "outputs": [],
      "source": [
        "simu.show_input(prop=\"soil\", yprop=\"VGNCELL\", layer_nb=10)"
      ]
    },
    {
      "cell_type": "code",
      "execution_count": null,
      "metadata": {
        "collapsed": false
      },
      "outputs": [],
      "source": [
        "simu.update_soil()\ndf_soil, _ = simu.read_inputs(\"soil\")\ndf = simu.read_inputs(\"soil\")"
      ]
    },
    {
      "cell_type": "code",
      "execution_count": null,
      "metadata": {
        "collapsed": false
      },
      "outputs": [],
      "source": [
        "zones = simu.zone\nsimu.update_prepo_inputs()\nzones[5:14, 5:14] = 2\nsimu.update_zone(zones)\nsimu.show_input(prop=\"zone\")"
      ]
    },
    {
      "cell_type": "markdown",
      "metadata": {},
      "source": [
        "we just need to build a dictionnary as: {property: [value_zone1, value_zone2]}\nor a panda dataframe\n\n"
      ]
    },
    {
      "cell_type": "code",
      "execution_count": null,
      "metadata": {
        "collapsed": false
      },
      "outputs": [],
      "source": [
        "df_SPP_map = simu.init_soil_SPP_map_df(nzones=2,nstr=15)\nSPP_map_2zones = simu.set_SOIL_defaults(SPP_map_default=True)\n\nSPP_map_2zones.xs(2).loc[:,'PERMX'] = 0.000188/5\n\nsimu.update_soil(SPP_map=SPP_map_2zones)"
      ]
    },
    {
      "cell_type": "code",
      "execution_count": null,
      "metadata": {
        "collapsed": false
      },
      "outputs": [],
      "source": [
        "simu.show_input(prop=\"soil\", yprop=\"PERMX\", layer_nb=2)"
      ]
    },
    {
      "cell_type": "code",
      "execution_count": null,
      "metadata": {
        "collapsed": false
      },
      "outputs": [],
      "source": [
        "simu.show_input(prop=\"soil\", yprop=\"PERMX\", layer_nb=12)"
      ]
    }
  ],
  "metadata": {
    "kernelspec": {
      "display_name": "Python 3",
      "language": "python",
      "name": "python3"
    },
    "language_info": {
      "codemirror_mode": {
        "name": "ipython",
        "version": 3
      },
      "file_extension": ".py",
      "mimetype": "text/x-python",
      "name": "python",
      "nbconvert_exporter": "python",
      "pygments_lexer": "ipython3",
      "version": "3.10.16"
    }
  },
  "nbformat": 4,
  "nbformat_minor": 0
}