{
  "cells": [
    {
      "cell_type": "code",
      "execution_count": null,
      "metadata": {
        "collapsed": false
      },
      "outputs": [],
      "source": [
        "%matplotlib inline"
      ]
    },
    {
      "cell_type": "markdown",
      "metadata": {},
      "source": [
        "\n# Input plots\n\nThis example shows how to use pyCATHY object to plot inputs of the hydrological model.\n\n*Estimated time to run the notebook = 5min*\n"
      ]
    },
    {
      "cell_type": "code",
      "execution_count": null,
      "metadata": {
        "collapsed": false
      },
      "outputs": [],
      "source": [
        "# map_prop_veg ?\n# map_prop2zone"
      ]
    },
    {
      "cell_type": "code",
      "execution_count": null,
      "metadata": {
        "collapsed": false
      },
      "outputs": [],
      "source": [
        "import numpy as np\n\nfrom pyCATHY import cathy_tools\nfrom pyCATHY.plotters import cathy_plots as cplt"
      ]
    },
    {
      "cell_type": "code",
      "execution_count": null,
      "metadata": {
        "collapsed": false
      },
      "outputs": [],
      "source": [
        "path2prj = \"weil_exemple_inputs_plot\"  # add your local path here\nsimu = cathy_tools.CATHY(dirName=path2prj)\n# simu.run_preprocessor()"
      ]
    },
    {
      "cell_type": "code",
      "execution_count": null,
      "metadata": {
        "collapsed": false
      },
      "outputs": [],
      "source": [
        "simu.show_input(prop=\"dem\")"
      ]
    },
    {
      "cell_type": "code",
      "execution_count": null,
      "metadata": {
        "collapsed": false
      },
      "outputs": [],
      "source": [
        "# show time atmbc\n# simu.show_input(prop='atmbc')\n\n# In progress --> show spatial atmbc\n\n# simu.update_dem_parameters()\n# simu.update_prepo_inputs()"
      ]
    },
    {
      "cell_type": "markdown",
      "metadata": {},
      "source": [
        "In progress --> This will automatically create a new vtk mesh containing the\n\n"
      ]
    },
    {
      "cell_type": "code",
      "execution_count": null,
      "metadata": {
        "collapsed": false
      },
      "outputs": [],
      "source": [
        "simu.show_input(prop=\"root_map\")"
      ]
    },
    {
      "cell_type": "markdown",
      "metadata": {},
      "source": [
        "Add a new zone\n\n"
      ]
    },
    {
      "cell_type": "code",
      "execution_count": null,
      "metadata": {
        "collapsed": false
      },
      "outputs": [],
      "source": [
        "simu.update_prepo_inputs()\nsimu.update_veg_map()  # calling without args to get the default values\nsimu.update_soil()"
      ]
    },
    {
      "cell_type": "code",
      "execution_count": null,
      "metadata": {
        "collapsed": false
      },
      "outputs": [],
      "source": [
        "veg_map = simu.veg_map\nveg_map[2:6, 5:14] = 2\nsimu.update_veg_map(veg_map)\nsimu.show_input(prop=\"root_map\")"
      ]
    },
    {
      "cell_type": "markdown",
      "metadata": {},
      "source": [
        "Feddes is a dictionnary with 6 entries, and for each a list\n\n"
      ]
    },
    {
      "cell_type": "code",
      "execution_count": null,
      "metadata": {
        "collapsed": false
      },
      "outputs": [],
      "source": [
        "FP_map_1zone = simu.soil_FP[\"FP_map\"]  # read existing mapping\nFP_map_2zones = {}\nfor k in FP_map_1zone:\n    if k == \"ZROOT\":\n        ZROOT_zone2 = FP_map_1zone[\"ZROOT\"][0] / 2\n        FP_map_2zones[k] = [FP_map_1zone[k][0], ZROOT_zone2]\n    else:\n        FP_map_2zones[k] = [FP_map_1zone[k][0], FP_map_1zone[k][0]]\n\n# simu.show_input(prop='soil', yprop='ZROOT', layer_nb=12)"
      ]
    },
    {
      "cell_type": "code",
      "execution_count": null,
      "metadata": {
        "collapsed": false
      },
      "outputs": [],
      "source": [
        "simu.update_soil(FP_map=FP_map_2zones, show=True)\n\nsimu.update_zone()\nsimu.show_input(prop=\"soil\", yprop=\"PERMX\", layer_nb=4)\n\n# Here we can imaging to get a more complexe vegetation map from remote sensing data instead"
      ]
    },
    {
      "cell_type": "code",
      "execution_count": null,
      "metadata": {
        "collapsed": false
      },
      "outputs": [],
      "source": [
        "simu.update_prepo_inputs()"
      ]
    },
    {
      "cell_type": "markdown",
      "metadata": {},
      "source": [
        "This will automatically create a new vtk mesh containing the zone flags\nerror --> number of tretra in grid3d < n of tretra in the mesh (mission one element)\n\n"
      ]
    },
    {
      "cell_type": "code",
      "execution_count": null,
      "metadata": {
        "collapsed": false
      },
      "outputs": [],
      "source": [
        "simu.update_zone()"
      ]
    },
    {
      "cell_type": "code",
      "execution_count": null,
      "metadata": {
        "collapsed": false
      },
      "outputs": [],
      "source": [
        "simu.show_input(prop=\"soil\", yprop=\"PERMX\", layer_nb=1)\nsimu.show_input(prop=\"soil\", yprop=\"POROS\", layer_nb=2)"
      ]
    },
    {
      "cell_type": "markdown",
      "metadata": {},
      "source": [
        "Show layer number 10\n\n"
      ]
    },
    {
      "cell_type": "code",
      "execution_count": null,
      "metadata": {
        "collapsed": false
      },
      "outputs": [],
      "source": [
        "simu.show_input(prop=\"soil\", yprop=\"VGNCELL\", layer_nb=10)"
      ]
    },
    {
      "cell_type": "code",
      "execution_count": null,
      "metadata": {
        "collapsed": false
      },
      "outputs": [],
      "source": [
        "simu.update_soil()\ndf_soil, _ = simu.read_inputs(\"soil\")\ndf = simu.read_inputs(\"soil\")"
      ]
    },
    {
      "cell_type": "code",
      "execution_count": null,
      "metadata": {
        "collapsed": false
      },
      "outputs": [],
      "source": [
        "zones = simu.zone\nsimu.update_prepo_inputs()\nzones[5:14, 5:14] = 2\nsimu.update_zone(zones)\nsimu.show_input(prop=\"zone\")"
      ]
    },
    {
      "cell_type": "markdown",
      "metadata": {},
      "source": [
        "we just need to build a dictionnary as: {property: [value_zone1, value_zone2]}\n\n"
      ]
    },
    {
      "cell_type": "code",
      "execution_count": null,
      "metadata": {
        "collapsed": false
      },
      "outputs": [],
      "source": [
        "# what if dimension of the heteregeneity is 3d?\n\nSPP_map_1zone = simu.soil_SPP[\"SPP_map\"]  # read existing mapping\nSPP_map_2zones = {}\nfor k in SPP_map_1zone:\n    if k == \"PERMX\":\n        PERMX_zone2 = SPP_map_1zone[\"PERMX\"][0] / 2\n        SPP_map_2zones[k] = [SPP_map_1zone[k][0], PERMX_zone2]\n    else:\n        SPP_map_2zones[k] = [SPP_map_1zone[k][0], SPP_map_1zone[k][0]]\n\n\nsimu.update_soil(SPP_map=SPP_map_2zones)"
      ]
    },
    {
      "cell_type": "code",
      "execution_count": null,
      "metadata": {
        "collapsed": false
      },
      "outputs": [],
      "source": [
        "simu.show_input(prop=\"soil\", yprop=\"PERMX\", layer_nb=2)\n\nsimu.show_input(prop=\"soil\", yprop=\"PERMX\", layer_nb=12)"
      ]
    }
  ],
  "metadata": {
    "kernelspec": {
      "display_name": "Python 3",
      "language": "python",
      "name": "python3"
    },
    "language_info": {
      "codemirror_mode": {
        "name": "ipython",
        "version": 3
      },
      "file_extension": ".py",
      "mimetype": "text/x-python",
      "name": "python",
      "nbconvert_exporter": "python",
      "pygments_lexer": "ipython3",
      "version": "3.9.13"
    }
  },
  "nbformat": 4,
  "nbformat_minor": 0
}