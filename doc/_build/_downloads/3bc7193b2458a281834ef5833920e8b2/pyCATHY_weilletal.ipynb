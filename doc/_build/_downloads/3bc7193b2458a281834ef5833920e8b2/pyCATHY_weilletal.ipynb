{
  "cells": [
    {
      "cell_type": "code",
      "execution_count": null,
      "metadata": {
        "collapsed": false
      },
      "outputs": [],
      "source": [
        "%matplotlib inline"
      ]
    },
    {
      "cell_type": "markdown",
      "metadata": {},
      "source": [
        "\n# Weil et al example\n"
      ]
    },
    {
      "cell_type": "code",
      "execution_count": null,
      "metadata": {
        "collapsed": false
      },
      "outputs": [],
      "source": [
        "# In[2]:\n\nfrom pyCATHY import cathy_tools\nfrom pyCATHY.plotters import cathy_plots as cplt\n\n# In[13]:\n\n\npath2prj ='weil_exemple' # add your local path here\nsimu = cathy_tools.CATHY(dirName=path2prj)\nsimu.run_processor(IPRT1=2,verbose=True)\n\ncplt.show_vtk(unit='pressure',\n              timeStep=1,\n              notebook=False, \n              path='./my_cathy_prj/vtk/'\n             )"
      ]
    }
  ],
  "metadata": {
    "kernelspec": {
      "display_name": "Python 3",
      "language": "python",
      "name": "python3"
    },
    "language_info": {
      "codemirror_mode": {
        "name": "ipython",
        "version": 3
      },
      "file_extension": ".py",
      "mimetype": "text/x-python",
      "name": "python",
      "nbconvert_exporter": "python",
      "pygments_lexer": "ipython3",
      "version": "3.9.9"
    }
  },
  "nbformat": 4,
  "nbformat_minor": 0
}