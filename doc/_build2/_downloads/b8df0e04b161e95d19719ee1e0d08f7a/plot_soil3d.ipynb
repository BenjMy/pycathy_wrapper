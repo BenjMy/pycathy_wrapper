{
  "cells": [
    {
      "cell_type": "code",
      "execution_count": null,
      "metadata": {
        "collapsed": false
      },
      "outputs": [],
      "source": [
        "%matplotlib inline"
      ]
    },
    {
      "cell_type": "markdown",
      "metadata": {},
      "source": [
        "\nCreated on Thu Feb  2 17:35:10 2023\n\n@author: ben\n"
      ]
    },
    {
      "cell_type": "code",
      "execution_count": null,
      "metadata": {
        "collapsed": false
      },
      "outputs": [],
      "source": [
        "from pyCATHY import cathy_tools\nfrom pyCATHY.plotters import cathy_plots as cplt\nfrom pyCATHY.importers import cathy_inputs as in_CT\nfrom pyCATHY.importers import cathy_outputs as out_CT\nimport pyCATHY.meshtools as mt\nimport numpy as np\nimport matplotlib.pyplot as plt\nimport pandas as pd\n\n# Init CATHY model\n# ------------------------\npath2prj ='../SSHydro/' # add your local path here\nsimu = cathy_tools.CATHY(dirName=path2prj,prj_name='soil3d_het')"
      ]
    },
    {
      "cell_type": "code",
      "execution_count": null,
      "metadata": {
        "collapsed": false
      },
      "outputs": [],
      "source": [
        "simu.update_parm()\nsimu.update_veg_map()\nsimu.update_soil()    \n    \nfig = plt.figure()\nax = plt.axes(projection=\"3d\")\nsimu.show_input(prop='dem', ax=ax)\nplt.xticks(fontsize=8)\nplt.yticks(fontsize=8)\nplt.tight_layout()\n\n# plt.savefig('../figs/weil_dem.png', \n#             dpi=400, bbox_inches='tight', pad_inches=0)"
      ]
    },
    {
      "cell_type": "markdown",
      "metadata": {},
      "source": [
        "grid3d = utils_CATHY.create_mesh(simu)\n\n"
      ]
    },
    {
      "cell_type": "code",
      "execution_count": null,
      "metadata": {
        "collapsed": false
      },
      "outputs": [],
      "source": [
        "simu.create_mesh_vtk()\nsimu.update_zone()\nzone3d = mt.zone3d(simu)\n\nSPP_map =     {\n                    'PERMX': [1e-4, 1e-4],\n                    'PERMY': [1e-4, 1e-4],\n                    'PERMZ': [1e-4, 1e-4],\n                    'ELSTOR': [1e-05, 1e-05],\n                    'POROS': [0.55, 0.55],\n                    'VGNCELL': [1.46, 1.46],\n                    'VGRMCCELL': [0.15, 0.15],\n                    'VGPSATCELL': [0.03125, 0.03125]\n            }"
      ]
    },
    {
      "cell_type": "code",
      "execution_count": null,
      "metadata": {
        "collapsed": false
      },
      "outputs": [],
      "source": [
        "zone3d_topflag_test = np.ones(np.shape(zone3d))\nzone3d_topflag_test[:,:,0:5]=2\nsimu.update_zone(zone3d_topflag_test[0])\nsimu.update_soil(SPP_map=SPP_map,\n                 zone3d=zone3d_topflag_test,\n                 )\n\n\nsimu.run_processor(IPRT1=2,verbose=True)"
      ]
    },
    {
      "cell_type": "code",
      "execution_count": null,
      "metadata": {
        "collapsed": false
      },
      "outputs": [],
      "source": [
        "# cplt.show_vtk(unit='pressure',\n#               timeStep=1,\n#               notebook=False, \n#               path='./my_cathy_prj/vtk/'\n#              )"
      ]
    },
    {
      "cell_type": "code",
      "execution_count": null,
      "metadata": {
        "collapsed": false
      },
      "outputs": [],
      "source": [
        "SPP_map =     {\n                    'PERMX': [1e-4, 1e-5],\n                    'PERMY': [1e-4, 1e-5],\n                    'PERMZ': [1e-4, 1e-5],\n                    'ELSTOR': [1e-05, 1e-05],\n                    'POROS': [0.55, 0.55],\n                    'VGNCELL': [1.46, 1.46],\n                    'VGRMCCELL': [0.15, 0.15],\n                    'VGPSATCELL': [0.03125, 0.03125]\n            }\n\nsimu.update_soil(SPP_map=SPP_map,\n                 zone3d=zone3d_topflag_test,\n                 )"
      ]
    },
    {
      "cell_type": "code",
      "execution_count": null,
      "metadata": {
        "collapsed": false
      },
      "outputs": [],
      "source": [
        "# cplt.show_vtk(unit='pressure',\n#               timeStep=1,\n#               notebook=False, \n#               path='./my_cathy_prj/vtk/'\n#              )"
      ]
    }
  ],
  "metadata": {
    "kernelspec": {
      "display_name": "Python 3",
      "language": "python",
      "name": "python3"
    },
    "language_info": {
      "codemirror_mode": {
        "name": "ipython",
        "version": 3
      },
      "file_extension": ".py",
      "mimetype": "text/x-python",
      "name": "python",
      "nbconvert_exporter": "python",
      "pygments_lexer": "ipython3",
      "version": "3.9.13"
    }
  },
  "nbformat": 4,
  "nbformat_minor": 0
}