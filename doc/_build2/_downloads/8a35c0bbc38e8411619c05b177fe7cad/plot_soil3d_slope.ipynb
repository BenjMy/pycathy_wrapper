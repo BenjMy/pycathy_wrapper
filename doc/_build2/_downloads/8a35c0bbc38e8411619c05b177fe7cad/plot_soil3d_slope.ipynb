{
  "cells": [
    {
      "cell_type": "code",
      "execution_count": null,
      "metadata": {
        "collapsed": false
      },
      "outputs": [],
      "source": [
        "%matplotlib inline"
      ]
    },
    {
      "cell_type": "markdown",
      "metadata": {},
      "source": [
        "\nCreated on Thu Feb  2 17:35:10 2023\n\n@author: ben\n"
      ]
    },
    {
      "cell_type": "code",
      "execution_count": null,
      "metadata": {
        "collapsed": false
      },
      "outputs": [],
      "source": [
        "from pyCATHY import cathy_tools\nfrom pyCATHY.plotters import cathy_plots as cplt\nfrom pyCATHY.importers import cathy_inputs as in_CT\nfrom pyCATHY.importers import cathy_outputs as out_CT\nimport pyCATHY.meshtools as mt\nimport numpy as np\nimport matplotlib.pyplot as plt\nimport pandas as pd\n\n# Init CATHY model\n# ------------------------\npath2prj ='../SSHydro/' # add your local path here\nsimu = cathy_tools.CATHY(dirName=path2prj,prj_name='soil3d_het_slope')"
      ]
    },
    {
      "cell_type": "code",
      "execution_count": null,
      "metadata": {
        "collapsed": false
      },
      "outputs": [],
      "source": [
        "simu.update_parm()\nsimu.update_veg_map()\nsimu.update_soil()    \n    \nfig = plt.figure()\nax = plt.axes(projection=\"3d\")\nsimu.show_input(prop='dem', ax=ax)\nplt.xticks(fontsize=8)\nplt.yticks(fontsize=8)\nplt.tight_layout()\n\n# plt.savefig('../figs/weil_dem.png', \n#             dpi=400, bbox_inches='tight', pad_inches=0)"
      ]
    },
    {
      "cell_type": "markdown",
      "metadata": {},
      "source": [
        "grid3d = utils_CATHY.create_mesh(simu)\n\n"
      ]
    },
    {
      "cell_type": "code",
      "execution_count": null,
      "metadata": {
        "collapsed": false
      },
      "outputs": [],
      "source": [
        "simu.create_mesh_vtk()\nsimu.update_zone()\nzone3d = mt.zone3d(simu)\n\nSPP_map =     {\n                    'PERMX': [1e-4, 1e-4],\n                    'PERMY': [1e-4, 1e-4],\n                    'PERMZ': [1e-4, 1e-4],\n                    'ELSTOR': [1e-05, 1e-05],\n                    'POROS': [0.45, 0.55],\n                    'VGNCELL': [1.46, 1.46],\n                    'VGRMCCELL': [0.15, 0.15],\n                    'VGPSATCELL': [0.03125, 0.03125]\n            }"
      ]
    },
    {
      "cell_type": "code",
      "execution_count": null,
      "metadata": {
        "collapsed": false
      },
      "outputs": [],
      "source": [
        "zone3d_top = []\nzone3d_bot = []\nfor li in range(simu.dem_parameters[\"nstr\"]):\n    top, bot = mt.get_layer_depth(simu,li)\n    print(top)\n    zone3d_top.append(zone3d[li]*top)\n    zone3d_bot.append(zone3d[li]*bot)\n\nzone3d_top = np.array(zone3d_top)\nzone3d_bot = np.array(zone3d_bot)\n\n# Get coords dem\nxcoord_dem, ycoord_dem, dem_mat = cplt.get_dem_coords(hapin=simu.hapin,\n                                                        workdir=simu.workdir, \n                                                        project_name=simu.project_name,\n                                                        )\ndem_mat = np.flipud(dem_mat)\n\n# Adjust altitude of dem\n# dem_mat3d_layers = [dem_mat - zz for zz in zone3d_top] #-(zone3d_top-zone3d_bot)/2\ndem_mat3d_layers = [dem_mat - zz for zz in zone3d_top] #-(zone3d_top-zone3d_bot)/2\n\nnp.shape(dem_mat3d_layers)\nnp.shape(zone3d_top)\n\nzone3d_top"
      ]
    },
    {
      "cell_type": "code",
      "execution_count": null,
      "metadata": {
        "collapsed": false
      },
      "outputs": [],
      "source": [
        "slope_bedrockvar = 0.2\n\n\n# build a 2 grid\nxgrid, ygrid = np.meshgrid(ycoord_dem,xcoord_dem)\ngrid_coords = [xgrid, ygrid]\n\nzgrid_bedrock = (xgrid-min(xgrid[:,0]))*slope_bedrockvar\nzgrid_bedrock = abs(zgrid_bedrock)\n\nzone3d_topflag = []\nfor li in range(simu.dem_parameters[\"nstr\"]):\n    \n    zone3d_topbot = zone3d_top #+ (zone3d_top-zone3d_bot)/2\n    booltop = zone3d_topbot[li]<zgrid_bedrock\n    zone3d_defaultflag = np.ones(np.shape(zone3d_top[0]))\n    zone3d_defaultflag[booltop]=2\n    zone3d_topflag.append(zone3d_defaultflag)\n\nnp.shape(booltop)\nnp.shape(zone3d_topflag)\nzone3d_topflag = np.array(zone3d_topflag)"
      ]
    },
    {
      "cell_type": "code",
      "execution_count": null,
      "metadata": {
        "collapsed": false
      },
      "outputs": [],
      "source": [
        "# zone3d_topflag_test[:,:,0:5]=2\n\nsimu.update_zone(zone3d_topflag[0])\nsimu.update_soil(SPP_map=SPP_map,\n                 zone3d=zone3d_topflag,\n                 )"
      ]
    },
    {
      "cell_type": "code",
      "execution_count": null,
      "metadata": {
        "collapsed": false
      },
      "outputs": [],
      "source": [
        "simu.run_processor(IPRT1=2,verbose=True)"
      ]
    }
  ],
  "metadata": {
    "kernelspec": {
      "display_name": "Python 3",
      "language": "python",
      "name": "python3"
    },
    "language_info": {
      "codemirror_mode": {
        "name": "ipython",
        "version": 3
      },
      "file_extension": ".py",
      "mimetype": "text/x-python",
      "name": "python",
      "nbconvert_exporter": "python",
      "pygments_lexer": "ipython3",
      "version": "3.9.13"
    }
  },
  "nbformat": 4,
  "nbformat_minor": 0
}