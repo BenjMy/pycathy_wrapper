{
  "cells": [
    {
      "cell_type": "code",
      "source": [
        "%matplotlib inline"
      ],
      "outputs": [],
      "execution_count": null,
      "metadata": {
        "collapsed": false
      }
    },
    {
      "cell_type": "markdown",
      "source": [
        "\n",
        "# Weill et al example\n",
        "\n",
        "Weill, S., et al. « Coupling Water Flow and Solute Transport into a Physically-Based Surface–Subsurface Hydrological Model ». \n",
        "Advances in Water Resources, vol. 34, no 1, janvier 2011, p. 128‑36. DOI.org (Crossref), \n",
        "https://doi.org/10.1016/j.advwatres.2010.10.001.\n",
        "\n",
        "The CATHY gitbucket repository provides the Weill et al. dataset example to test the installation. On top of that, we provide a computational notebook code to reproduce the results using the **pyCATHY wrapper** (https://github.com/BenjMy/pycathy_wrapper). \n",
        "\n",
        "The notebook illustrate how to work interactively: execute single cell, see partial results at different processing steps (preprocessing, processing, output)... You can share it to work collaboratively on it by sharing the link and execute it from another PC without any installation required.\n",
        "\n",
        "\n",
        "*Estimated time to run the notebook = 5min*\n"
      ],
      "metadata": {}
    },
    {
      "cell_type": "code",
      "source": [
        "# In[2]:\n",
        "\n",
        "from pyCATHY import cathy_tools\n",
        "from pyCATHY.plotters import cathy_plots as cplt\n",
        "\n",
        "# In[13]:\n",
        "\n",
        "\n",
        "path2prj = \"weill_exemple\"  # add your local path here\n",
        "simu = cathy_tools.CATHY(dirName=path2prj)\n",
        "\n",
        "simu.run_processor(IPRT1=3, verbose=True)\n",
        "# simu.grid3d\n",
        "len(simu.grid3d[\"mesh_tetra\"])\n",
        "simu.run_processor(IPRT1=2, verbose=True)\n",
        "\n",
        "cplt.show_vtk(unit=\"pressure\", timeStep=1, notebook=False, path=\"./my_cathy_prj/vtk/\")"
      ],
      "outputs": [],
      "execution_count": null,
      "metadata": {
        "collapsed": false
      }
    }
  ],
  "metadata": {
    "kernelspec": {
      "display_name": "Python 3",
      "language": "python",
      "name": "python3"
    },
    "language_info": {
      "name": "python",
      "version": "3.8.10",
      "mimetype": "text/x-python",
      "codemirror_mode": {
        "name": "ipython",
        "version": 3
      },
      "pygments_lexer": "ipython3",
      "nbconvert_exporter": "python",
      "file_extension": ".py"
    },
    "nteract": {
      "version": "0.28.0"
    }
  },
  "nbformat": 4,
  "nbformat_minor": 0
}