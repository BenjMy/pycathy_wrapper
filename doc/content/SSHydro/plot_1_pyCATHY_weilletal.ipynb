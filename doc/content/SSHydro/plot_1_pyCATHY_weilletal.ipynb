{
  "cells": [
    {
      "cell_type": "code",
      "execution_count": null,
      "metadata": {
        "collapsed": false
      },
      "outputs": [],
      "source": [
        "%matplotlib inline\nfrom pyvista import set_plot_theme\nset_plot_theme(\"document\")"
      ]
    },
    {
      "cell_type": "markdown",
      "metadata": {},
      "source": [
        "\n# Weill et al example\n\nWeill, S., et al. \u00ab Coupling Water Flow and Solute Transport into a Physically-Based Surface\u2013Subsurface Hydrological Model \u00bb. \nAdvances in Water Resources, vol. 34, no 1, janvier 2011, p. 128\u201136. DOI.org (Crossref), \nhttps://doi.org/10.1016/j.advwatres.2010.10.001.\n\nThe CATHY gitbucket repository provides the Weill et al. dataset example to test the installation. On top of that, we provide a computational notebook code to reproduce the results using the **pyCATHY wrapper** (https://github.com/BenjMy/pycathy_wrapper). \n\nThe notebook illustrate how to work interactively: execute single cell, see partial results at different processing steps (preprocessing, processing, output)... You can share it to work collaboratively on it by sharing the link and execute it from another PC without any installation required.\n\n\n*Estimated time to run the notebook = 5min*\n"
      ]
    },
    {
      "cell_type": "code",
      "execution_count": null,
      "metadata": {
        "collapsed": false
      },
      "outputs": [],
      "source": [
        "# In[2]:\n\nfrom pyCATHY import cathy_tools\nfrom pyCATHY.plotters import cathy_plots as cplt\nimport pyvista as pv\n\n# In[13]:\n\npath2prj = \"../SSHydro/\"  # add your local path here\nsimu = cathy_tools.CATHY(dirName=path2prj, \n\t\t\tprj_name=\"weill_exemple\"\n\t\t\t)"
      ]
    },
    {
      "cell_type": "code",
      "execution_count": null,
      "metadata": {
        "collapsed": false
      },
      "outputs": [],
      "source": [
        "simu.run_preprocessor(verbose=False)\n# simu.run_processor(IPRT1=3,verbose=True)\n\n# simu.read_inputs('atmbc')\nsimu.update_parm(TIMPRTi=[1800,7200],\n                 VTKF=2\n                 )\n\n# simu.atmbc\n# simu.parm\n# simu.update_parm(VTKF=2)\n\n# simu.grid3d\n# len(simu.grid3d[\"mesh_tetra\"])\nsimu.run_processor(IPRT1=2, \n                    DTMIN=1e-2,\n                    DTMAX=1e2,\n                    DELTAT=5,\n                    TRAFLAG=0,\n                    verbose=False\n                    )"
      ]
    },
    {
      "cell_type": "code",
      "execution_count": null,
      "metadata": {
        "collapsed": false
      },
      "outputs": [],
      "source": [
        "pl = pv.Plotter(notebook=False)\ncplt.show_vtk(unit=\"pressure\", \n              timeStep=1, \n              path=simu.workdir + \"/weill_exemple/vtk/\",\n              ax=pl,\n              )\npl.show()"
      ]
    },
    {
      "cell_type": "code",
      "execution_count": null,
      "metadata": {
        "collapsed": false
      },
      "outputs": [],
      "source": [
        "pl = pv.Plotter(notebook=True)\ncplt.show_vtk(unit=\"pressure\", \n              timeStep=1, \n              path=simu.workdir + \"/weill_exemple/vtk/\",\n              ax=pl,\n              )\npl.show()"
      ]
    },
    {
      "cell_type": "code",
      "execution_count": null,
      "metadata": {
        "collapsed": false
      },
      "outputs": [],
      "source": [
        "cplt.show_vtk_TL(\n                unit=\"pressure\",\n                notebook=False,\n                path=simu.workdir + \"/weill_exemple/vtk/\",\n                show=False,\n                x_units='days',\n                clim = [0.55,0.70],\n                savefig=True,\n            )"
      ]
    }
  ],
  "metadata": {
    "kernelspec": {
      "display_name": "Python 3",
      "language": "python",
      "name": "python3"
    },
    "language_info": {
      "codemirror_mode": {
        "name": "ipython",
        "version": 3
      },
      "file_extension": ".py",
      "mimetype": "text/x-python",
      "name": "python",
      "nbconvert_exporter": "python",
      "pygments_lexer": "ipython3",
      "version": "3.10.16"
    }
  },
  "nbformat": 4,
  "nbformat_minor": 0
}