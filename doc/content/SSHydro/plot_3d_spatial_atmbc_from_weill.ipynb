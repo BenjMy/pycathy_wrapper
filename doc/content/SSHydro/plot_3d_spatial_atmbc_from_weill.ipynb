{
  "cells": [
    {
      "cell_type": "code",
      "execution_count": null,
      "metadata": {
        "collapsed": false
      },
      "outputs": [],
      "source": [
        "%matplotlib inline\nfrom pyvista import set_plot_theme\nset_plot_theme(\"document\")"
      ]
    },
    {
      "cell_type": "markdown",
      "metadata": {},
      "source": [
        "\n# Update with spatially and temporally distributed atmospheric boundary conditions (bc)\n\nThis tutorial demonstrates how to update atmospheric boundary conditions (bc) using spatially \nand temporally distributed data in a hydrological model.\n\nReference:\nWeill, S., et al. \u00ab Coupling Water Flow and Solute Transport into a Physically-Based Surface\u2013Subsurface \nHydrological Model \u00bb. Advances in Water Resources, vol. 34, no 1, janvier 2011, p. 128\u201136. DOI.org (Crossref), \nhttps://doi.org/10.1016/j.advwatres.2010.10.001.\n\nThis example uses the **pyCATHY wrapper** for the CATHY model to reproduce results from the Weill et al. dataset. \nThe notebook is interactive and can be executed in sections to observe the intermediate results. It can also \nbe shared for collaborative work without any installation required.\n\n*Estimated time to run the notebook = 5 minutes*\n"
      ]
    },
    {
      "cell_type": "code",
      "execution_count": null,
      "metadata": {
        "collapsed": false
      },
      "outputs": [],
      "source": [
        "# Import necessary libraries\nimport os\nimport matplotlib.pyplot as plt\nimport numpy as np\nimport pandas as pd\nimport pyvista as pv\n\n# Import pyCATHY modules for handling mesh, inputs, and outputs\nimport pyCATHY.meshtools as mt\nfrom pyCATHY import cathy_tools\nfrom pyCATHY.importers import cathy_inputs as in_CT\nfrom pyCATHY.importers import cathy_outputs as out_CT\nfrom pyCATHY.plotters import cathy_plots as cplt"
      ]
    },
    {
      "cell_type": "markdown",
      "metadata": {},
      "source": [
        "Define the project directory and model name. This example uses 'atmbc_spatially_from_weill'.\n\n"
      ]
    },
    {
      "cell_type": "code",
      "execution_count": null,
      "metadata": {
        "collapsed": false
      },
      "outputs": [],
      "source": [
        "path2prj = \"../SSHydro/\"  # Replace with your local project path\nsimu = cathy_tools.CATHY(dirName=path2prj, prj_name=\"atmbc_spatially_from_weill_withnodata\")\nfigpath = \"../results/DA_ET_test/\"  # Path to store figures/results"
      ]
    },
    {
      "cell_type": "markdown",
      "metadata": {},
      "source": [
        "Read the DEM input file\n\n"
      ]
    },
    {
      "cell_type": "code",
      "execution_count": null,
      "metadata": {
        "collapsed": false
      },
      "outputs": [],
      "source": [
        "DEM, dem_header = simu.read_inputs('dem')\n\n# Create a new DEM array filled with ones and add irregular boundary and invalid values (-9999)\nDEM_new = np.ones(np.shape(DEM))  # Initialize new DEM with ones\nDEM_new[-1, -1] = 1 - 1e-3  # Adjust a specific corner value\nDEM_new[10:20, 0:10] = -9999  # Add an interior block of invalid values to simulate an irregular boundary\n\n# Update the CATHY inputs with the modified DEM\nsimu.update_prepo_inputs(DEM_new)\n\n# Visualize the updated DEM\nsimu.show_input('dem')"
      ]
    },
    {
      "cell_type": "markdown",
      "metadata": {},
      "source": [
        "Run the preprocessor to handle inputs and generate the mesh\n\n"
      ]
    },
    {
      "cell_type": "code",
      "execution_count": null,
      "metadata": {
        "collapsed": false
      },
      "outputs": [],
      "source": [
        "simu.run_preprocessor()\n\n# Create a 3D mesh visualization (VTK format)\nsimu.create_mesh_vtk(verbose=True)\n\n# Load the 3D grid output\ngrid3d = simu.read_outputs('grid3d')\n\n# Set parameters for elevation\nsimu.dem_parameters\nelevation_increment = 0.5 / 21  # Define elevation increment per row\nelevation_matrix = np.ones([21, 21])  # Initialize the elevation matrix\n\n# Populate elevation_matrix with incremental values based on row index\nfor row in range(21):\n    elevation_matrix[row, :] += row * elevation_increment"
      ]
    },
    {
      "cell_type": "code",
      "execution_count": null,
      "metadata": {
        "collapsed": false
      },
      "outputs": [],
      "source": [
        "# Set up time intervals and cycles for the boundary condition\ninterval = 5  # Number of intervals\nncycles = 7   # Number of cycles\nt_atmbc = np.linspace(1e-3, 36e3 * ncycles, interval * ncycles)  # Time vector\n\n# Atmospheric boundary condition value\nv_atmbc_value = -2e-7  # Set the boundary condition value\n\n# Check if the number of nodes matches the flattened elevation matrix\nif int(grid3d['nnod']) == len(np.ravel(elevation_matrix)):\n    # Calculate the atmospheric boundary condition for each node based on elevation\n    v_atmbc = np.ones(int(grid3d['nnod'])) * v_atmbc_value * np.ravel(elevation_matrix)\nelse:\n    # For cases where the number of nodes doesn't match, calculate for all nodes\n    v_atmbc_all_nodes = np.ones(len(np.ravel(elevation_matrix))) * v_atmbc_value * np.ravel(np.exp(elevation_matrix**2))\n    \n    # Reshape the boundary condition values to match the DEM shape\n    v_atmbc_mat = np.reshape(v_atmbc_all_nodes, [np.shape(simu.DEM)[0] + 1, np.shape(simu.DEM)[0] + 1])\n\n    # Mask invalid values in the DEM (-9999) by setting them to NaN\n    maskDEM_novalid = np.where(DEM_new == -9999)\n    v_atmbc_mat[maskDEM_novalid] = np.nan\n\n    # Flatten the masked matrix and remove NaN values\n    v_atmbc = np.ravel(v_atmbc_mat)\n    v_atmbc = v_atmbc[~np.isnan(v_atmbc)]  # Use ~np.isnan to filter out NaN values\n\n# Visualize the spatial variation of the atmospheric boundary condition\nfig, ax = plt.subplots()\nimg = ax.imshow(v_atmbc_mat)\nplt.colorbar(img)\n\n# Update the atmospheric boundary condition (ATMB) parameters in CATHY\nsimu.update_atmbc(\n    HSPATM=0,\n    IETO=0,\n    time=t_atmbc,\n    netValue=[v_atmbc] * len(t_atmbc)  # Apply the same boundary condition at all times\n)\n\n# Update the model parameters (time control) in CATHY\nsimu.update_parm(TIMPRTi=t_atmbc)"
      ]
    },
    {
      "cell_type": "code",
      "execution_count": null,
      "metadata": {
        "collapsed": false
      },
      "outputs": [],
      "source": [
        "# Run the model processor with specified parameters for time stepping and output control\nsimu.run_processor(\n    IPRT1=2,  # Print results at time step 2\n    DTMIN=1e-2,  # Minimum time step\n    DTMAX=1e2,  # Maximum time step\n    DELTAT=5,  # Time increment\n    TRAFLAG=0,  # Transport flag off\n    VTKF=2,  # Output VTK format\n    verbose=True  # Turn off verbose mode\n)"
      ]
    },
    {
      "cell_type": "code",
      "execution_count": null,
      "metadata": {
        "collapsed": false
      },
      "outputs": [],
      "source": [
        "# Visualize the atmospheric boundary conditions in space using vtk\ncplt.show_vtk(\n    unit=\"pressure\",\n    timeStep=1,  # Time step to display\n    notebook=False,\n    path=simu.workdir + \"/atmbc_spatially_from_weill/vtk/\",  # Path to VTK files\n    savefig=True,  # Save the figure\n)"
      ]
    },
    {
      "cell_type": "code",
      "execution_count": null,
      "metadata": {
        "collapsed": false
      },
      "outputs": [],
      "source": [
        "# Create a time-lapse visualization of pressure distribution over time\ncplt.show_vtk_TL(\n    unit=\"saturation\",\n    notebook=False,\n    path=simu.workdir + simu.project_name + \"/vtk/\",  # Path to VTK files\n    show=False,  # Disable showing the plot\n    x_units='days',  # Time units\n    clim=[0.55, 0.70],  # Color limits for pressure values\n    savefig=True,  # Save the figure\n)"
      ]
    }
  ],
  "metadata": {
    "kernelspec": {
      "display_name": "Python 3",
      "language": "python",
      "name": "python3"
    },
    "language_info": {
      "codemirror_mode": {
        "name": "ipython",
        "version": 3
      },
      "file_extension": ".py",
      "mimetype": "text/x-python",
      "name": "python",
      "nbconvert_exporter": "python",
      "pygments_lexer": "ipython3",
      "version": "3.10.16"
    }
  },
  "nbformat": 4,
  "nbformat_minor": 0
}