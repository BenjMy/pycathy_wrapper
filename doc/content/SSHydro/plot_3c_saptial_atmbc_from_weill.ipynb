{
  "cells": [
    {
      "cell_type": "markdown",
      "metadata": {},
      "source": [
        "\n# Update with distributed atmospheric bc\n\nWeill, S., et al. \u00ab Coupling Water Flow and Solute Transport into a Physically-Based Surface\u2013Subsurface Hydrological Model \u00bb. \nAdvances in Water Resources, vol. 34, no 1, janvier 2011, p. 128\u201136. DOI.org (Crossref), \nhttps://doi.org/10.1016/j.advwatres.2010.10.001.\n\n\nThis example shows how to use pyCATHY object to create spatially and temporally variable atmbc conditions\n\n*Estimated time to run the notebook = 5min*\n"
      ]
    },
    {
      "cell_type": "code",
      "execution_count": null,
      "metadata": {
        "collapsed": false
      },
      "outputs": [],
      "source": [
        "# !! run preprocessor change the DEM shape !\n# dtm_13 does not have the same shape anymore!\n\nimport os\n\nimport matplotlib.pyplot as plt\nimport numpy as np\nimport pandas as pd\n\nimport pyCATHY.meshtools as mt\nfrom pyCATHY import cathy_tools\nfrom pyCATHY.importers import cathy_inputs as in_CT\nfrom pyCATHY.importers import cathy_outputs as out_CT\nfrom pyCATHY.plotters import cathy_plots as cplt"
      ]
    },
    {
      "cell_type": "markdown",
      "metadata": {},
      "source": [
        "------------------------\n\n"
      ]
    },
    {
      "cell_type": "code",
      "execution_count": null,
      "metadata": {
        "collapsed": false
      },
      "outputs": [],
      "source": [
        "path2prj = \"../SSHydro/\"  # add your local path here\nsimu = cathy_tools.CATHY(dirName=path2prj, prj_name=\"atmbc_spatially_timely_from_weill\")\n\nsimu.create_mesh_vtk(verbose=True)"
      ]
    },
    {
      "cell_type": "code",
      "execution_count": null,
      "metadata": {
        "collapsed": false
      },
      "outputs": [],
      "source": [
        "grid3d = simu.read_outputs('grid3d')\nDEM, dem_header = simu.read_inputs('dem')\nt_atmbc = [0,86400]\nv_atmbc = np.zeros(int(grid3d['nnod']))\nv_atmbc[0:int(len(np.zeros(int(grid3d['nnod'])))/2)] = 1e-7\n\n\nv_atmbc_mat = np.reshape(v_atmbc,[21,21])\nfig, ax = plt.subplots()\nax.imshow(v_atmbc_mat)\n\nsimu.update_atmbc(\n                    HSPATM=0,\n                    IETO=0,\n                    time=t_atmbc,\n                    netValue=[v_atmbc]*len(t_atmbc)\n                  )"
      ]
    },
    {
      "cell_type": "code",
      "execution_count": null,
      "metadata": {
        "collapsed": false
      },
      "outputs": [],
      "source": [
        "simu.run_processor(IPRT1=2,TRAFLAG=0,verbose=True)\n\n# cplt.show_spatial_atmbc()"
      ]
    },
    {
      "cell_type": "code",
      "execution_count": null,
      "metadata": {
        "collapsed": false
      },
      "outputs": [],
      "source": [
        "cplt.show_vtk(\n    unit=\"pressure\",\n    timeStep=1,\n    notebook=False,\n    path=simu.workdir + \"/atmbc_spatially_timely_from_weill/vtk/\",\n    savefig=True,\n)"
      ]
    },
    {
      "cell_type": "markdown",
      "metadata": {},
      "source": [
        "cplt.show_vtk(\n    unit=\"saturation\",\n    timeStep=2,\n    notebook=False,\n    path=simu.workdir + \"/atmbc_spatially_timely_from_weil/vtk/\",\n    savefig=True,\n)\n\n"
      ]
    }
  ],
  "metadata": {
    "kernelspec": {
      "display_name": "Python 3",
      "language": "python",
      "name": "python3"
    },
    "language_info": {
      "codemirror_mode": {
        "name": "ipython",
        "version": 3
      },
      "file_extension": ".py",
      "mimetype": "text/x-python",
      "name": "python",
      "nbconvert_exporter": "python",
      "pygments_lexer": "ipython3",
      "version": "3.10.9"
    }
  },
  "nbformat": 4,
  "nbformat_minor": 0
}