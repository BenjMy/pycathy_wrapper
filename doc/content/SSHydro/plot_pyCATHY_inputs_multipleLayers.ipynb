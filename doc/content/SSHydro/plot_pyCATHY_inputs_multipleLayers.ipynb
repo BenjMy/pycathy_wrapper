{
  "cells": [
    {
      "cell_type": "code",
      "execution_count": null,
      "metadata": {
        "collapsed": false
      },
      "outputs": [],
      "source": [
        "%matplotlib inline"
      ]
    },
    {
      "cell_type": "markdown",
      "metadata": {},
      "source": [
        "\n# Input plots\n\nThis example shows how to use pyCATHY object to plot inputs of the hydrological model.\n\n*Estimated time to run the notebook = 5min*\n"
      ]
    },
    {
      "cell_type": "code",
      "execution_count": null,
      "metadata": {
        "collapsed": false
      },
      "outputs": [],
      "source": [
        "# map_prop_veg ?\n# map_prop2zone"
      ]
    },
    {
      "cell_type": "code",
      "execution_count": null,
      "metadata": {
        "collapsed": false
      },
      "outputs": [],
      "source": [
        "from pyCATHY import cathy_tools\nfrom pyCATHY.plotters import cathy_plots as cplt\nimport numpy as np"
      ]
    },
    {
      "cell_type": "code",
      "execution_count": null,
      "metadata": {
        "collapsed": false
      },
      "outputs": [],
      "source": [
        "path2prj ='weil_exemple_inputs_multipleLayers' # add your local path here\nsimu = cathy_tools.CATHY(dirName=path2prj)"
      ]
    },
    {
      "cell_type": "code",
      "execution_count": null,
      "metadata": {
        "collapsed": false
      },
      "outputs": [],
      "source": [
        "simu.update_parm()\nsimu.update_zone()\nsimu.update_soil()\ndf_soil, _ = simu.read_inputs('soil')\ndf = simu.read_inputs('soil')\nsimu.show_input(prop='soil', yprop='PERMX')"
      ]
    },
    {
      "cell_type": "code",
      "execution_count": null,
      "metadata": {
        "collapsed": false
      },
      "outputs": [],
      "source": [
        "import matplotlib.pyplot as plt\nimport pandas as pd"
      ]
    },
    {
      "cell_type": "code",
      "execution_count": null,
      "metadata": {
        "collapsed": false
      },
      "outputs": [],
      "source": [
        "get_layer_depths(simu)\n\n\nlayers_names = ['sub','bedrock']\nlayers_depths = [[0,1],[1,3]]\npropertie_names = simu.soil_SPP['SPP_map'].keys()\np_subsurface_default = [1e-6,1e-6,1e-6,1.00E-05,0.48,1.914e+00,1.296e-01,1.240e+00]\n\nSPP_perlayer = []\nfor li in range(len(layers_names)):\n    SPP_p = []\n    for i, p in enumerate(propertie_names):\n        if li==1:\n            SPP_p.append(p_subsurface_default[i]+1)\n        else:\n            SPP_p.append(p_subsurface_default[i])\n    SPP_perlayer.append(SPP_p)"
      ]
    },
    {
      "cell_type": "code",
      "execution_count": null,
      "metadata": {
        "collapsed": false
      },
      "outputs": [],
      "source": [
        "SoilPhysProp, SPP_map_dict = het_soil_layers_mapping_generic(simu,\n                                                            propertie_names,\n                                                            SPP_perlayer,\n                                                            layers_names,\n                                                            layers_depths,\n                                                            )"
      ]
    },
    {
      "cell_type": "code",
      "execution_count": null,
      "metadata": {
        "collapsed": false
      },
      "outputs": [],
      "source": [
        "simu.update_soil(IVGHU=0,\n                  SPP_map=SPP_map_dict,\n                  soil_heteregeneous_in_z=True,\n                  # FP_map=FP_map,\n                  )"
      ]
    },
    {
      "cell_type": "code",
      "execution_count": null,
      "metadata": {
        "collapsed": false
      },
      "outputs": [],
      "source": [
        "simu.show_input(prop='soil', yprop='PERMX', layer_nb=14)"
      ]
    }
  ],
  "metadata": {
    "kernelspec": {
      "display_name": "Python 3",
      "language": "python",
      "name": "python3"
    },
    "language_info": {
      "codemirror_mode": {
        "name": "ipython",
        "version": 3
      },
      "file_extension": ".py",
      "mimetype": "text/x-python",
      "name": "python",
      "nbconvert_exporter": "python",
      "pygments_lexer": "ipython3",
      "version": "3.9.13"
    }
  },
  "nbformat": 4,
  "nbformat_minor": 0
}