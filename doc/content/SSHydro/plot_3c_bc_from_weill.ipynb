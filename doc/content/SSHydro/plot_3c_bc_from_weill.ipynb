{
  "cells": [
    {
      "cell_type": "markdown",
      "metadata": {},
      "source": [
        "\n# Update and show Boundary conditions\n\nWeill, S., et al. \u00ab Coupling Water Flow and Solute Transport into a Physically-Based Surface\u2013Subsurface Hydrological Model \u00bb. \nAdvances in Water Resources, vol. 34, no 1, janvier 2011, p. 128\u201136. DOI.org (Crossref), \nhttps://doi.org/10.1016/j.advwatres.2010.10.001.\n\n\nThis example shows how to use pyCATHY object to update a 3d BC properties from a DEM and run the hydrological model.\n\nQuestions:\n    - what kind of boundary condition are set at the outlet point by default?\n    - Default side boundary conditions?\n\nFor a good reading see: Surface-subsurface flow modeling with path-based runoff \nrouting, boundary condition-based coupling, and assimilation of multisource observation data\nWATER RESOURCES RESEARCH, VOL. 46, W02512, doi:10.1029/2008WR007536, 2010\n\nExemples treated in the notebook:\nScenario with Water Table:\n- vertically hydrostatic initial conditions are used, with the water table (Psi = 0 m) positioned at 0.4 m above the bedrock\n\n1st config: Dirichlet runs: \n    - The outlet nodes at the bottom layer form a constant head boundary of zero pressure head \n    and the nodes above along the outlet face have a no-flow condition imposed\n2nd config: return flow runs:\n    - the entire outlet face is a no-flow boundary and water is allowed \n    to leave the system only by exfiltration (return flow) through the surface.\n\n\n\n*Estimated time to run the notebook = 5min*\n"
      ]
    },
    {
      "cell_type": "code",
      "execution_count": null,
      "metadata": {
        "collapsed": false
      },
      "outputs": [],
      "source": [
        "# !! run preprocessor change the DEM shape !\n# dtm_13 does not have the same shape anymore!\n\nimport os\n\nimport matplotlib.pyplot as plt\nimport numpy as np\nimport pandas as pd\n\nimport pyCATHY.meshtools as mt\nfrom pyCATHY import cathy_tools\nfrom pyCATHY.importers import cathy_inputs as in_CT\nfrom pyCATHY.importers import cathy_outputs as out_CT\nfrom pyCATHY.plotters import cathy_plots as cplt"
      ]
    },
    {
      "cell_type": "markdown",
      "metadata": {},
      "source": [
        "------------------------\n\n"
      ]
    },
    {
      "cell_type": "code",
      "execution_count": null,
      "metadata": {
        "collapsed": false
      },
      "outputs": [],
      "source": [
        "path2prj = \"../SSHydro/\"  # add your local path here\nsimu = cathy_tools.CATHY(dirName=path2prj, prj_name=\"bc_from_weill\", clear_src=True)\n\nrootpath = os.path.join(simu.workdir + simu.project_name)"
      ]
    },
    {
      "cell_type": "markdown",
      "metadata": {},
      "source": [
        "the dimension of the mesh is squared (20,20)\n\n"
      ]
    },
    {
      "cell_type": "code",
      "execution_count": null,
      "metadata": {
        "collapsed": false
      },
      "outputs": [],
      "source": [
        "dem_mat, str_hd_dem = in_CT.read_dem(\n    os.path.join(simu.workdir, simu.project_name, \"prepro/dem\"),\n    os.path.join(simu.workdir, simu.project_name, \"prepro/dtm_13.val\"),\n)\n\n# simu.show_input(prop=\"dem\")\n\nmaxdepth = 10\n# # linear z depth\n# # -------------------------------------------------------------\n# zb = np.linspace(0, maxdepth, 10)\n# nstr = len(zb)\n# zr = list((np.ones(len(zb))) / (nstr))\n\n# sum(zr)\n\nzb = np.geomspace(1e-1, maxdepth, num=15)\nnstr=len(zb)\nzr = [abs(zb[0]/maxdepth)]\nzr.extend(list(abs(np.diff(zb)/maxdepth)))\n\n# np.shape(dem_mat)\nsimu.update_prepo_inputs(\n    DEM=dem_mat,\n    nstr=nstr,\n    zratio=zr,\n    base=max(zb),\n)\n# fig = plt.figure()\n# ax = plt.axes(projection=\"3d\")\n# simu.show_input(prop=\"dem\", ax=ax)\n\n# simu.update_soil()\nsimu.create_mesh_vtk(verbose=True)"
      ]
    },
    {
      "cell_type": "code",
      "execution_count": null,
      "metadata": {
        "collapsed": false
      },
      "outputs": [],
      "source": [
        "def check_surf_routing_param(simu,):\n    \n    \n    dtm2check = ['dtm_w_1',\n                 'dtm_Ws1_sf_1',\n                 'dtm_y1_sf',\n                 'dtm_p_outflow_1',\n                 'dtm_q_output',\n                 'dtm_local_slope_1',\n                 'dtm_local_slope_1',\n                 'qoi_a',\n                 'dtm_A_inflow',\n                 'dtm_nrc',\n                 # 'dem',\n                 ]\n    \n    fig, axs = plt.subplots(3,4, sharex=(True),\n                            sharey=(True),\n                            )\n    axs = axs.ravel()\n    for i, dtm in enumerate(dtm2check):\n        simu.show_input(dtm,ax=axs[i])\n        plt.tight_layout()\n    \n        # ax.yaxis.set_major_formatter(FormatStrFormatter('%3.4e'))\n        # ax.xaxis.set_major_formatter(FormatStrFormatter('%3.4e'))\n            \n        # plt.savefig(figFolder + '/dtm_Ws1_sf_1.png', \n        #             dpi=400, bbox_inches='tight', pad_inches=0)\n        \n        \n# Check surface routing parameters\n# --------------------------------\ncheck_surf_routing_param(simu)"
      ]
    },
    {
      "cell_type": "code",
      "execution_count": null,
      "metadata": {
        "collapsed": false
      },
      "outputs": [],
      "source": [
        "# .. note:\n#     The boundary conditions are defined in the nansfdirbc (Dirichlet),\n#     nansfneubc (Neumann), and sfbc (seepage face) files.\n\n#     We have two types of boundary conditions (BC):\n#     - Neumann BC (or specifed flux)\n#     - Dirichlet BC (or pressure).\n\n\n# .. note:\n#     - Pioggia: condizioni di Neumann. Quando non ci pu\u00f2 pi\u00f9 essere\n#     infiltrazione metto Dirichlet.\n#     - Evaporazione: si indica un limite di pressione minimo ( Pmin ) al di\n#     sotto del quale si ha uno switch da Neumann a Dirichlet\n#     (in quanto al di sotto di questo valore non si ha pi\u00f9 evapotraspirazione).\n\n# .. note:\n#     The boundary condition for any given surface node can switch between a\n#     Dirichlet condition and a Neumann condition depending on the saturation\n#     (or pressure) state of that node.\n\n# .. note:\n#     A Neumann (or specified flux) boundary condition corresponds to\n#     atmosphere-controlled infiltration or exfiltration, with the flux equal\n#     to the rainfall or potential evaporation rate given by the atmospheric input data.\n#     When the surface node reaches a threshold level of saturation or moisture deficit,\n#     the boundary condition is switched to a Dirichlet (specified head) condition,\n#     and the infiltration or exfiltration process becomes soil limited [1]."
      ]
    },
    {
      "cell_type": "code",
      "execution_count": null,
      "metadata": {
        "collapsed": false
      },
      "outputs": [],
      "source": [
        "# exemple provided by Laura B.\n# ----------------------------\n\n# C     Write dirbc\n#       write(33,*) 0.0, 'time'\n#       write(33,*) '0', a\n#       do i=1,nnod3\n#          if ((x(i).eq.0).or.(x(i).eq.5).or.(y(i).eq.0).or.\n#      1       (y(i).eq.5))then\n#          write(33,*) i\n#          endif\n#       enddo\n#       do i=1,nnod3\n#          if ((x(i).eq.0).or.(x(i).eq.5).or.(y(i).eq.0).or.\n#      1       (y(i).eq.5))then\n#          write(33,*) -z(i)-WTdepth\n#          endif\n#       enddo\n\n#       write(33,*) 2e+20, 'time'\n#       write(33,*) '0', a\n#       do i=1,nnod3\n#          if ((x(i).eq.0).or.(x(i).eq.5).or.(y(i).eq.0).or.\n#      1       (y(i).eq.5))then\n#          write(33,*) i\n#          endif\n#       enddo\n#       do i=1,nnod3\n#          if ((x(i).eq.0).or.(x(i).eq.5).or.(y(i).eq.0).or.\n#      1       (y(i).eq.5))then\n#          write(33,*) -z(i)-WTdepth\n#          endif\n#       enddo\n\n# modicare il valore di NPMAX nel file 27 CATHY.H nel caso\n# in cui si inseriscano dei NDIRC ed il valore di NP2MAX nel caso si inseriscano dei\n# NDIR. I valori di NPMAX e NP2MAX corrispondono al numero massimo\n# di nodi NDIRC e NDIR che si possono inserire."
      ]
    },
    {
      "cell_type": "code",
      "execution_count": null,
      "metadata": {
        "collapsed": false
      },
      "outputs": [],
      "source": [
        "df_atmbc = simu.read_inputs('atmbc')\n# simu.atmbc\n\nsimu.update_atmbc(   \n                    HSPATM=1,\n                    IETO=0,\n                    time=list(df_atmbc['time']),\n                    netValue=list(df_atmbc['value']),\n                    )"
      ]
    },
    {
      "cell_type": "markdown",
      "metadata": {},
      "source": [
        "Dirichlet Boundary conditions (or specified pressure) at time t\n\n"
      ]
    },
    {
      "cell_type": "code",
      "execution_count": null,
      "metadata": {
        "collapsed": false
      },
      "outputs": [],
      "source": [
        "# - To simulate the no-flow boundaries conditions for the bottom and\n#   vertical sides of the domain it is necessary to set NDIR and NDIRC\n#   equal to zero.\n# - To simulate different boundary conditions, it is necessary to\n#   indicate the number of selected nodes through NDIR or NDIRC,\n#   then to specify the node ID\u2019s that you want to consider and\n#   eventually the value of pressure head or flux that you want to assign.\n# %matplotlib auto\n\n# try:\n#     del simu.mesh_bound_cond_df\n# except:\n#     pass\n# simu.update_nansfdirbc(no_flow=True)\n# meshbc = simu.mesh_bound_cond_df"
      ]
    },
    {
      "cell_type": "code",
      "execution_count": null,
      "metadata": {
        "collapsed": false
      },
      "outputs": [],
      "source": [
        "try:\n    del simu.mesh_bound_cond_df\nexcept:\n    pass\nsimu.update_nansfdirbc(no_flow=True,\n                       #time=df_atmbc['time'].values\n                       )\nmeshbc = simu.mesh_bound_cond_df\n\ncplt.plot_mesh_bounds('nansfdirbc',meshbc, time=0)"
      ]
    },
    {
      "cell_type": "markdown",
      "metadata": {},
      "source": [
        "Neumann boundary conditions (or specifed flux) at time t\ntry:\n    del simu.mesh_bound_cond_df\nexcept:\n    pass\n\n"
      ]
    },
    {
      "cell_type": "code",
      "execution_count": null,
      "metadata": {
        "collapsed": false
      },
      "outputs": [],
      "source": [
        "simu.update_nansfneubc(no_flow=True)\nmeshbc = simu.mesh_bound_cond_df\n\n\ncplt.plot_mesh_bounds('nansfdirbc',meshbc, time=0)\ncplt.plot_mesh_bounds('nansfneubc',meshbc, time=0)"
      ]
    },
    {
      "cell_type": "code",
      "execution_count": null,
      "metadata": {
        "collapsed": false
      },
      "outputs": [],
      "source": [
        "simu.update_sfbc(no_flow=True)"
      ]
    },
    {
      "cell_type": "code",
      "execution_count": null,
      "metadata": {
        "collapsed": false
      },
      "outputs": [],
      "source": [
        "# test\nsimu.show_bc()"
      ]
    },
    {
      "cell_type": "code",
      "execution_count": null,
      "metadata": {
        "collapsed": false
      },
      "outputs": [],
      "source": [
        "simu.update_parm(DELTAT=1e3)\nsimu.run_processor(IPRT1=2, TRAFLAG=0, verbose=True)"
      ]
    },
    {
      "cell_type": "markdown",
      "metadata": {},
      "source": [
        "saturated domain cause the outlet discharge to quickly reach its peak, \nfollowed by a slow recession due to decreasing gradients as exfiltration proceeds.\n\n"
      ]
    },
    {
      "cell_type": "code",
      "execution_count": null,
      "metadata": {
        "collapsed": false
      },
      "outputs": [],
      "source": [
        "pathFig = os.path.join(simu.workdir,simu.project_name,'figs')\n\nif os.path.exists(pathFig) is False:\n    os.makedirs(pathFig)\n\n# Surface runoff hydrograph: plot the computed discharge at the outlet (streamflow)\n\nfig, ax = plt.subplots()\nsimu.show(prop='hgraph',ax=ax)\nfig.savefig(pathFig + '/hgraph_noflow_lat_bottom.png', dpi=350)\n\n# Plot water table changes\n# -----------------------------------------------------------\n# simu.show(prop='wtdepth')"
      ]
    },
    {
      "cell_type": "code",
      "execution_count": null,
      "metadata": {
        "collapsed": false
      },
      "outputs": [],
      "source": [
        "simu.show(prop='cumflowvol')\n\n# show_DEM_caracteristic_points()\n\ndf_sw = simu.read_outputs('sw')"
      ]
    },
    {
      "cell_type": "code",
      "execution_count": null,
      "metadata": {
        "collapsed": false
      },
      "outputs": [],
      "source": [
        "simu.update_nansfdirbc(no_flow=True,\n                       #time=df_atmbc['time'].values\n                       )"
      ]
    }
  ],
  "metadata": {
    "kernelspec": {
      "display_name": "Python 3",
      "language": "python",
      "name": "python3"
    },
    "language_info": {
      "codemirror_mode": {
        "name": "ipython",
        "version": 3
      },
      "file_extension": ".py",
      "mimetype": "text/x-python",
      "name": "python",
      "nbconvert_exporter": "python",
      "pygments_lexer": "ipython3",
      "version": "3.10.13"
    }
  },
  "nbformat": 4,
  "nbformat_minor": 0
}