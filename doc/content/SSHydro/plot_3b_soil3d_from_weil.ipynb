{
  "cells": [
    {
      "cell_type": "code",
      "execution_count": null,
      "metadata": {
        "collapsed": false
      },
      "outputs": [],
      "source": [
        "%matplotlib inline"
      ]
    },
    {
      "cell_type": "markdown",
      "metadata": {},
      "source": [
        "\n# Soil 3d from a Digital Elevation Model (DEM)\n\nThis example shows how to use pyCATHY object to build a 3d soil properties from a DEM and run the hydrological model.\n\n*Estimated time to run the notebook = 5min*\n"
      ]
    },
    {
      "cell_type": "code",
      "execution_count": null,
      "metadata": {
        "collapsed": false
      },
      "outputs": [],
      "source": [
        "# !! run preprocessor change the DEM shape !\n# dtm_13 does not have the same shape anymore!\n\nimport os\n\nimport matplotlib.pyplot as plt\nimport numpy as np\nimport pandas as pd\n\nimport pyCATHY.meshtools as mt\nfrom pyCATHY import cathy_tools\nfrom pyCATHY.importers import cathy_inputs as in_CT\nfrom pyCATHY.importers import cathy_outputs as out_CT\nfrom pyCATHY.plotters import cathy_plots as cplt"
      ]
    },
    {
      "cell_type": "markdown",
      "metadata": {},
      "source": [
        "------------------------\n\n"
      ]
    },
    {
      "cell_type": "code",
      "execution_count": null,
      "metadata": {
        "collapsed": false
      },
      "outputs": [],
      "source": [
        "path2prj = \"../SSHydro/\"  # add your local path here\nsimu = cathy_tools.CATHY(dirName=path2prj, prj_name=\"soil3d_from_weil\", clear_src=True)\n\nrootpath = os.path.join(simu.workdir + simu.project_name)"
      ]
    },
    {
      "cell_type": "markdown",
      "metadata": {},
      "source": [
        "the dimension of the mesh is squared (20,20)\n\n"
      ]
    },
    {
      "cell_type": "code",
      "execution_count": null,
      "metadata": {
        "collapsed": false
      },
      "outputs": [],
      "source": [
        "dem_mat, str_hd_dem = in_CT.read_dem(\n    os.path.join(simu.workdir, simu.project_name, \"prepro/dem\"),\n    os.path.join(simu.workdir, simu.project_name, \"prepro/dtm_13.val\"),\n)\n\nsimu.show_input(prop=\"dem\")\n\nmaxdepth = 10\n# # linear z depth\n# # -------------------------------------------------------------\nzb = np.linspace(0, maxdepth, 10)\nnstr = len(zb)\nzr = list((np.ones(len(zb))) / (nstr))\n\nsum(zr)\n\n# zb = np.geomspace(1e-1, maxdepth, num=15)\n# nstr=len(zb)\n# zr = [abs(zb[0]/maxdepth)]\n# zr.extend(list(abs(np.diff(zb)/maxdepth)))\n\n# np.shape(dem_mat)\nsimu.update_prepo_inputs(\n    DEM=dem_mat,\n    nstr=nstr,\n    zratio=zr,\n    base=max(zb),\n)\nfig = plt.figure()\nax = plt.axes(projection=\"3d\")\nsimu.show_input(prop=\"dem\", ax=ax)\n\n# simu.update_soil()\nsimu.create_mesh_vtk(verbose=True)"
      ]
    },
    {
      "cell_type": "code",
      "execution_count": null,
      "metadata": {
        "collapsed": false
      },
      "outputs": [],
      "source": [
        "simu.update_zone()\n\nlayers = {1: [0, 2], 2: [2, 6], 3: [6, 10]}\n\nzone3d_flag = mt.map_layers_2_DEM(layers, simu.DEM, simu.zone, simu.dem_parameters)"
      ]
    },
    {
      "cell_type": "code",
      "execution_count": null,
      "metadata": {
        "collapsed": false
      },
      "outputs": [],
      "source": [
        "SPP_map = {\n    \"PERMX\": [0.000188] * 3,\n    \"PERMY\": [0.000188] * 3,\n    \"PERMZ\": [0.000188] * 3,\n    \"ELSTOR\": [1e-05] * 3,\n    \"POROS\": [0.55, 0.65, 0.5],\n    \"VGNCELL\": [1.46, 1.46, 1.46],\n    \"VGRMCCELL\": [0.15, 0.15, 0.15],\n    \"VGPSATCELL\": [0.03125] * 3,\n}"
      ]
    },
    {
      "cell_type": "code",
      "execution_count": null,
      "metadata": {
        "collapsed": false
      },
      "outputs": [],
      "source": [
        "simu.update_soil(\n    SPP_map=SPP_map,\n    zone3d=zone3d_flag,\n)"
      ]
    },
    {
      "cell_type": "code",
      "execution_count": null,
      "metadata": {
        "collapsed": false
      },
      "outputs": [],
      "source": [
        "simu.run_processor(IPRT1=2, verbose=True)"
      ]
    }
  ],
  "metadata": {
    "kernelspec": {
      "display_name": "Python 3",
      "language": "python",
      "name": "python3"
    },
    "language_info": {
      "codemirror_mode": {
        "name": "ipython",
        "version": 3
      },
      "file_extension": ".py",
      "mimetype": "text/x-python",
      "name": "python",
      "nbconvert_exporter": "python",
      "pygments_lexer": "ipython3",
      "version": "3.9.13"
    }
  },
  "nbformat": 4,
  "nbformat_minor": 0
}