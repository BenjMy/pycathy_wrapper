{
  "cells": [
    {
      "cell_type": "markdown",
      "metadata": {},
      "source": [
        "\n# Meshing from a Digital Elevation Model (DEM)\n\nWeill, S., et al. \u00ab Coupling Water Flow and Solute Transport into a Physically-Based Surface\u2013Subsurface Hydrological Model \u00bb. \nAdvances in Water Resources, vol. 34, no 1, janvier 2011, p. 128\u201136. DOI.org (Crossref), \nhttps://doi.org/10.1016/j.advwatres.2010.10.001.\n\nThis example shows how to use pyCATHY object to mesh from a DEM and run the hydrological model.\n\n*Estimated time to run the notebook = 5min*\n"
      ]
    },
    {
      "cell_type": "code",
      "execution_count": null,
      "metadata": {
        "collapsed": false
      },
      "outputs": [],
      "source": [
        "# !! run preprocessor change the DEM shape !\n# dtm_13 does not have the same shape anymore!\n\nimport os\n\nimport matplotlib.pyplot as plt\nimport numpy as np\nimport pandas as pd\n\nimport pyCATHY.meshtools as mt\nfrom pyCATHY import cathy_tools\nfrom pyCATHY.importers import cathy_inputs as in_CT\nfrom pyCATHY.importers import cathy_outputs as out_CT\nfrom pyCATHY.plotters import cathy_plots as cplt"
      ]
    },
    {
      "cell_type": "markdown",
      "metadata": {},
      "source": [
        "------------------------\n\n"
      ]
    },
    {
      "cell_type": "code",
      "execution_count": null,
      "metadata": {
        "collapsed": false
      },
      "outputs": [],
      "source": [
        "path2prj = \"../SSHydro/\"  # add your local path here\nsimu = cathy_tools.CATHY(dirName=path2prj, \n                         prj_name=\"meshing_from_Camporese\"\n                         )\n\nrootpath = os.path.join(simu.workdir + simu.project_name)"
      ]
    },
    {
      "cell_type": "markdown",
      "metadata": {},
      "source": [
        "the dimension of the mesh is squared (20,20)\n\n"
      ]
    },
    {
      "cell_type": "code",
      "execution_count": null,
      "metadata": {
        "collapsed": false
      },
      "outputs": [],
      "source": [
        "dem_mat, str_hd_dem = in_CT.read_dem(\n    os.path.join(simu.workdir, simu.project_name, \"prepro/dem\"),\n    os.path.join(simu.workdir, simu.project_name, \"prepro/dtm_13.val\"),\n)\n\nfig, ax = plt.subplots(1)\nimg = ax.imshow(dem_mat)\nplt.colorbar(img)\n\n\nsimu.show_input(prop=\"dem\")\n\nsimu.update_prepo_inputs(\n    DEM=dem_mat,\n    # N=np.shape(dem_mat)[1],\n    # M=np.shape(dem_mat)[0],\n)\n\nfig = plt.figure()\nax = plt.axes(projection=\"3d\")\nsimu.show_input(prop=\"dem\", ax=ax)\nsimu.create_mesh_vtk(verbose=True)"
      ]
    },
    {
      "cell_type": "code",
      "execution_count": null,
      "metadata": {
        "collapsed": false
      },
      "outputs": [],
      "source": [
        "meshfile = rootpath + \"/vtk/\" + simu.project_name + \".vtk\"\nimport pyvista as pv\n\nmesh2plot = pv.read(meshfile)\nmesh2plot.plot(show_edges=True, \n               show_axes=True, \n               show_bounds=True,\n               notebook=True)"
      ]
    }
  ],
  "metadata": {
    "kernelspec": {
      "display_name": "Python 3",
      "language": "python",
      "name": "python3"
    },
    "language_info": {
      "codemirror_mode": {
        "name": "ipython",
        "version": 3
      },
      "file_extension": ".py",
      "mimetype": "text/x-python",
      "name": "python",
      "nbconvert_exporter": "python",
      "pygments_lexer": "ipython3",
      "version": "3.10.13"
    }
  },
  "nbformat": 4,
  "nbformat_minor": 0
}