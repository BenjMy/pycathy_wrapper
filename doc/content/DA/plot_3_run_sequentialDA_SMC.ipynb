{
  "cells": [
    {
      "cell_type": "code",
      "execution_count": null,
      "metadata": {
        "collapsed": false
      },
      "outputs": [],
      "source": [
        "%matplotlib inline\nfrom pyvista import set_plot_theme\nset_plot_theme(\"document\")"
      ]
    },
    {
      "cell_type": "markdown",
      "metadata": {},
      "source": [
        "\n# Read SMC sensors observations to assimilate\n\nThe notebook illustrate how to read SMC sensors dataset to be prepare for DA\n\n*Estimated time to run the notebook = 2min*\n"
      ]
    },
    {
      "cell_type": "code",
      "execution_count": null,
      "metadata": {
        "collapsed": false
      },
      "outputs": [],
      "source": [
        "import numpy as np\nfrom pyCATHY.DA.cathy_DA import DA\nfrom pyCATHY.DA.observations import make_data_cov\nfrom pyCATHY.DA.cathy_DA import DA, dictObs_2pd\nfrom pyCATHY.DA import perturbate\nimport pickle"
      ]
    },
    {
      "cell_type": "markdown",
      "metadata": {},
      "source": [
        "-----------------------\n\n"
      ]
    },
    {
      "cell_type": "code",
      "execution_count": null,
      "metadata": {
        "collapsed": false
      },
      "outputs": [],
      "source": [
        "simuWithDA = DA(\n                dirName='./DA_with_swc',\n                prj_name='DA_SMC',\n                notebook=True,\n                )"
      ]
    },
    {
      "cell_type": "code",
      "execution_count": null,
      "metadata": {
        "collapsed": false
      },
      "outputs": [],
      "source": [
        "abs_data_err = 1e-1 # constant error does not vary with time\ndict_obs = {} # initiate the dictionnary\n\nwith open('./DA_with_swc/obs_prepared_SMC.pkl', 'rb') as fp:\n    dict_obs = pickle.load(fp)\ndata_measure_df = dictObs_2pd(dict_obs)\n    # data_measure_df.index"
      ]
    },
    {
      "cell_type": "markdown",
      "metadata": {},
      "source": [
        "By default, there is no correlation between sensors\nTherefore, the covariance matrices are diagonal with the error values on the diagonals\n\n"
      ]
    },
    {
      "cell_type": "code",
      "execution_count": null,
      "metadata": {
        "collapsed": false
      },
      "outputs": [],
      "source": [
        "_,_, stacked_data_cov = make_data_cov(\n                                        simuWithDA,\n                                        dict_obs,\n                                        list_assimilated_obs = 'all',\n                                        )\nprint(np.shape(stacked_data_cov))\nsimuWithDA.stacked_data_cov = stacked_data_cov\n# print(np.shape(simuWithDA.stacked_data_cov))"
      ]
    },
    {
      "cell_type": "code",
      "execution_count": null,
      "metadata": {
        "collapsed": false
      },
      "outputs": [],
      "source": [
        "DEM, _ = simuWithDA.read_inputs('dem')\nsimuWithDA.DEM = DEM\nsimuWithDA.update_dem_parameters()\nsimuWithDA.update_veg_map()\nsimuWithDA.update_soil()\n\nNENS = 5\n\n# ZROOT\n# -------------------\npert_nom_ZROOT = 1\npert_sigma_ZROOT = 0.35e-9\nminZROOT = 0\nmaxZROOT = 2\n\nscenario = {'per_type': [None],\n             'per_name':['ZROOT'],\n             'per_nom':[pert_nom_ZROOT],\n             'per_mean':[pert_nom_ZROOT],\n             'per_sigma': [pert_sigma_ZROOT],\n             'per_bounds': [\n                            {'min':minZROOT,'max':maxZROOT}\n                            ],\n             'sampling_type': ['normal'],\n             'transf_type':[None],\n             'listUpdateParm': ['St. var.', 'ZROOT'],\n             'listObAss': ['SMC'],\n             }\n\nscenario['per_name']\n\nlist_pert = perturbate.perturbate(simuWithDA,\n                                  scenario,\n                                  NENS\n                                  )"
      ]
    },
    {
      "cell_type": "markdown",
      "metadata": {},
      "source": [
        "stop\n\n"
      ]
    },
    {
      "cell_type": "code",
      "execution_count": null,
      "metadata": {
        "collapsed": false
      },
      "outputs": [],
      "source": [
        "import os\n\nvar_per_dict_stacked = {}\nfor dp in list_pert:\n    savefig = os.path.join(\n                            simuWithDA.workdir,\n                            simuWithDA.project_name,\n                            simuWithDA.project_name + dp['savefig']\n                            )\n    np.random.seed(1)\n    # need to call perturbate_var as many times as variable to perturbate\n    # return a dict merging all variable perturbate to parse into prepare_DA\n    var_per_dict_stacked = perturbate.perturbate_parm(\n                                                    var_per_dict_stacked,\n                                                    parm=dp,\n                                                    type_parm = dp['type_parm'], # can also be VAN GENUCHTEN PARAMETERS\n                                                    mean =  dp['mean'],\n                                                    sd =  dp['sd'],\n                                                    sampling_type =  dp['sampling_type'],\n                                                    ensemble_size =  dp['ensemble_size'], # size of the ensemble\n                                                    per_type= dp['per_type'],\n                                                    savefig=savefig\n                                                    )"
      ]
    },
    {
      "cell_type": "markdown",
      "metadata": {},
      "source": [
        "f\nsimuWithDA.parm\nsimuWithDA.read_inputs('atmbc')\n\n"
      ]
    },
    {
      "cell_type": "code",
      "execution_count": null,
      "metadata": {
        "collapsed": false
      },
      "outputs": [],
      "source": [
        "atmbc_times = data_measure_df.index.get_level_values(1).unique().to_list()\nsimuWithDA.update_atmbc(HSPATM=1,IETO=0,\n                        time=atmbc_times,\n                        netValue=[0]*len(atmbc_times)\n                        )\n\n# simuWithDA.update_parm()\n# simuWithDA.read_inputs('atmbc')"
      ]
    },
    {
      "cell_type": "markdown",
      "metadata": {},
      "source": [
        "simuWithDA.atmbc\n\n"
      ]
    },
    {
      "cell_type": "code",
      "execution_count": null,
      "metadata": {
        "collapsed": false
      },
      "outputs": [],
      "source": [
        "# simuWithDA.run_DA_smooth(\n#                           VTKF=2,\n#                           TRAFLAG=0,\n#                           dict_obs= dict_obs,\n#                           list_assimilated_obs='all', # default\n#                           list_parm2update= ['St. var.', 'ZROOT0'],\n#                           DA_type='enkf_Evensen2009',\n#                           dict_parm_pert=var_per_dict_stacked,\n#                         )"
      ]
    },
    {
      "cell_type": "code",
      "execution_count": null,
      "metadata": {
        "collapsed": false
      },
      "outputs": [],
      "source": [
        "# simuWithDA.run_DA_sequential(\n#                               VTKF=2,\n#                               TRAFLAG=0,\n#                               dict_obs= dict_obs,\n#                               list_assimilated_obs='all', # default\n#                               list_parm2update= ['St. var.', 'ZROOT0'],\n#                               DA_type='enkf_Evensen2009',\n#                               dict_parm_pert=var_per_dict_stacked,\n#                             )"
      ]
    }
  ],
  "metadata": {
    "kernelspec": {
      "display_name": "Python 3",
      "language": "python",
      "name": "python3"
    },
    "language_info": {
      "codemirror_mode": {
        "name": "ipython",
        "version": 3
      },
      "file_extension": ".py",
      "mimetype": "text/x-python",
      "name": "python",
      "nbconvert_exporter": "python",
      "pygments_lexer": "ipython3",
      "version": "3.10.16"
    }
  },
  "nbformat": 4,
  "nbformat_minor": 0
}