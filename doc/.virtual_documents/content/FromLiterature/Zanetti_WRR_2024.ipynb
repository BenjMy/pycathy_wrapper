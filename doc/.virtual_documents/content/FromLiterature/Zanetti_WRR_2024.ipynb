























import zipfile
import pooch
from pathlib import Path

odie = pooch.create(
    path=pooch.os_cache("my-project"),
    base_url="https://researchdata.cab.unipd.it/1092/",
    registry={
        "1/circular_catchment.zip": None,
        "2/elongated_catchment.zip": None,
        #"3/src.zip": None,
    },
)
circular_catchment_data = odie.fetch("1/circular_catchment.zip")
elongated_catchment_data = odie.fetch("2/elongated_catchment.zip")
#src_data = odie.fetch("3/src.zip")
extract_dir = Path('./Zanetti_WRR_2024/')
extract_dir.mkdir(parents=True, exist_ok=True)


# Unzip the file
with zipfile.ZipFile(elongated_catchment_data, 'r') as zip_ref:
      zip_ref.extractall(extract_dir)
# Unzip the file
with zipfile.ZipFile(circular_catchment_data, 'r') as zip_ref:
      zip_ref.extractall(extract_dir)
    





import os
import matplotlib.pyplot as plt
import numpy as np
from pyCATHY import cathy_tools
from pyCATHY.importers import cathy_inputs as in_CT
from pyCATHY.importers import cathy_outputs as out_CT
from pyCATHY.plotters import cathy_plots as cplt
from pyCATHY import CATHY

import matplotlib as mpl
# set some default plotting parameters for nicer looking plots
mpl.rcParams.update({"axes.grid":True, "grid.color":"gray", "grid.linestyle":'--','figure.figsize':(10,10)})





# Initiate a CATHY model
# ------------------------
Z_WRR_2024_scenarioCircular_50mmd = CATHY(dirName='./Zanetti_WRR_2024/circular_catchment/',
                                            prj_name='50mmd'
                                            )





Z_WRR_2024_scenarioCircular_20mmd = CATHY(dirName='./Zanetti_WRR_2024/circular_catchment/',
                                            prj_name='20mmd'
                                            )





Z_WRR_2024_scenarioElongated_50mmd = CATHY(dirName='./Zanetti_WRR_2024/elongated_catchment/',
                                            prj_name='50mmd'
                                            )


Z_WRR_2024_scenarioElongated_5mmh = CATHY(dirName='./Zanetti_WRR_2024/elongated_catchment/',
                                            prj_name='5mmh'
                                            )








DEM_circular, header_DEM = Z_WRR_2024_scenarioCircular_50mmd.read_inputs('dem')
DEM_elongated, header_DEM = Z_WRR_2024_scenarioElongated_50mmd.read_inputs('dem')
DEM_circular[DEM_circular==-9999] = np.nan
DEM_elongated[DEM_elongated==-9999] = np.nan


import cmcrameri.cm as cmc

fig, axs = plt.subplots(1,2)
img = axs[0].imshow(DEM_circular,vmin=280,vmax=550,cmap=cmc.batlow)
cbar = plt.colorbar(img,ax=axs[0],shrink=0.3)
cbar.set_label('m a.s.l')

img = axs[1].imshow(DEM_elongated,vmin=280,vmax=550,cmap=cmc.batlow)
cbar = plt.colorbar(img,ax=axs[1],shrink=0.3)
cbar.set_label('m a.s.l')



from mpl_toolkits.mplot3d import Axes3D
fig = plt.figure()
ax = fig.add_subplot(111, projection='3d')
Z_WRR_2024_scenarioCircular_50mmd.show_input(prop="dem",
                                             ax=ax,
                                              vmin=0
                                            )
ax.set_zlim([550,800])





# first we read and plot the current atmbc file 
# --------------------------------
fig, axs = plt.subplots(1,2,sharey=True,figsize=(8,3))
df_atmbc_50mmd = Z_WRR_2024_scenarioCircular_50mmd.read_inputs('atmbc')
df_atmbc_20mmd = Z_WRR_2024_scenarioCircular_20mmd.read_inputs('atmbc')

Z_WRR_2024_scenarioCircular_50mmd.show_input('atmbc',ax=axs[0])
axs[0].set_title('50mmd')
Z_WRR_2024_scenarioCircular_20mmd.show_input('atmbc',ax=axs[1], c='r', marker='v')
axs[1].set_title('20mmd')

df_atmbc_50mmd.value.to_list()








# help(Z_WRR_2024_scenarioCircular_50mmd.update_atmbc)











#simu.read_inputs('parm')
import pandas as pd
parm_file = os.path.join(Z_WRR_2024_scenarioElongated_50mmd.workdir,
                         Z_WRR_2024_scenarioElongated_50mmd.project_name,'input','parm')
parm = in_CT.read_parm(parm_file)
#print(parm)











#%% Another interesting graph looking at the **streamflow = f(time)**
fig, ax = plt.subplots(1,figsize=(7,4))
Z_WRR_2024_scenarioCircular_50mmd.show(prop="hgraph",ax=ax)
Z_WRR_2024_scenarioCircular_20mmd.show(prop="hgraph",ax=ax)
ax.legend(['50mmd','20mmd'])









threshold = 0.01;        # m3/s = 10 l/s


#%% read netris file
simu2plots = [Z_WRR_2024_scenarioElongated_5mmh,Z_WRR_2024_scenarioElongated_50mmd]
netris = []
for si in simu2plots:
    filename = os.path.join(si.workdir,
                            si.project_name,
                            'output/net.ris')
    netris.append(out_CT.read_netris(filename))


#%% read cq file and apply threshold
Q2plot = []
for i, si in enumerate(simu2plots):
    filename = os.path.join(si.workdir,
                            si.project_name,
                            'output/cq')
    cell_discharge = out_CT.read_cq(filename)
    cell_discharge_thresh = np.zeros(np.shape(cell_discharge)[0])
    for j in range(len(cell_discharge)):
        if cell_discharge[j,-1] <= threshold:
            cell_discharge_thresh[j] = 0
        else:
            cell_discharge_thresh[j] = 1
    QthresholdVAL = np.reshape(cell_discharge_thresh, 
                               (len(netris[i][:,0]), 
                                len(netris[i][0,:])),
                                order='F'
                                )
    QthresholdVAL = np.flipud(QthresholdVAL)
    QthresholdVAL[np.isnan(netris[i])] = np.nan
    QthresholdVAL[QthresholdVAL == 0] = np.nan
    Q2plot.append(QthresholdVAL)
    


# create mask of valid 
idx_Qvalid = []
idy_Qvalid = []
for qi in Q2plot:
    idx_Qvalid.append(np.where(qi==1)[1])
    idy_Qvalid.append(np.where(qi==1)[0])





fig, axs = plt.subplots(1,2)

img = axs[0].imshow(DEM_elongated,vmin=280,vmax=550,cmap=cmc.batlow)
img = axs[1].imshow(DEM_elongated,vmin=280,vmax=550,cmap=cmc.batlow)

cbar = plt.colorbar(img,ax=axs[0],shrink=0.3)
cbar = plt.colorbar(img,ax=axs[1],shrink=0.3)
cbar.set_label('m a.s.l')

axs[0].scatter(idx_Qvalid[0], 
           idy_Qvalid[0],
           color='r',
           s=2)
axs[0].set_title('5mm/h')
axs[1].scatter(idx_Qvalid[1], 
           idy_Qvalid[1],
           color='r',
           s=2)
axs[1].set_title('50mm/d')





