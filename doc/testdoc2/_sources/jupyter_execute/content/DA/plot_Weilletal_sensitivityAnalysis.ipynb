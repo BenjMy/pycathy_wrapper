{
 "cells": [
  {
   "cell_type": "markdown",
   "metadata": {},
   "source": [
    "\n",
    "# Sensitivity analysis\n",
    "\n",
    "Before run a Data Assimilation it is often necessary to evaluate the sensitivity of the model parameters with respect to a given scenario.\n",
    "In this example, we use the Weil et al dataset and generate 24 possible trajectories varying PERMX and POROS parameters respectively the hydraulic\n",
    "conductivity and the porosity of the soil. \n",
    " \n",
    "*Estimated time to run the notebook = 5min*\n"
   ]
  },
  {
   "cell_type": "code",
   "execution_count": 1,
   "metadata": {
    "collapsed": false
   },
   "outputs": [
    {
     "name": "stderr",
     "output_type": "stream",
     "text": [
      "/tmp/ipykernel_819529/1328196002.py:7: DeprecationWarning: \n",
      "Pyarrow will become a required dependency of pandas in the next major release of pandas (pandas 3.0),\n",
      "(to allow more performant data types, such as the Arrow string type, and better interoperability with other libraries)\n",
      "but was not found to be installed on your system.\n",
      "If this would cause problems for you,\n",
      "please provide us feedback at https://github.com/pandas-dev/pandas/issues/54466\n",
      "        \n",
      "  import pandas as pd\n"
     ]
    }
   ],
   "source": [
    "import multiprocessing\n",
    "import os\n",
    "import shutil\n",
    "\n",
    "import matplotlib.pyplot as plt\n",
    "import numpy as np\n",
    "import pandas as pd\n",
    "from SALib.analyze import morris as ma\n",
    "from SALib.plotting import morris as mp\n",
    "from SALib.sample import morris as ms\n",
    "\n",
    "from pyCATHY import cathy_tools\n",
    "from pyCATHY.cathy_tools import subprocess_run_multi"
   ]
  },
  {
   "cell_type": "code",
   "execution_count": 2,
   "metadata": {
    "collapsed": false
   },
   "outputs": [
    {
     "data": {
      "text/html": [
       "<pre style=\"white-space:pre;overflow-x:auto;line-height:normal;font-family:Menlo,'DejaVu Sans Mono',consolas,'Courier New',monospace\">🏁 <span style=\"font-weight: bold\">Initiate CATHY object</span>\n",
       "</pre>\n"
      ],
      "text/plain": [
       "🏁 \u001b[1mInitiate CATHY object\u001b[0m\n"
      ]
     },
     "metadata": {},
     "output_type": "display_data"
    },
    {
     "data": {
      "text/html": [
       "<pre style=\"white-space:pre;overflow-x:auto;line-height:normal;font-family:Menlo,'DejaVu Sans Mono',consolas,'Courier New',monospace\">😟 <span style=\"font-weight: bold\">src files not found</span>\n",
       "</pre>\n"
      ],
      "text/plain": [
       "😟 \u001b[1msrc files not found\u001b[0m\n"
      ]
     },
     "metadata": {},
     "output_type": "display_data"
    },
    {
     "data": {
      "text/html": [
       "<pre style=\"white-space:pre;overflow-x:auto;line-height:normal;font-family:Menlo,'DejaVu Sans Mono',consolas,'Courier New',monospace\">working directory \n",
       "is:<span style=\"color: #800080; text-decoration-color: #800080\">/home/</span><span style=\"color: #ff00ff; text-decoration-color: #ff00ff\">z0272571a</span>@CAMPUS.CSIC.ES/Nextcloud/BenCSIC/Codes/BenjMy/pycathy_wrapper/doc/content/DA/weil_exemple_sensit\n",
       "ivityAnalysis\n",
       "</pre>\n"
      ],
      "text/plain": [
       "working directory \n",
       "is:\u001b[35m/home/\u001b[0m\u001b[95mz0272571a\u001b[0m@CAMPUS.CSIC.ES/Nextcloud/BenCSIC/Codes/BenjMy/pycathy_wrapper/doc/content/DA/weil_exemple_sensit\n",
       "ivityAnalysis\n"
      ]
     },
     "metadata": {},
     "output_type": "display_data"
    },
    {
     "data": {
      "text/html": [
       "<pre style=\"white-space:pre;overflow-x:auto;line-height:normal;font-family:Menlo,'DejaVu Sans Mono',consolas,'Courier New',monospace\">📥 <span style=\"font-weight: bold\">Fetch cathy src files</span>\n",
       "</pre>\n"
      ],
      "text/plain": [
       "📥 \u001b[1mFetch cathy src files\u001b[0m\n"
      ]
     },
     "metadata": {},
     "output_type": "display_data"
    },
    {
     "data": {
      "text/html": [
       "<pre style=\"white-space:pre;overflow-x:auto;line-height:normal;font-family:Menlo,'DejaVu Sans Mono',consolas,'Courier New',monospace\">📥 <span style=\"font-weight: bold\">Fetch cathy prepro src files</span>\n",
       "</pre>\n"
      ],
      "text/plain": [
       "📥 \u001b[1mFetch cathy prepro src files\u001b[0m\n"
      ]
     },
     "metadata": {},
     "output_type": "display_data"
    },
    {
     "data": {
      "text/html": [
       "<pre style=\"white-space:pre;overflow-x:auto;line-height:normal;font-family:Menlo,'DejaVu Sans Mono',consolas,'Courier New',monospace\">📥 <span style=\"font-weight: bold\">Fetch cathy inputfiles</span>\n",
       "</pre>\n"
      ],
      "text/plain": [
       "📥 \u001b[1mFetch cathy inputfiles\u001b[0m\n"
      ]
     },
     "metadata": {},
     "output_type": "display_data"
    },
    {
     "data": {
      "text/html": [
       "<pre style=\"white-space:pre;overflow-x:auto;line-height:normal;font-family:Menlo,'DejaVu Sans Mono',consolas,'Courier New',monospace\">🍳 <span style=\"font-weight: bold\">gfortran compilation</span>\n",
       "</pre>\n"
      ],
      "text/plain": [
       "🍳 \u001b[1mgfortran compilation\u001b[0m\n"
      ]
     },
     "metadata": {},
     "output_type": "display_data"
    },
    {
     "data": {
      "text/html": [
       "<pre style=\"white-space:pre;overflow-x:auto;line-height:normal;font-family:Menlo,'DejaVu Sans Mono',consolas,'Courier New',monospace\">👟 <span style=\"font-weight: bold\">Run preprocessor</span>\n",
       "</pre>\n"
      ],
      "text/plain": [
       "👟 \u001b[1mRun preprocessor\u001b[0m\n"
      ]
     },
     "metadata": {},
     "output_type": "display_data"
    },
    {
     "data": {
      "text/html": [
       "<pre style=\"white-space:pre;overflow-x:auto;line-height:normal;font-family:Menlo,'DejaVu Sans Mono',consolas,'Courier New',monospace\">🔄 <span style=\"font-weight: bold\">update parm file </span>\n",
       "</pre>\n"
      ],
      "text/plain": [
       "🔄 \u001b[1mupdate parm file \u001b[0m\n"
      ]
     },
     "metadata": {},
     "output_type": "display_data"
    },
    {
     "data": {
      "text/html": [
       "<pre style=\"white-space:pre;overflow-x:auto;line-height:normal;font-family:Menlo,'DejaVu Sans Mono',consolas,'Courier New',monospace\"><span style=\"color: #808000; text-decoration-color: #808000\">─────────────────────────────────────────── </span>⚠ warning messages above ⚠<span style=\"color: #808000; text-decoration-color: #808000\"> ────────────────────────────────────────────</span>\n",
       "</pre>\n"
      ],
      "text/plain": [
       "\u001b[33m─────────────────────────────────────────── \u001b[0m⚠ warning messages above ⚠\u001b[33m ────────────────────────────────────────────\u001b[0m\n"
      ]
     },
     "metadata": {},
     "output_type": "display_data"
    },
    {
     "data": {
      "text/html": [
       "<pre style=\"white-space:pre;overflow-x:auto;line-height:normal;font-family:Menlo,'DejaVu Sans Mono',consolas,'Courier New',monospace\"><span style=\"color: #808000; text-decoration-color: #808000; font-weight: bold\">[</span><span style=\"color: #008000; text-decoration-color: #008000\">'Adjusting TMAX with respect to time of interests requested\\n'</span><span style=\"color: #808000; text-decoration-color: #808000; font-weight: bold\">]</span>\n",
       "</pre>\n"
      ],
      "text/plain": [
       "\u001b[1;33m[\u001b[0m\u001b[32m'Adjusting TMAX with respect to time of interests requested\\n'\u001b[0m\u001b[1;33m]\u001b[0m\n"
      ]
     },
     "metadata": {},
     "output_type": "display_data"
    },
    {
     "data": {
      "text/html": [
       "<pre style=\"white-space:pre;overflow-x:auto;line-height:normal;font-family:Menlo,'DejaVu Sans Mono',consolas,'Courier New',monospace\"><span style=\"color: #808000; text-decoration-color: #808000\">───────────────────────────────────────────────────────────────────────────────────────────────────────────────────</span>\n",
       "</pre>\n"
      ],
      "text/plain": [
       "\u001b[33m───────────────────────────────────────────────────────────────────────────────────────────────────────────────────\u001b[0m\n"
      ]
     },
     "metadata": {},
     "output_type": "display_data"
    },
    {
     "data": {
      "text/html": [
       "<pre style=\"white-space:pre;overflow-x:auto;line-height:normal;font-family:Menlo,'DejaVu Sans Mono',consolas,'Courier New',monospace\">🔄 <span style=\"font-weight: bold\">Update hap.in file</span>\n",
       "</pre>\n"
      ],
      "text/plain": [
       "🔄 \u001b[1mUpdate hap.in file\u001b[0m\n"
      ]
     },
     "metadata": {},
     "output_type": "display_data"
    },
    {
     "data": {
      "text/html": [
       "<pre style=\"white-space:pre;overflow-x:auto;line-height:normal;font-family:Menlo,'DejaVu Sans Mono',consolas,'Courier New',monospace\">🔄 <span style=\"font-weight: bold\">update dem_parameters file </span>\n",
       "</pre>\n"
      ],
      "text/plain": [
       "🔄 \u001b[1mupdate dem_parameters file \u001b[0m\n"
      ]
     },
     "metadata": {},
     "output_type": "display_data"
    },
    {
     "data": {
      "text/html": [
       "<pre style=\"white-space:pre;overflow-x:auto;line-height:normal;font-family:Menlo,'DejaVu Sans Mono',consolas,'Courier New',monospace\">🔄 <span style=\"font-weight: bold\">update dem_parameters file </span>\n",
       "</pre>\n"
      ],
      "text/plain": [
       "🔄 \u001b[1mupdate dem_parameters file \u001b[0m\n"
      ]
     },
     "metadata": {},
     "output_type": "display_data"
    },
    {
     "data": {
      "text/html": [
       "<pre style=\"white-space:pre;overflow-x:auto;line-height:normal;font-family:Menlo,'DejaVu Sans Mono',consolas,'Courier New',monospace\">🛠 <span style=\"font-weight: bold\"> Recompile src files</span> <span style=\"font-weight: bold\">[</span>4s<span style=\"font-weight: bold\">]</span>\n",
       "</pre>\n"
      ],
      "text/plain": [
       "🛠 \u001b[1m Recompile src files\u001b[0m \u001b[1m[\u001b[0m4s\u001b[1m]\u001b[0m\n"
      ]
     },
     "metadata": {},
     "output_type": "display_data"
    },
    {
     "data": {
      "text/html": [
       "<pre style=\"white-space:pre;overflow-x:auto;line-height:normal;font-family:Menlo,'DejaVu Sans Mono',consolas,'Courier New',monospace\">🍳 <span style=\"font-weight: bold\">gfortran compilation</span> <span style=\"font-weight: bold\">[</span>8s<span style=\"font-weight: bold\">]</span>\n",
       "</pre>\n"
      ],
      "text/plain": [
       "🍳 \u001b[1mgfortran compilation\u001b[0m \u001b[1m[\u001b[0m8s\u001b[1m]\u001b[0m\n"
      ]
     },
     "metadata": {},
     "output_type": "display_data"
    },
    {
     "data": {
      "text/html": [
       "<pre style=\"white-space:pre;overflow-x:auto;line-height:normal;font-family:Menlo,'DejaVu Sans Mono',consolas,'Courier New',monospace\"><span style=\"color: #008000; text-decoration-color: #008000\">b''</span>\n",
       "</pre>\n"
      ],
      "text/plain": [
       "\u001b[32mb''\u001b[0m\n"
      ]
     },
     "metadata": {},
     "output_type": "display_data"
    },
    {
     "data": {
      "text/html": [
       "<pre style=\"white-space:pre;overflow-x:auto;line-height:normal;font-family:Menlo,'DejaVu Sans Mono',consolas,'Courier New',monospace\">👟 <span style=\"font-weight: bold\">Run processor</span>\n",
       "</pre>\n"
      ],
      "text/plain": [
       "👟 \u001b[1mRun processor\u001b[0m\n"
      ]
     },
     "metadata": {},
     "output_type": "display_data"
    },
    {
     "ename": "KeyboardInterrupt",
     "evalue": "",
     "output_type": "error",
     "traceback": [
      "\u001b[0;31m---------------------------------------------------------------------------\u001b[0m",
      "\u001b[0;31mKeyboardInterrupt\u001b[0m                         Traceback (most recent call last)",
      "Cell \u001b[0;32mIn[2], line 7\u001b[0m\n\u001b[1;32m      3\u001b[0m simu \u001b[38;5;241m=\u001b[39m cathy_tools\u001b[38;5;241m.\u001b[39mCATHY(\n\u001b[1;32m      4\u001b[0m     dirName\u001b[38;5;241m=\u001b[39mpath2prj, prj_name\u001b[38;5;241m=\u001b[39mprj_name, clear_src\u001b[38;5;241m=\u001b[39m\u001b[38;5;28;01mFalse\u001b[39;00m, clear_outputs\u001b[38;5;241m=\u001b[39m\u001b[38;5;28;01mTrue\u001b[39;00m\n\u001b[1;32m      5\u001b[0m )\n\u001b[1;32m      6\u001b[0m simu\u001b[38;5;241m.\u001b[39mrun_preprocessor(verbose\u001b[38;5;241m=\u001b[39m\u001b[38;5;28;01mFalse\u001b[39;00m)\n\u001b[0;32m----> 7\u001b[0m \u001b[43msimu\u001b[49m\u001b[38;5;241;43m.\u001b[39;49m\u001b[43mrun_processor\u001b[49m\u001b[43m(\u001b[49m\u001b[43mverbose\u001b[49m\u001b[38;5;241;43m=\u001b[39;49m\u001b[38;5;28;43;01mTrue\u001b[39;49;00m\u001b[43m)\u001b[49m\n\u001b[1;32m      9\u001b[0m SPP_map \u001b[38;5;241m=\u001b[39m simu\u001b[38;5;241m.\u001b[39mset_SOIL_defaults(SPP_map_default\u001b[38;5;241m=\u001b[39m\u001b[38;5;28;01mTrue\u001b[39;00m)\n\u001b[1;32m     10\u001b[0m dpsi \u001b[38;5;241m=\u001b[39m simu\u001b[38;5;241m.\u001b[39mread_outputs(\u001b[38;5;124m\"\u001b[39m\u001b[38;5;124mpsi\u001b[39m\u001b[38;5;124m\"\u001b[39m)\n",
      "File \u001b[0;32m~/miniconda3/envs/pyCATHY_doc/lib/python3.10/site-packages/pyCATHY-0.1.1-py3.10.egg/pyCATHY/cathy_tools.py:566\u001b[0m, in \u001b[0;36mCATHY.run_processor\u001b[0;34m(self, recompile, runProcess, verbose, **kwargs)\u001b[0m\n\u001b[1;32m    564\u001b[0m \u001b[38;5;28;01mwith\u001b[39;00m warnings\u001b[38;5;241m.\u001b[39mcatch_warnings():\n\u001b[1;32m    565\u001b[0m     warnings\u001b[38;5;241m.\u001b[39msimplefilter(\u001b[38;5;124m\"\u001b[39m\u001b[38;5;124mignore\u001b[39m\u001b[38;5;124m\"\u001b[39m)\n\u001b[0;32m--> 566\u001b[0m     p \u001b[38;5;241m=\u001b[39m \u001b[43msubprocess\u001b[49m\u001b[38;5;241;43m.\u001b[39;49m\u001b[43mrun\u001b[49m\u001b[43m(\u001b[49m\n\u001b[1;32m    567\u001b[0m \u001b[43m        \u001b[49m\u001b[43m[\u001b[49m\u001b[43mcallexe\u001b[49m\u001b[43m]\u001b[49m\u001b[43m,\u001b[49m\n\u001b[1;32m    568\u001b[0m \u001b[43m        \u001b[49m\u001b[38;5;66;43;03m# text=True,\u001b[39;49;00m\n\u001b[1;32m    569\u001b[0m \u001b[43m        \u001b[49m\u001b[38;5;66;43;03m# capture_output=True,\u001b[39;49;00m\n\u001b[1;32m    570\u001b[0m \u001b[43m        \u001b[49m\u001b[43mstdout\u001b[49m\u001b[38;5;241;43m=\u001b[39;49m\u001b[43msubprocess\u001b[49m\u001b[38;5;241;43m.\u001b[39;49m\u001b[43mPIPE\u001b[49m\u001b[43m,\u001b[49m\n\u001b[1;32m    571\u001b[0m \u001b[43m        \u001b[49m\u001b[43mstderr\u001b[49m\u001b[38;5;241;43m=\u001b[39;49m\u001b[43msubprocess\u001b[49m\u001b[38;5;241;43m.\u001b[39;49m\u001b[43mPIPE\u001b[49m\u001b[43m,\u001b[49m\n\u001b[1;32m    572\u001b[0m \u001b[43m    \u001b[49m\u001b[43m)\u001b[49m\n\u001b[1;32m    573\u001b[0m \u001b[38;5;28;01mif\u001b[39;00m verbose:\n\u001b[1;32m    574\u001b[0m     \u001b[38;5;28mprint\u001b[39m(p\u001b[38;5;241m.\u001b[39mstdout)\n",
      "File \u001b[0;32m~/miniconda3/envs/pyCATHY_doc/lib/python3.10/subprocess.py:505\u001b[0m, in \u001b[0;36mrun\u001b[0;34m(input, capture_output, timeout, check, *popenargs, **kwargs)\u001b[0m\n\u001b[1;32m    503\u001b[0m \u001b[38;5;28;01mwith\u001b[39;00m Popen(\u001b[38;5;241m*\u001b[39mpopenargs, \u001b[38;5;241m*\u001b[39m\u001b[38;5;241m*\u001b[39mkwargs) \u001b[38;5;28;01mas\u001b[39;00m process:\n\u001b[1;32m    504\u001b[0m     \u001b[38;5;28;01mtry\u001b[39;00m:\n\u001b[0;32m--> 505\u001b[0m         stdout, stderr \u001b[38;5;241m=\u001b[39m \u001b[43mprocess\u001b[49m\u001b[38;5;241;43m.\u001b[39;49m\u001b[43mcommunicate\u001b[49m\u001b[43m(\u001b[49m\u001b[38;5;28;43minput\u001b[39;49m\u001b[43m,\u001b[49m\u001b[43m \u001b[49m\u001b[43mtimeout\u001b[49m\u001b[38;5;241;43m=\u001b[39;49m\u001b[43mtimeout\u001b[49m\u001b[43m)\u001b[49m\n\u001b[1;32m    506\u001b[0m     \u001b[38;5;28;01mexcept\u001b[39;00m TimeoutExpired \u001b[38;5;28;01mas\u001b[39;00m exc:\n\u001b[1;32m    507\u001b[0m         process\u001b[38;5;241m.\u001b[39mkill()\n",
      "File \u001b[0;32m~/miniconda3/envs/pyCATHY_doc/lib/python3.10/subprocess.py:1154\u001b[0m, in \u001b[0;36mPopen.communicate\u001b[0;34m(self, input, timeout)\u001b[0m\n\u001b[1;32m   1151\u001b[0m     endtime \u001b[38;5;241m=\u001b[39m \u001b[38;5;28;01mNone\u001b[39;00m\n\u001b[1;32m   1153\u001b[0m \u001b[38;5;28;01mtry\u001b[39;00m:\n\u001b[0;32m-> 1154\u001b[0m     stdout, stderr \u001b[38;5;241m=\u001b[39m \u001b[38;5;28;43mself\u001b[39;49m\u001b[38;5;241;43m.\u001b[39;49m\u001b[43m_communicate\u001b[49m\u001b[43m(\u001b[49m\u001b[38;5;28;43minput\u001b[39;49m\u001b[43m,\u001b[49m\u001b[43m \u001b[49m\u001b[43mendtime\u001b[49m\u001b[43m,\u001b[49m\u001b[43m \u001b[49m\u001b[43mtimeout\u001b[49m\u001b[43m)\u001b[49m\n\u001b[1;32m   1155\u001b[0m \u001b[38;5;28;01mexcept\u001b[39;00m \u001b[38;5;167;01mKeyboardInterrupt\u001b[39;00m:\n\u001b[1;32m   1156\u001b[0m     \u001b[38;5;66;03m# https://bugs.python.org/issue25942\u001b[39;00m\n\u001b[1;32m   1157\u001b[0m     \u001b[38;5;66;03m# See the detailed comment in .wait().\u001b[39;00m\n\u001b[1;32m   1158\u001b[0m     \u001b[38;5;28;01mif\u001b[39;00m timeout \u001b[38;5;129;01mis\u001b[39;00m \u001b[38;5;129;01mnot\u001b[39;00m \u001b[38;5;28;01mNone\u001b[39;00m:\n",
      "File \u001b[0;32m~/miniconda3/envs/pyCATHY_doc/lib/python3.10/subprocess.py:2021\u001b[0m, in \u001b[0;36mPopen._communicate\u001b[0;34m(self, input, endtime, orig_timeout)\u001b[0m\n\u001b[1;32m   2014\u001b[0m     \u001b[38;5;28mself\u001b[39m\u001b[38;5;241m.\u001b[39m_check_timeout(endtime, orig_timeout,\n\u001b[1;32m   2015\u001b[0m                         stdout, stderr,\n\u001b[1;32m   2016\u001b[0m                         skip_check_and_raise\u001b[38;5;241m=\u001b[39m\u001b[38;5;28;01mTrue\u001b[39;00m)\n\u001b[1;32m   2017\u001b[0m     \u001b[38;5;28;01mraise\u001b[39;00m \u001b[38;5;167;01mRuntimeError\u001b[39;00m(  \u001b[38;5;66;03m# Impossible :)\u001b[39;00m\n\u001b[1;32m   2018\u001b[0m         \u001b[38;5;124m'\u001b[39m\u001b[38;5;124m_check_timeout(..., skip_check_and_raise=True) \u001b[39m\u001b[38;5;124m'\u001b[39m\n\u001b[1;32m   2019\u001b[0m         \u001b[38;5;124m'\u001b[39m\u001b[38;5;124mfailed to raise TimeoutExpired.\u001b[39m\u001b[38;5;124m'\u001b[39m)\n\u001b[0;32m-> 2021\u001b[0m ready \u001b[38;5;241m=\u001b[39m \u001b[43mselector\u001b[49m\u001b[38;5;241;43m.\u001b[39;49m\u001b[43mselect\u001b[49m\u001b[43m(\u001b[49m\u001b[43mtimeout\u001b[49m\u001b[43m)\u001b[49m\n\u001b[1;32m   2022\u001b[0m \u001b[38;5;28mself\u001b[39m\u001b[38;5;241m.\u001b[39m_check_timeout(endtime, orig_timeout, stdout, stderr)\n\u001b[1;32m   2024\u001b[0m \u001b[38;5;66;03m# XXX Rewrite these to use non-blocking I/O on the file\u001b[39;00m\n\u001b[1;32m   2025\u001b[0m \u001b[38;5;66;03m# objects; they are no longer using C stdio!\u001b[39;00m\n",
      "File \u001b[0;32m~/miniconda3/envs/pyCATHY_doc/lib/python3.10/selectors.py:416\u001b[0m, in \u001b[0;36m_PollLikeSelector.select\u001b[0;34m(self, timeout)\u001b[0m\n\u001b[1;32m    414\u001b[0m ready \u001b[38;5;241m=\u001b[39m []\n\u001b[1;32m    415\u001b[0m \u001b[38;5;28;01mtry\u001b[39;00m:\n\u001b[0;32m--> 416\u001b[0m     fd_event_list \u001b[38;5;241m=\u001b[39m \u001b[38;5;28;43mself\u001b[39;49m\u001b[38;5;241;43m.\u001b[39;49m\u001b[43m_selector\u001b[49m\u001b[38;5;241;43m.\u001b[39;49m\u001b[43mpoll\u001b[49m\u001b[43m(\u001b[49m\u001b[43mtimeout\u001b[49m\u001b[43m)\u001b[49m\n\u001b[1;32m    417\u001b[0m \u001b[38;5;28;01mexcept\u001b[39;00m \u001b[38;5;167;01mInterruptedError\u001b[39;00m:\n\u001b[1;32m    418\u001b[0m     \u001b[38;5;28;01mreturn\u001b[39;00m ready\n",
      "\u001b[0;31mKeyboardInterrupt\u001b[0m: "
     ]
    }
   ],
   "source": [
    "prj_name = \"test0\"\n",
    "path2prj = \"weil_exemple_sensitivityAnalysis\"  # add your local path here\n",
    "simu = cathy_tools.CATHY(\n",
    "    dirName=path2prj, prj_name=prj_name, clear_src=False, clear_outputs=True\n",
    ")\n",
    "simu.run_preprocessor(verbose=False)\n",
    "simu.run_processor(verbose=True)\n",
    "\n",
    "SPP_map = simu.set_SOIL_defaults(SPP_map_default=True)\n",
    "dpsi = simu.read_outputs(\"psi\")\n",
    "dsw, _ = simu.read_outputs(\"sw\")\n",
    "\n",
    "obs_data = np.hstack(dsw)\n",
    "len(obs_data)"
   ]
  },
  {
   "cell_type": "markdown",
   "metadata": {},
   "source": [
    "number of variables, their names, plausible range and if you want to group or not the variable\n",
    "\n"
   ]
  },
  {
   "cell_type": "code",
   "execution_count": null,
   "metadata": {
    "collapsed": false
   },
   "outputs": [],
   "source": [
    "morris_problem = {\n",
    "    # There are six variables\n",
    "    \"num_vars\": 2,\n",
    "    # These are their names\n",
    "    \"names\": [\"PERMX\", \"POROS\"],\n",
    "    # Plausible ranges over which we'll move the variables\n",
    "    \"bounds\": [\n",
    "        [1e-5, 1e-3],  # Ks\n",
    "        [0.4, 0.6],  # porosity\n",
    "    ],\n",
    "    # I don't want to group any of these variables together\n",
    "    \"groups\": None,\n",
    "}"
   ]
  },
  {
   "cell_type": "code",
   "execution_count": null,
   "metadata": {
    "collapsed": false
   },
   "outputs": [],
   "source": [
    "number_of_trajectories = 2\n",
    "sample = ms.sample(morris_problem, number_of_trajectories, num_levels=4)\n",
    "# sample = saltelli.sample(morris_problem, number_of_trajectories, num_levels=4)\n",
    "# sample = saltelli.sample(problem, 1024)\n",
    "df_sample = pd.DataFrame(sample, columns=morris_problem[\"names\"])\n",
    "df_sample.index.name = \"sample\"\n",
    "for p in morris_problem[\"names\"]:\n",
    "    df_sample[\"dev_\" + p] = 1e2 * (df_sample[p] - SPP_map[p]) / SPP_map[p]\n",
    "fig, ax = plt.subplots()\n",
    "mp.sample_histograms(fig, sample, morris_problem)"
   ]
  },
  {
   "cell_type": "code",
   "execution_count": null,
   "metadata": {
    "collapsed": false
   },
   "outputs": [],
   "source": [
    "pathexe_list = []\n",
    "simu_ensemble = np.zeros((len(obs_data), len(sample)))\n",
    "for ii in range(0, len(sample)):\n",
    "    path_exe = os.path.join(\n",
    "        simu.workdir, prj_name + \"_sensitivity\", \"sample\" + str(ii + 1)\n",
    "    )\n",
    "    pathexe_list.append(path_exe)\n",
    "    if os.path.exists(\n",
    "        os.path.join(simu.workdir, prj_name + \"_sensitivity\", \"sample\" + str(ii + 1))\n",
    "    ):\n",
    "        continue\n",
    "    else:\n",
    "        shutil.copytree(\n",
    "            prj_name,\n",
    "            os.path.join(\n",
    "                simu.workdir, prj_name + \"_sensitivity\", \"sample\" + str(ii + 1)\n",
    "            ),\n",
    "        )"
   ]
  },
  {
   "cell_type": "code",
   "execution_count": null,
   "metadata": {
    "collapsed": false
   },
   "outputs": [],
   "source": [
    "for ii in range(0, len(sample)):\n",
    "    PERMX = PERMY = PERMZ = sample[ii, 0]\n",
    "    POROS = sample[ii, 1]\n",
    "    SoilPhysProp = {\n",
    "        \"PERMX\": PERMX,\n",
    "        \"PERMY\": PERMY,\n",
    "        \"PERMZ\": PERMZ,\n",
    "        \"ELSTOR\": SPP_map[\"ELSTOR\"],\n",
    "        \"POROS\": POROS,\n",
    "        \"VGNCELL\": SPP_map[\"VGNCELL\"],\n",
    "        \"VGRMCCELL\": SPP_map[\"VGRMCCELL\"],\n",
    "        \"VGPSATCELL\": SPP_map[\"VGPSATCELL\"],\n",
    "    }\n",
    "\n",
    "    simu.update_soil(SPP_map=SoilPhysProp, path=pathexe_list[ii] + \"/input/\")"
   ]
  },
  {
   "cell_type": "code",
   "execution_count": null,
   "metadata": {
    "collapsed": false
   },
   "outputs": [],
   "source": [
    "with multiprocessing.Pool(processes=multiprocessing.cpu_count()) as pool:\n",
    "    result = pool.map(subprocess_run_multi, pathexe_list)"
   ]
  },
  {
   "cell_type": "code",
   "execution_count": null,
   "metadata": {
    "collapsed": false
   },
   "outputs": [],
   "source": [
    "simu_ensemble = np.zeros((len(obs_data), len(sample)))\n",
    "for ii in range(0, len(sample)):\n",
    "    dpsi = simu.read_outputs(\"psi\", path=pathexe_list[ii] + \"/output/\")\n",
    "    dsw, _ = simu.read_outputs(\"sw\", path=pathexe_list[ii] + \"/output/\")\n",
    "    simu_ensemble[:, ii] = np.hstack(dsw)\n",
    "\n",
    "# Perform the sensitivity analysis using the model output\n",
    "# Specify which column of the output file to analyze (zero-indexed)\n",
    "# Si = ma.analyze(\n",
    "#     morris_problem,\n",
    "#     sample,\n",
    "#     rmse,\n",
    "#     conf_level=0.95,\n",
    "#     print_to_console=True,\n",
    "# )\n",
    "# Returns a dictionary with keys 'mu', 'mu_star', 'sigma', and 'mu_star_conf'\n",
    "# e.g. Si['mu_star'] contains the mu* value for each parameter, in the\n",
    "# same order as the parameter file\n",
    "\n",
    "from SALib.plotting.morris import (\n",
    "    covariance_plot,\n",
    "    horizontal_bar_plot,\n",
    "    sample_histograms,\n",
    ")\n",
    "\n",
    "# fig, (ax1, ax2) = plt.subplots(1, 2)\n",
    "# horizontal_bar_plot(ax1, Si, {}, sortby=\"mu_star\", unit=r\"tCO$_2$/year\")\n",
    "# covariance_plot(ax2, Si, {}, unit=r\"tCO$_2$/year\")\n",
    "\n",
    "# fig2 = plt.figure()\n",
    "# sample_histograms(fig2, sample, morris_problem, {\"color\": \"y\"})\n",
    "# plt.show()"
   ]
  },
  {
   "cell_type": "code",
   "execution_count": null,
   "metadata": {
    "collapsed": false
   },
   "outputs": [],
   "source": [
    "def err_weighted_rmse(sim, obs, noise):\n",
    "    y = np.divide(sim - obs, noise)  # weighted data misfit\n",
    "    y = np.sqrt(np.inner(y, y))\n",
    "    return y"
   ]
  },
  {
   "cell_type": "code",
   "execution_count": null,
   "metadata": {
    "collapsed": false
   },
   "outputs": [],
   "source": [
    "rmse = np.zeros((1, len(sample)))\n",
    "for ii in range(0, len(sample)):\n",
    "    rmse[0, ii] = err_weighted_rmse(\n",
    "        simu_ensemble[:, ii], obs_data, 0.025 * obs_data\n",
    "    )  # assume 2.5% noise in the data"
   ]
  },
  {
   "cell_type": "code",
   "execution_count": null,
   "metadata": {
    "collapsed": false
   },
   "outputs": [],
   "source": [
    "Si = ma.analyze(morris_problem, sample, rmse, print_to_console=True)\n",
    "\n",
    "print(\"{:20s} {:>7s} {:>7s} {:>7s}\".format(\"Name\", \"mean(EE)\", \"mean(|EE|)\", \"std(EE)\"))\n",
    "for name, s1, st, mean in zip(\n",
    "    morris_problem[\"names\"], Si[\"mu\"], Si[\"mu_star\"], Si[\"sigma\"]\n",
    "):\n",
    "    print(\"{:20s} {:=7.3f} {:=7.3f} {:=7.3f}\".format(name, s1, st, mean))\n",
    "\n",
    "# total_Si, first_Si, second_Si = Si.to_df()"
   ]
  },
  {
   "cell_type": "code",
   "execution_count": null,
   "metadata": {
    "collapsed": false
   },
   "outputs": [],
   "source": [
    "fig, ax = plt.subplots()\n",
    "mp.covariance_plot(ax, Si)"
   ]
  },
  {
   "cell_type": "markdown",
   "metadata": {},
   "source": [
    "The higher mean |EE|, the more important factor\n",
    "line within the dashed envelope means nonlinear or interaction effects dominant\n",
    "\n"
   ]
  },
  {
   "cell_type": "code",
   "execution_count": null,
   "metadata": {
    "collapsed": false
   },
   "outputs": [],
   "source": [
    "fig, ax = plt.subplots()\n",
    "ax.scatter(Si[\"mu_star\"], Si[\"sigma\"])\n",
    "# ax.plot(Si['mu_star'],2*Si['sigma']/np.sqrt(number_of_trajectories),'--',alpha=0.5)\n",
    "# ax.plot(np.array([0,Si['mu_star'][0]]),2*np.array([0,Si['sigma'][0]/np.sqrt(number_of_trajectories)]),'--',alpha=0.5)\n",
    "\n",
    "plt.title(\"Distribution of Elementary effects\")\n",
    "plt.xlabel(\"mean(|EE|)\")\n",
    "plt.ylabel(\"std($EE$)\")\n",
    "for i, txt in enumerate(Si[\"names\"]):\n",
    "    ax.annotate(txt, (Si[\"mu_star\"][i], Si[\"sigma\"][i]))"
   ]
  }
 ],
 "metadata": {
  "kernelspec": {
   "display_name": "Python 3",
   "language": "python",
   "name": "python3"
  },
  "language_info": {
   "codemirror_mode": {
    "name": "ipython",
    "version": 3
   },
   "file_extension": ".py",
   "mimetype": "text/x-python",
   "name": "python",
   "nbconvert_exporter": "python",
   "pygments_lexer": "ipython3",
   "version": "3.10.13"
  }
 },
 "nbformat": 4,
 "nbformat_minor": 0
}