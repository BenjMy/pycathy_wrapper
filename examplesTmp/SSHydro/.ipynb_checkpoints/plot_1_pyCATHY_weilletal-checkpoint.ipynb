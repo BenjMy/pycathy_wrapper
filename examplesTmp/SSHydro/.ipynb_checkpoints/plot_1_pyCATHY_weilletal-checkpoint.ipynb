{
 "cells": [
  {
   "cell_type": "markdown",
   "id": "a421e33f-58b1-476b-a9b3-0f574a9b83f3",
   "metadata": {},
   "source": [
    "# Weill et al example\n",
    "\n",
    "\n",
    "Weill, S., et al. « Coupling Water Flow and Solute Transport into a Physically-Based Surface–Subsurface Hydrological Model ». \n",
    "Advances in Water Resources, vol. 34, no 1, janvier 2011, p. 128‑36. DOI.org (Crossref), \n",
    "https://doi.org/10.1016/j.advwatres.2010.10.001.\n",
    "\n",
    "The CATHY gitbucket repository provides the Weill et al. dataset example to test the installation. On top of that, we provide a computational notebook code to reproduce the results using the **pyCATHY wrapper** (https://github.com/BenjMy/pycathy_wrapper). \n",
    "\n",
    "The notebook illustrate how to work interactively: execute single cell, see partial results at different processing steps (preprocessing, processing, output)... You can share it to work collaboratively on it by sharing the link and execute it from another PC without any installation required.\n",
    "\n",
    "\n",
    "*Estimated time to run the notebook = 5min*"
   ]
  },
  {
   "cell_type": "code",
   "execution_count": null,
   "id": "af6a3b7e-285c-42a8-a9a3-605a9c59757a",
   "metadata": {},
   "outputs": [],
   "source": [
    "from pyCATHY import cathy_tools\n",
    "from pyCATHY.plotters import cathy_plots as cplt\n",
    "import pyvista as pv"
   ]
  },
  {
   "cell_type": "code",
   "execution_count": null,
   "id": "4f6fa9d3-b845-457d-9fbd-86f5ce258c12",
   "metadata": {},
   "outputs": [],
   "source": [
    "path2prj = \"../SSHydro/\"  # add your local path here\n",
    "simu = cathy_tools.CATHY(dirName=path2prj, \n",
    "\t\t\tprj_name=\"weill_exemple\"\n",
    "\t\t\t)"
   ]
  },
  {
   "cell_type": "code",
   "execution_count": null,
   "id": "bee973fa-eef2-4c07-a762-422b051ca407",
   "metadata": {},
   "outputs": [],
   "source": [
    "simu.run_preprocessor(verbose=False)"
   ]
  },
  {
   "cell_type": "code",
   "execution_count": null,
   "id": "9379250c-ecfa-4778-b9fc-5edbe7999d23",
   "metadata": {},
   "outputs": [],
   "source": [
    "simu.update_parm(TIMPRTi=[1800,7200])\n",
    "simu.parm"
   ]
  },
  {
   "cell_type": "code",
   "execution_count": null,
   "id": "af349de8-a849-414c-b8fe-c6564f5226b3",
   "metadata": {},
   "outputs": [],
   "source": [
    "simu.run_processor(IPRT1=2, \n",
    "                    DTMIN=1e-2,\n",
    "                    DTMAX=1e2,\n",
    "                    DELTAT=5,\n",
    "                   TRAFLAG=0,\n",
    "                   verbose=False\n",
    "                  )"
   ]
  },
  {
   "cell_type": "code",
   "execution_count": null,
   "id": "e9ed55eb-de54-495c-8c9f-732430d7dbd7",
   "metadata": {},
   "outputs": [],
   "source": [
    "\n",
    "pl = pv.Plotter(notebook=False)\n",
    "cplt.show_vtk(unit=\"pressure\", \n",
    "              timeStep=1, \n",
    "              path=simu.workdir + \"/weill_exemple/vtk/\",\n",
    "              ax=pl,\n",
    "              )\n",
    "pl.show()"
   ]
  },
  {
   "cell_type": "code",
   "execution_count": null,
   "id": "0e103d23-8102-47ba-9d57-e76d9e649e46",
   "metadata": {},
   "outputs": [],
   "source": [
    "#%%\n",
    "pl = pv.Plotter(notebook=True)\n",
    "cplt.show_vtk(unit=\"pressure\", \n",
    "              timeStep=1, \n",
    "              path=simu.workdir + \"/weill_exemple/vtk/\",\n",
    "              ax=pl,\n",
    "              )\n",
    "pl.show()"
   ]
  }
 ],
 "metadata": {
  "kernelspec": {
   "display_name": "Python 3 (ipykernel)",
   "language": "python",
   "name": "python3"
  },
  "language_info": {
   "codemirror_mode": {
    "name": "ipython",
    "version": 3
   },
   "file_extension": ".py",
   "mimetype": "text/x-python",
   "name": "python",
   "nbconvert_exporter": "python",
   "pygments_lexer": "ipython3",
   "version": "3.10.13"
  }
 },
 "nbformat": 4,
 "nbformat_minor": 5
}
